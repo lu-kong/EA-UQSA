{
 "cells": [
  {
   "cell_type": "markdown",
   "metadata": {},
   "source": [
    "### 3.1 Simple Robbins Monro"
   ]
  },
  {
   "cell_type": "markdown",
   "metadata": {},
   "source": [
    "Write the first order budget constraint as :$$F(w) = E[(R-\\mu)(R-\\mu)']w + \\lambda \\mathbf{1}_n = Sw + \\lambda \\mathbf{1}_n=0,$$ \n",
    "We can write $F(w) = E(f(w, R)),$ where $$f(w,R) = (R-\\mu)(R-\\mu)'w + \\lambda\\mathbf{1}_n$$\n",
    "We can easily verify the 2 hypothesis: \n",
    "\n",
    "* if $w*$ is the solution, $\\forall w\\in \\mathbb{R}^n$,\n",
    "\\begin{eqnarray}\n",
    " \\langle w - w*, F(w)\\rangle &=& \\langle w-w*, Sw + \\lambda \\mathbf{1}_n\\rangle \\\\\n",
    " &=& \\langle w-w*, S(w-w*) + Sw*+ \\lambda \\mathbf{1}_n\\rangle \\\\\n",
    " &=&\\langle w-w*, S(w-w*)\\rangle >0\n",
    "\\end{eqnarray}\n",
    "\n",
    "* $\\forall w\\in \\mathbb{R}^n, E(f^2(w, R)) = E(w^TA^2w+2\\lambda w^TA\\mathbf{1}_n+n\\lambda^2)= w^TE(A^2)w + 2\\lambda w^TS\\mathbf{1}_n +n\\lambda^2\\leq C(1+|w|^2),$ when $C$ is quite large. "
   ]
  },
  {
   "cell_type": "code",
   "execution_count": 1,
   "metadata": {},
   "outputs": [],
   "source": [
    "import numpy as np\n",
    "import scipy \n",
    "import scipy.linalg\n",
    "from tqdm import tqdm"
   ]
  },
  {
   "cell_type": "code",
   "execution_count": 2,
   "metadata": {},
   "outputs": [],
   "source": [
    "n = 3\n",
    "mu = np.array([.05, .07, .06])\n",
    "D = np.diag([.1, .14, .02])\n",
    "rho = 0.5\n",
    "K = np.array([[1, rho, 0],\n",
    "             [rho, 1, rho],\n",
    "             [0, rho, 1]])\n",
    "\n",
    "S = np.matmul(np.matmul(D, K), D)"
   ]
  },
  {
   "cell_type": "code",
   "execution_count": 10,
   "metadata": {},
   "outputs": [],
   "source": [
    "def f(w, x):\n",
    "    t1 = x.reshape(n, 1)\n",
    "    t2 = mu.reshape(n, 1)\n",
    "    return np.matmul((t1 - t2)*((t1 - t2).T), w) + 0.0003*np.ones((n, 1))+t1\n"
   ]
  },
  {
   "cell_type": "code",
   "execution_count": 2,
   "metadata": {},
   "outputs": [],
   "source": [
    "from tqdm import tqdm"
   ]
  },
  {
   "cell_type": "code",
   "execution_count": 8,
   "metadata": {},
   "outputs": [
    {
     "name": "stderr",
     "output_type": "stream",
     "text": [
      "100%|███████████████████████████████████████████████████████████████████| 10000000/10000000 [01:44<00:00, 96023.75it/s]\n"
     ]
    },
    {
     "data": {
      "text/plain": [
       "array([[ 0.09030035],\n",
       "       [-0.08923585],\n",
       "       [ 0.9989355 ]])"
      ]
     },
     "execution_count": 8,
     "metadata": {},
     "output_type": "execute_result"
    }
   ],
   "source": [
    "w0 = np.ones((n, 1))\n",
    "N = 1000000\n",
    "R = np.random.multivariate_normal(mu, S, N)\n",
    "for i in tqdm(range(N)):\n",
    "    w0 = w0 - 1000*f(w0, R[i])/(i+1)\n",
    "    \n",
    "w0 = w0/np.sum(w0)\n",
    "w0    "
   ]
  },
  {
   "cell_type": "code",
   "execution_count": 9,
   "metadata": {},
   "outputs": [
    {
     "data": {
      "text/plain": [
       "array([[0.00027835],\n",
       "       [0.00028159],\n",
       "       [0.00027464]])"
      ]
     },
     "execution_count": 9,
     "metadata": {},
     "output_type": "execute_result"
    }
   ],
   "source": [
    "np.dot(S,w0)"
   ]
  },
  {
   "cell_type": "code",
   "execution_count": 17,
   "metadata": {},
   "outputs": [
    {
     "name": "stderr",
     "output_type": "stream",
     "text": [
      "100%|█████████████████████████████████████████████████████████████████████| 1000000/1000000 [00:11<00:00, 90842.71it/s]\n"
     ]
    },
    {
     "data": {
      "text/plain": [
       "array([[ 0.10348786],\n",
       "       [-0.04953556],\n",
       "       [ 0.9460477 ]])"
      ]
     },
     "execution_count": 17,
     "metadata": {},
     "output_type": "execute_result"
    }
   ],
   "source": [
    "w0 = np.ones((n, 1))\n",
    "N = 1000000\n",
    "R = np.random.multivariate_normal(mu, S, N)\n",
    "for i in tqdm(range(N)):\n",
    "    w0 = w0 - 100*f(w0, R[i])/(i+1)\n",
    "    \n",
    "w0 = w0/np.sum(w0)\n",
    "w0 "
   ]
  },
  {
   "cell_type": "markdown",
   "metadata": {},
   "source": [
    "#### True Solution\n",
    "$$w = \\frac{S^{-1}\\mathbf{1}_n}{\\mathbf{1}_n'S^{-1}\\mathbf{1}_n}$$"
   ]
  },
  {
   "cell_type": "code",
   "execution_count": null,
   "metadata": {},
   "outputs": [],
   "source": [
    "np.dot(inv, np.ones(3))"
   ]
  },
  {
   "cell_type": "code",
   "execution_count": 6,
   "metadata": {},
   "outputs": [
    {
     "data": {
      "text/plain": [
       "array([[ 0.09014558],\n",
       "       [-0.08958567],\n",
       "       [ 0.99944009]])"
      ]
     },
     "execution_count": 6,
     "metadata": {},
     "output_type": "execute_result"
    }
   ],
   "source": [
    "inv = np.linalg.inv(S)\n",
    "w = np.matmul(inv, np.ones((n, 1)))/np.sum(inv)\n",
    "w"
   ]
  },
  {
   "cell_type": "markdown",
   "metadata": {},
   "source": [
    "## 3.2"
   ]
  },
  {
   "cell_type": "code",
   "execution_count": 95,
   "metadata": {},
   "outputs": [],
   "source": [
    "def f(w, x):\n",
    "    t1 = x.reshape(n, 1)\n",
    "    t2 = mu.reshape(n, 1)\n",
    "    return np.matmul((t1 - t2)*((t1 - t2).T), w) + 0.0003*np.ones((n, 1))+t1\n"
   ]
  },
  {
   "cell_type": "code",
   "execution_count": 96,
   "metadata": {},
   "outputs": [],
   "source": [
    "def S_rho(rho):\n",
    "    D = np.diag([.1, .14, .02])\n",
    "    # rho = 0.5\n",
    "    K = np.array([[1, rho, 0],\n",
    "                 [rho, 1, rho],\n",
    "                 [0, rho, 1]])\n",
    "\n",
    "    S = np.matmul(np.matmul(D, K), D)\n",
    "    return S"
   ]
  },
  {
   "cell_type": "code",
   "execution_count": 109,
   "metadata": {},
   "outputs": [],
   "source": [
    "def UQSA( mu, rho_min, rho_max, Mk, u0 = '', K = 10000, mk = 6, n=3,step_multi = 1.0):\n",
    "    if u0=='' : \n",
    "        u0 = np.random.randn(mk,n)\n",
    "    u = np.zeros(shape = (mk,n))    \n",
    "    assert len(u0) == mk\n",
    "    \n",
    "    Legendre_basis = [np.polynomial.legendre.Legendre.basis(deg=i) for i in range(mk)]\n",
    "        \n",
    "    def W(rho,u0,Legendre_basis = Legendre_basis):\n",
    "        return np.sum([u0[j]*Legendre_basis[j](rho) for j in range(mk)],axis = 0)\n",
    "    \n",
    "    for k in tqdm(range(K)):\n",
    "        \n",
    "        rho = []\n",
    "        R = []\n",
    "        for s in range(Mk):\n",
    "            r = np.random.uniform(low = rho_min, high = rho_max)\n",
    "            rho.append(r)\n",
    "            S = S_rho(r)\n",
    "            R.append(np.random.multivariate_normal(mu, S))\n",
    "            \n",
    "        for i in range(mk):\n",
    "            expect = 0.0\n",
    "            for s in range(Mk):\n",
    "                w = W(rho[s],u0)\n",
    "                w = w.reshape(n,1)\n",
    "                expect = expect + f(w,R[s])*Legendre_basis[i](rho[s])\n",
    "            expect = expect.reshape(1,n) / Mk\n",
    "            \n",
    "            u[i] = u0[i] - step_multi * expect/(k+1)\n",
    "            \n",
    "        u0 = u\n",
    "#     Sum = np.sum(u)\n",
    "    return [x/np.sum(x) for x in u]  #TODO"
   ]
  },
  {
   "cell_type": "code",
   "execution_count": 106,
   "metadata": {},
   "outputs": [
    {
     "data": {
      "text/plain": [
       "array([[0.05],\n",
       "       [0.07],\n",
       "       [0.06]])"
      ]
     },
     "execution_count": 106,
     "metadata": {},
     "output_type": "execute_result"
    }
   ],
   "source": [
    "n = 3\n",
    "mu = np.array([.05, .07, .06])\n",
    "mu.reshape(3,1)"
   ]
  },
  {
   "cell_type": "code",
   "execution_count": 111,
   "metadata": {},
   "outputs": [
    {
     "name": "stderr",
     "output_type": "stream",
     "text": [
      "  0%|                                                                                        | 0/10000 [00:00<?, ?it/s]C:\\Users\\konglulu\\.conda\\envs\\tf_gpu\\lib\\site-packages\\ipykernel_launcher.py:20: RuntimeWarning: covariance is not positive-semidefinite.\n",
      "100%|████████████████████████████████████████████████████████████████████████████| 10000/10000 [09:43<00:00, 17.13it/s]\n"
     ]
    },
    {
     "data": {
      "text/plain": [
       "[array([ 0.74497849, -0.08957938,  0.34460089]),\n",
       " array([-0.14713907,  2.64592406, -1.49878499]),\n",
       " array([0.12922103, 0.22216152, 0.64861745]),\n",
       " array([ 0.08084438,  4.50819762, -3.58904201]),\n",
       " array([ 2.0270157 ,  0.12799001, -1.15500571]),\n",
       " array([-0.54668368, -0.1870132 ,  1.73369688])]"
      ]
     },
     "execution_count": 111,
     "metadata": {},
     "output_type": "execute_result"
    }
   ],
   "source": [
    "UQSA(mu, 0.6,0.8,100,K = 10000)"
   ]
  },
  {
   "cell_type": "code",
   "execution_count": null,
   "metadata": {},
   "outputs": [],
   "source": []
  }
 ],
 "metadata": {
  "kernelspec": {
   "display_name": "Python 3",
   "language": "python",
   "name": "python3"
  },
  "language_info": {
   "codemirror_mode": {
    "name": "ipython",
    "version": 3
   },
   "file_extension": ".py",
   "mimetype": "text/x-python",
   "name": "python",
   "nbconvert_exporter": "python",
   "pygments_lexer": "ipython3",
   "version": "3.7.7"
  }
 },
 "nbformat": 4,
 "nbformat_minor": 4
}

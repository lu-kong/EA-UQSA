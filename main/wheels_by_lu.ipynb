{
 "cells": [
  {
   "cell_type": "code",
   "execution_count": 2,
   "metadata": {},
   "outputs": [],
   "source": [
    "import numpy as np"
   ]
  },
  {
   "cell_type": "code",
   "execution_count": 1,
   "metadata": {},
   "outputs": [],
   "source": [
    "def LB_preparation(self):\n",
    "    \"\"\"\n",
    "    Run to prepare a dictionary of orthognoal basis LB, for which the key is a tuple (i,j,k)\n",
    "    Then it will be stored in self.LB\n",
    "    \"\"\"\n",
    "    m_max,tmin,tmax,keys = np.max(self.m),self.theta_min,self.theta_max,self.keyboard[m_max]\n",
    "    B_w = self.Legendre_B(tmin[0],tmax[0],m_max)\n",
    "    B_a = self.Legendre_B(tmin[1],tmax[1],m_max)    \n",
    "    B_b = self.Legendre_B(tmin[2],tmax[2],m_max)\n",
    "    LB = {}\n",
    "    for key in keys:\n",
    "        i,j,k = key\n",
    "        LB[key] = lambda theta,i=i,j=j,k=k:B_w[i](theta[0])*B_a[j](theta[1])*B_b[k](theta[2])\n",
    "    self.LB = LB"
   ]
  },
  {
   "cell_type": "code",
   "execution_count": 3,
   "metadata": {},
   "outputs": [],
   "source": [
    "def basic_interation_cal(self,r_pre,s_pre,theta):\n",
    "    \"\"\"\n",
    "    r_pre,s_pre of dim = d\n",
    "    \n",
    "    Return:\n",
    "            r,s : dim = d\n",
    "    \"\"\"\n",
    "    ones = np.eye(self.n)\n",
    "    D_t_pre = np.diag(np.reshape(s_pre))\n",
    "    R_t_pre = np.diag(np.reshape(r_pre))\n",
    "    \n",
    "    D_t_2 = ones*theta[0] + theta[1]*R_t_pre**2 + theta[2]*D_t_pre**2\n",
    "    D_t = np.sqrt(D_t_2)\n",
    "    V_t = D_t.dot(self.GAMMA).dot(D_t)\n",
    "    r_t = np.random.multivariate_normal(np.zeros(self.n), V_t)\n",
    "    return r_t,np.diag(D_t)"
   ]
  },
  {
   "cell_type": "code",
   "execution_count": 4,
   "metadata": {},
   "outputs": [],
   "source": [
    "def theta_generator(self,n=1):\n",
    "    the = np.array([self.theta_max[i] - self.theta_min[i] for i in range(3)])*np.random.uniform(size = (n,3)) + np.array(self.theta_min)\n",
    "    return np.reshape(the,3) if n==1 else the"
   ]
  },
  {
   "cell_type": "code",
   "execution_count": 5,
   "metadata": {},
   "outputs": [],
   "source": [
    "def simple_generation(self,r,s):\n",
    "    \"\"\"\n",
    "    input r,s: series of dim=d, (r and sigma)\n",
    "    ----------\n",
    "    output: new r,s\n",
    "    \"\"\"\n",
    "    the = self.theta_generator()\n",
    "    return basic_interation_cal(r,s,the)"
   ]
  },
  {
   "cell_type": "code",
   "execution_count": 6,
   "metadata": {},
   "outputs": [],
   "source": [
    "def r_preparetion(self):\n",
    "    \"\"\"\n",
    "    with r0,sigma0, we will be able to calculate all r_t with t<=T\n",
    "    \"\"\"\n",
    "    r,s = self.r_init,self.sigma_init\n",
    "    r_t = [r]\n",
    "    s_t = [s]\n",
    "    for t in range(self.T):\n",
    "        r,s = self.simple_generation(r,s)\n",
    "        r_t.append(r)\n",
    "        s_t.append(s)\n",
    "    self.r_t = r_t\n",
    "    self.s_t = s_t"
   ]
  },
  {
   "cell_type": "code",
   "execution_count": null,
   "metadata": {},
   "outputs": [],
   "source": []
  }
 ],
 "metadata": {
  "kernelspec": {
   "display_name": "Python 3",
   "language": "python",
   "name": "python3"
  },
  "language_info": {
   "codemirror_mode": {
    "name": "ipython",
    "version": 3
   },
   "file_extension": ".py",
   "mimetype": "text/x-python",
   "name": "python",
   "nbconvert_exporter": "python",
   "pygments_lexer": "ipython3",
   "version": "3.7.7"
  }
 },
 "nbformat": 4,
 "nbformat_minor": 4
}

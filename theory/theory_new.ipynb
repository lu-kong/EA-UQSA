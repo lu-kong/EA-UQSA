{
 "cells": [
  {
   "cell_type": "markdown",
   "metadata": {},
   "source": [
    "### 3.1 Simple Robbins Monro"
   ]
  },
  {
   "cell_type": "markdown",
   "metadata": {},
   "source": [
    "Write the first order budget constraint as :$$F(w) = E[(R-\\mu)(R-\\mu)']w + \\lambda \\mathbf{1}_n = Sw + \\lambda \\mathbf{1}_n=0,$$ \n",
    "We can write $F(w) = E(f(w, R)),$ where $$f(w,R) = (R-\\mu)(R-\\mu)'w + \\lambda\\mathbf{1}_n$$\n",
    "We can easily verify the 2 assumptions: \n",
    "\n",
    "* if $w*$ is the solution, $\\forall w\\in \\mathbb{R}^n$,\n",
    "\\begin{eqnarray}\n",
    " \\langle w - w*, F(w)\\rangle &=& \\langle w-w*, Sw + \\lambda \\mathbf{1}_n\\rangle \\\\\n",
    " &=& \\langle w-w*, S(w-w*) + Sw*+ \\lambda \\mathbf{1}_n\\rangle \\\\\n",
    " &=&\\langle w-w*, S(w-w*)\\rangle >0\n",
    "\\end{eqnarray}\n",
    "\n",
    "\n",
    "* $\\forall w\\in \\mathbb{R}^n, E(f^2(w, R)) = E(w^TA^2w+2w^TA\\cdot\\lambda\\mathbf{1}_n+n\\lambda^2)\\leq C(1+|w|^2),$where$A = (R-\\mu)(R-\\mu)',$ when $C$ is quite large. "
   ]
  },
  {
   "cell_type": "markdown",
   "metadata": {},
   "source": [
    "### 5. 1 Function choice\n",
    "Now we try to tune the problem into a equivalent problem:\n",
    "$$min_{x\\in\\mathbb{R}^{d-1}}\\frac{1}{2}w(x)^TSw(x),$$\n",
    "where $w(x)=(x_1, x_2, ... x_{d-1}, 1-\\sum_i^{d-1}x_i)^T$\n",
    "\n",
    "Taking the partial derivative:\n",
    "$$\\partial_{w_i}(\\frac{1}{2}w(x)^T)Sw(x)) = (Sw(x))_i - (Sw(x))_d,\\quad i=1,\\, 2,\\, \\cdots,\\, d-1$$\n",
    "where $Sw(x)_i$ is the i-th row of the vector $Sw.$\n",
    "\n",
    "We take $$F^r(w) = \\{(Sw(x))_i - Sw(x)_d\\}_{i=1}^{d-1}$$\n",
    "Now we verify the condition $\\langle F^r(x), x-x^*\\rangle>0, \\forall x\\neq x^*, x\\in \\mathbb{R}^{d-1}$.\n",
    "\n",
    "Firstly $$w(x)=(x_1, x_2, ... x_{d-1}, 1-\\sum_i^{d-1}x_i)^T = Ax+b,$$\n",
    "where\n",
    "$$\n",
    "A \n",
    "= \n",
    "\\begin{pmatrix} \n",
    "1 & 0 & \\cdots & 0\\\\\n",
    "0 & 1 & \\cdots & 0\\\\\n",
    "\\vdots & \\vdots & \\ddots & \\vdots\\\\\n",
    "0 & \\cdots & 0 & 1 \\\\\n",
    "-1 & -1 & \\cdots & -1\n",
    "\\end{pmatrix}_{d\\times(d-1)},\n",
    "b = (0,\\, 0,\\,\\cdots,0,\\,1)^T\\in \\mathbb{R}^{d}\n",
    "$$\n",
    "We can also write the vector $F(w)$ as \n",
    "$$\n",
    "F^r(w)\n",
    "=\n",
    "\\begin{pmatrix} \n",
    "(Sw)_1 - (Sw)_d \\\\\n",
    "(Sw)_2 - (Sw)_d\\\\\n",
    "\\vdots \\\\\n",
    "(Sw)_{d-1} - (Sw)_d\n",
    "\\end{pmatrix}\n",
    "=\n",
    "\\begin{pmatrix}\n",
    "1 & 0 & \\cdots & 0 & -1 \\\\\n",
    "\\vdots & \\vdots & \\ddots & \\vdots & \\vdots \\\\\n",
    "0 & 0 & \\cdots & 1 & -1\n",
    "\\end{pmatrix}_{(d-1)\\times d}Sw\n",
    "=\n",
    "A^TSw.\n",
    "$$\n",
    "Hence we have $$F^r(w(x))=A^TSw = A^TS(Ax+b) = Cx + c,$$\n",
    "where $C = A^TSA\\in \\mathcal{M}_{d-1}, \\, c = A^TSb\\in \\mathbb{R}^{d-1}.$\n",
    "\n",
    "So we have $\\forall x \\in \\mathbb{R}^{d-1}, x\\neq x^*$, where $F^r(w(x^*)) = Cx^*+c=0$,\n",
    "$$\\langle Cx+c,\\, x-x^*\\rangle= \\langle C(x-x^*)+Cx^*+c,\\, x-x^*\\rangle = \\langle C(x-x^*),\\, x-x^*\\rangle>0,$$\n",
    "since $C$ is positive definite (A is of full rank).\n",
    "\n",
    "Note that the second condition of the Robinson-Monro is obviously satisfied."
   ]
  },
  {
   "cell_type": "markdown",
   "metadata": {},
   "source": [
    "Now we take $F^r(w(x)) = E(f^r(w(x), R)),$ where $$f^r(w(x),R) = A^T(R-\\mu)(R-\\mu)^Tw(x) = A^T(R-\\mu)(R-\\mu)^T(Ax+b),$$\n",
    "in the following, we replace the funtion by $f^r(x, R)$ for convienence.\n",
    "\n",
    "we are going to implement the Robbins-Monro and the UQSA with this new function."
   ]
  },
  {
   "cell_type": "markdown",
   "metadata": {},
   "source": [
    "### 5.3 UQSA assumptions verification\n",
    "\n",
    "**A1.** The set $\\mathbf{\\mathcal{T}^*}$ is compact and non-empty.  \n",
    "\n",
    "---\n",
    "**A2.** $\\sum \\gamma_k = \\infty,\\quad  \\sum\\gamma_k^{1+\\kappa}<\\infty, \\quad \\sum\\gamma_k^2\\frac{Q_{m_k}}{M_k}<\\infty, \\quad \\sum\\gamma_k^{1-\\kappa}q_{m_k}<\\infty,$\n",
    "\n",
    "\n",
    "where the sequences ${q_m, m\\geq 0},\\,{Q_m, m\\geq 0}$ are defined by $$q_m:=sup_{u^*\\in\\mathcal{T}^*}\\sum_{i>m}|u_i^*|^2,\\quad\\quad  Q_m:=sup_{\\theta\\in\\Theta}\\sum_{i\\leq m} |B_i(\\theta)|^2.$$\n",
    "\n",
    "If $B_i=\\sqrt{(2i+1)/2}\\tilde B_i$, where $\\tilde B_i$ is the unnormalized Legendre basis, we choose the basis on a bounded interval $\\Theta$. We have therefore $sup_{i\\geq 0}sup_{\\Theta}|B(\\theta)|<\\infty$, so that $Q_m=\\mathcal{O}(m^2)$.\n",
    "\n",
    "Besides, if the solution $w(\\theta)$ is smooth in $\\theta$, $q_m=\\mathcal{O}(m^{-\\delta})$ for any $\\delta$.  \n",
    "\n",
    "---  \n",
    "\n",
    "**A5.**  $\\exists C_H>0, \\, \\forall z\\in \\mathbb{R}^q$ $$sup_\\theta\\int_\\mathcal{V}|H(z, v, \\theta)|^2\\mu(\\theta, dv)\\leq C_H(1+|z^2|)$$\n",
    "\n",
    "In our toy model, $z\\leftarrow x,\\, V^\\theta\\leftarrow R^\\rho, \\, H(z, V^\\theta, \\theta)\\leftarrow H(x, R)=f(x, R)$, so we can write the integral above as $$sup_{\\rho\\in[\\rho_{min},\\, \\rho_{max}]}\\int|H(x, R^\\rho)|^2\\mu(dR^\\rho).$$\n",
    "Here $H(x, R) = \\tilde{A}x+\\tilde b$, where $\\tilde{A} =  A^T(R-\\mu)(R-\\mu)^TA,\\, \\tilde{b}= A^T(R-\\mu)(R-\\mu)^Tb$,  since $\\rho\\in[\\rho_{min},\\,\\rho_{max}]$ is bounded, we have $$|H(x, R)|^2 = x^T\\tilde{A}^T\\tilde{A}x + 2\\tilde{b}^T\\tilde{A}x+|\\tilde{b}|^2\\leq C(1+|x|^2),\\quad \\forall\\rho\\in[\\rho_{min},\\,\\rho_{max}],$$ for a constant C. $\\int \\mu(dR^\\rho)=1$, we have the inequality: $$sup\\int |H(x, R)|^2\\mu(dR^\\rho)<C(1+|x|^2)$$  \n",
    "\n",
    "---\n",
    "\n",
    "**A6.**  $\\forall B>0, \\exists C_B>0, \\forall (\\phi, \\phi^*)\\in L^\\pi_{2,q}\\times \\mathbf{Is(\\mathcal{T}^*)}$, and $\\parallel \\phi-\\phi^*\\parallel_\\pi\\leq B$\n",
    "$$\\int (\\phi(\\theta)-\\phi^*(\\theta))\\cdot h(\\phi(\\theta), \\theta)\\pi(d\\theta)\\geq C_Bmin_{\\bar{\\phi}\\in \\mathbf{Is(\\mathcal{T}^*)}}\\parallel\\phi-\\bar\\phi\\parallel^2_\\pi$$\n",
    "for any $x\\in\\mathbb{R}^{d-1}$ and $\\rho\\in [\\rho_{min},\\rho_{max}]$, $$h(x, \\rho) = \\int H(x, R^\\rho)\\mu(dR^\\rho)=E[H(x, R^\\rho)]$$\n",
    "From the definition of $\\mathcal{T^*}$, we have $E(\\phi^*, R^\\rho) = E[\\tilde{A}\\phi^*+\\tilde{b}] = 0, \\forall \\phi^*\\in\\mathbf{Is}(\\mathcal{T^*})$, from the expressions in **A5**, $E(\\tilde{A})=A^TSA,\\,E(\\tilde{b})=A^TSb$, so we have $$h(\\phi, \\rho) = A^TSA\\phi+A^TSb,\\quad \\phi\\in L^\\pi_{2(d-1)}.$$\n",
    "Hence\n",
    "$$\n",
    "\\begin{aligned}\n",
    "\\int (\\phi-\\phi^*)\\cdot h(\\phi, \\rho)\\pi(d\\rho) &= \\int (\\phi-\\phi^*)^T(A^TSA\\phi+A^TSb)\\pi(d\\rho)\n",
    "\\end{aligned}\n",
    "$$\n",
    "Note that $$(\\phi-\\phi^*)^T(A^TSA\\phi+A^TSb)=(\\phi-\\phi^*)^T(A^TSA(\\phi-\\phi^*)+A^TSA\\phi^*+A^TSb)=(\\phi-\\phi^*)^TA^TSA(\\phi-\\phi^*)\\geq \\lambda(\\rho)|\\phi-\\phi^*|^2,$$ \n",
    "where $\\lambda(\\rho)$ is the minimum eigenvalue of the matrix $A^TSA$. With the boundness of $\\rho$, $\\lambda(\\rho)$ is therefore bounded, which leads us the the result:\n",
    "$$\\int (\\phi-\\phi^*)\\cdot h(\\phi, \\rho)\\pi(d\\rho)\\geq \\int \\lambda(\\rho)|\\phi-\\phi^*|^2\\pi(d\\rho)\\geq C'min_{\\bar\\phi\\in\\mathcal{T}^*}\\|\\phi-\\bar\\phi\\|_{\\pi}^2,$$where $C'=min(\\lambda(\\rho))$ is a constant by the boundness of $\\rho$.\n",
    "\n",
    "**Remark.** In our toy model, we have actually one unique solution to the problem, which means $\\{\\phi^*\\}=\\mathcal{T}^*$"
   ]
  },
  {
   "cell_type": "markdown",
   "metadata": {},
   "source": [
    "### 4. GARCH model"
   ]
  },
  {
   "cell_type": "markdown",
   "metadata": {},
   "source": [
    "Now we turn to a more complex model on the return $r_t$: GARCH. This model assumes the follwing structure for the centered returns $r_t$:$$r_t=D_t\\Gamma^{1/2}\\eta_t=D_t\\tilde{\\eta_t},$$ $$V_t=D_t\\Gamma D_t,$$\n",
    "* $D_t = Diag{\\sigma_{1,t,\\cdots,\\, \\sigma{n,t}}}$,\n",
    "* $\\sigma^2_{i,t}$ unidimensional GARCH volatilities,\n",
    "* $\\Gamma = \\{\\rho_{i,j}\\}_{1\\leq i,j\\leq n}$ positive definite matrix,\n",
    "* $\\eta_t$ n-dimenional independent process, $E[\\eta_{i,t}\\eta_{j,t}]=0,\\, \\forall i\\neq j, \\, E[\\eta_{i,t}^2=1]$, and $\\eta_t$ independent from $D_t$.\n",
    "\n",
    "To use UQSA for solving the optimization problem with the return $r_t$ in the GARCH model, we need to verify the 6 assumptions above.The first three assumptions are trival. We turn to **A5** and **A6**.\n",
    "\n",
    "Considering the verification of the assumptions, we choose a different function $H$ from that of the toy model, and here\n",
    "$$H(x, r_t) = \\frac{1}{\\|\\tilde\\theta\\|}A^Tr_tr_t^T(Ax+b),$$\n",
    "where $r_t = R_t-\\mu,\\, \\tilde\\theta = argmax_{\\theta}\\{\\|\\theta_i\\|,\\,\\theta_i=(\\omega_i, \\alpha_i, \\beta_i) \\, i=1, \\dots, d\\}$"
   ]
  },
  {
   "cell_type": "markdown",
   "metadata": {},
   "source": [
    "**A5.**  $\\exists C_H>0, \\, \\forall z\\in \\mathbb{R}^q$ $$sup_\\theta\\int_r|H(x, r_\\theta)|^2\\mu(\\theta, dr_\\theta)\\leq C_H(1+|z^2|)$$"
   ]
  },
  {
   "cell_type": "markdown",
   "metadata": {},
   "source": [
    "Here $r = r_t = R-\\mu$, so $\\tilde{A}=A^Trr^TA,\\,\\tilde{b}=A^Trr^Tb$, and  \n",
    "$$\n",
    "\\begin{aligned}\n",
    "|H(x, r)|^2 \n",
    "&= \\frac{1}{\\|\\tilde\\theta\\|^2}(x^T\\tilde{A}^T\\tilde{A}x + 2\\tilde{b}^T\\tilde{A}x+|\\tilde{b}|^2)\\\\\n",
    "&= \\frac{1}{\\|\\tilde\\theta\\|^2}(x^TA^Trr^TAA^Trr^TAx + 2b^Trr^TAx+b^Trr^TAA^Trr^Tb)\n",
    "\\end{aligned}\n",
    "$$ \n",
    "$AA^T$ is half positive definite in $\\mathcal{M}_{d}$, we denote $\\lambda_d$ its maximum enginvalue, so for any $x\\in \\mathbb{R_d}$, we have$$0\\leq x^TAA^Tx\\leq \\lambda_d x^Tx$$\n",
    "\n",
    "We have thereby $$|H(x,R)|^2 \\leq \\frac{1}{\\|\\tilde\\theta\\|^2}(\\lambda_dx^TA^Trr^Trr^TAx+2b^Trr^TAx+\\lambda_db^Trr^Trr^Tb),$$ and\n",
    "$$\n",
    "\\begin{aligned}\n",
    "E_r[|H(x, R)|^2] &\\leq \\frac{1}{\\|\\tilde\\theta\\|^2}[\\lambda_dx^TA^TE(rr^Trr^T)Ax + 2b^TVx+\\lambda_db^TE(rr^Trr^T)b]\n",
    "\\end{aligned}\n",
    "$$"
   ]
  },
  {
   "cell_type": "markdown",
   "metadata": {},
   "source": [
    "Note that $$(rr^Trr^T)_{i,j} = (D\\tilde\\eta\\tilde\\eta^TDD\\tilde\\eta\\tilde\\eta^TD)_{i,j}=\\sum_{k=1}^d\\sigma_i\\tilde\\eta_i\\tilde\\eta_k\\sigma_k^2\\tilde\\eta_k\\tilde\\eta_j\\sigma_j= \\sum_{k=1}^d\\sigma_i\\sigma_j\\sigma_k^2\\tilde\\eta_i\\tilde\\eta_j\\tilde\\eta_k^2,$$\n",
    "where $\\sigma_l^2=\\sigma_{l,t}^2 = \\omega_{l,t}+\\alpha_lr_{l,t-1}^2+\\beta_l\\alpha_{l,t-1}^2=(1, r_{l,t-1}^2, \\sigma_{l,t-1}^2)\\theta_l$, and $\\tilde{\\eta}_i$ is gaussian. We have the following inequality:\n",
    "$$\\sigma_l^2 \\leq \\|\\theta_l\\|\\|\\gamma_l\\|\\leq C\\|\\tilde\\theta\\|,\\quad \\gamma_l = (1, r_{l,t-1}^2, \\sigma_{l, t-1}^2),\\,l=1,\\dots,d$$ for a constant $C$."
   ]
  },
  {
   "cell_type": "markdown",
   "metadata": {},
   "source": [
    "Therefore, $E(rr^Trr^T)_{i,j}\\leq C\\|\\tilde\\theta\\|^2E(\\tilde\\eta_i\\tilde\\eta_j\\tilde\\eta_k^2)\\leq \\|\\tilde\\theta\\|^2C'$, where $C'$ is a constant matrix in $\\mathcal{M_d}$.\n",
    "\n",
    "As a conclusion,\n",
    "$$\n",
    "\\begin{aligned}\n",
    "E_r[|H(x,R)|^2]\n",
    "&\\leq \\frac{1}{\\|\\tilde\\theta\\|^2}[\\|\\tilde\\theta\\|^2\\lambda_dx^TA^TC'Ax+2b^TVx+\\|\\tilde\\theta\\|^2\\lambda_db^TC'b]\\\\\n",
    "&\\leq \\lambda_d\\lambda'x^Tx+2b^TVx+\\lambda_db^TC'b\\\\\n",
    "&\\leq C_{const}(1+|x|^2)\n",
    "\\end{aligned}\n",
    "$$\n",
    "where $\\lambda'$ is the maximum enginvalue of $A^TC'A$, $C_{const}$ is a positive constant."
   ]
  },
  {
   "cell_type": "markdown",
   "metadata": {},
   "source": [
    "**A6.**  $\\forall B>0, \\exists C_B>0, \\forall (\\phi, \\phi^*)\\in L^\\pi_{2,q}\\times \\mathbf{Is(\\mathcal{T}^*)}$, and $\\parallel \\phi-\\phi^*\\parallel_\\pi\\leq B$, $s.t.$\n",
    "$$\\int (\\phi(\\theta)-\\phi^*(\\theta))\\cdot h(\\phi(\\theta), \\theta)\\pi(d\\theta)\\geq C_Bmin_{\\bar{\\phi}\\in \\mathbf{Is(\\mathcal{T}^*)}}\\parallel\\phi-\\bar\\phi\\parallel^2_\\pi$$"
   ]
  },
  {
   "cell_type": "markdown",
   "metadata": {},
   "source": [
    "**Proof.** \n",
    "\n",
    "By the definition, $h(\\phi(\\theta),\\theta)=E_r(H(\\phi(\\theta), r_\\theta))=E_r(\\tilde{A}\\phi^*+\\tilde{b})=E_r[\\tilde{A}(\\phi-\\phi^*)]+E_r[\\tilde{A}\\phi^*+\\tilde{b}]=E_r[\\tilde{A}(\\phi-\\phi^*)]$.\n",
    "\n",
    "here $E_r(\\tilde{A})=A^TVA$, and $E_r[\\tilde{A}(\\phi-\\phi^*)]=A^TVA(\\phi-\\phi^*)$, so the integral above can be written as:\n",
    "$$\n",
    "\\begin{aligned}\n",
    "\\int(\\phi-\\phi^*)\\cdot h(\\phi(\\theta), r_\\theta)\\pi(d\\theta)\n",
    "&=\\int(\\phi-\\phi^*)^TA^TVA(\\phi-\\phi^*)\\pi(d\\theta)\n",
    "\\end{aligned}\n",
    "$$\n",
    "since $min_{\\bar{\\phi}\\in\\mathbf{Is(\\mathcal{T}^*)}}\\parallel\\phi-\\bar\\phi\\parallel^2_\\pi\\leq \\|\\phi-\\phi^*\\|_\\pi^2\\leq B\\leq+\\infty$, and $A^TVA$ is positive definite **(?)** for any $\\theta$, so we have $$\\int(\\phi-\\phi^*)^TA^TVA(\\phi-\\phi^*)\\pi(d\\theta)> 0,$$\n",
    "so there exits a constant $C_B$, such that\n",
    "$$\\int(\\phi-\\phi^*)^TA^TVA(\\phi-\\phi^*)\\pi(d\\theta)\\geq C_Bmin_{\\bar{\\phi}\\in \\mathbf{Is(\\mathcal{T}^*)}}\\parallel\\phi-\\bar\\phi\\parallel^2_\\pi.$$"
   ]
  },
  {
   "cell_type": "code",
   "execution_count": null,
   "metadata": {},
   "outputs": [],
   "source": []
  }
 ],
 "metadata": {
  "kernelspec": {
   "display_name": "Python 3",
   "language": "python",
   "name": "python3"
  },
  "language_info": {
   "codemirror_mode": {
    "name": "ipython",
    "version": 3
   },
   "file_extension": ".py",
   "mimetype": "text/x-python",
   "name": "python",
   "nbconvert_exporter": "python",
   "pygments_lexer": "ipython3",
   "version": "3.7.7"
  }
 },
 "nbformat": 4,
 "nbformat_minor": 4
}

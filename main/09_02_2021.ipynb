{
 "cells": [
  {
   "cell_type": "code",
   "execution_count": 1,
   "metadata": {},
   "outputs": [],
   "source": [
    "import numpy as np\n",
    "import scipy \n",
    "import scipy.linalg\n",
    "import matplotlib.pyplot as plt\n",
    "from scipy.integrate import quad\n",
    "from tqdm import tqdm,trange"
   ]
  },
  {
   "cell_type": "markdown",
   "metadata": {},
   "source": [
    "|  | min   | max  | average  | stdev  |\n",
    "|---------------------|---|---|---|---|\n",
    "| $\\sigma_{i,\\infty}^2$ | 0.00060%  | 0.05150% | 0.01770%  | 0.01440% |\n",
    "| $\\alpha_i$  | 0.0329  | 0.0955 | 0.0622 | 0.0242 |\n",
    "| $\\beta_i$  | 0.8855  | 0.9656  | 0.9306 | 0.0271 |\n",
    "| $\\omega_i$  | 0.0000032% | 0.0004320% | 0.0001350%| 0.0001370% |\n",
    "| $\\rho_{i, j}$  | -22%  | 82%  | 10& | 22% |\n",
    "| $p_{max,i}$  | 1.83  |5.72 | 3.34 | 1.22 |\n",
    "| $t_{1/2,i}$  | 36.21 | 437.17 | 135.78 | 98.52 |"
   ]
  },
  {
   "cell_type": "markdown",
   "metadata": {},
   "source": [
    "$$r_t=D_t\\Gamma^{1/2}\\eta_t=D_t\\tilde{\\eta_t},$$ $$V_t=D_t\\Gamma D_t,$$\n",
    "$$\\sigma_{i,t}^2 = \\omega_{i,t}+\\alpha_ir_{i,t-1}^2+\\beta_i\\alpha_{i,t-1}^2=(1, r_{i,t-1}^2, \\sigma_{i,t-1}^2)\\theta_i, \\, \\theta_i=(\\omega_i, \\alpha_i, \\beta_i)^T$$"
   ]
  },
  {
   "cell_type": "markdown",
   "metadata": {},
   "source": [
    "### Robins Monro with $\\theta$ constant"
   ]
  },
  {
   "cell_type": "code",
   "execution_count": 2,
   "metadata": {},
   "outputs": [],
   "source": [
    "Theta = np.array([[1.35e-4, 3.2e-6, 4.32e-4], [0.0622, 0.0329, 0.0955], [0.9306, 0.8855, 0.9656]])\n",
    "d = 3"
   ]
  },
  {
   "cell_type": "code",
   "execution_count": 3,
   "metadata": {},
   "outputs": [],
   "source": [
    "def parameters_simulator(r_pre, sigma_pre, GAMMA, T):\n",
    "    \"\"\"\n",
    "    simulate (theta, r_{T+1})\n",
    "    Input:\n",
    "        \n",
    "        r_pre: ndarray, return initialization\n",
    "        sigma_pre: ndarray, components for the diagonal matrix D\n",
    "        GAMMA: (n, n) array for constant correlation matrix\n",
    "        T: Time for the process\n",
    "    \"\"\"\n",
    "\n",
    "    D_t_pre = np.diag(sigma_pre)\n",
    "    R_t_pre = np.diag(r_pre)\n",
    "    \n",
    "    for t in range(T):\n",
    "        \n",
    "        theta = np.zeros((n, 3))\n",
    "        for j in range(3):\n",
    "            theta[: j] = np.random.uniform(Theta[j][1], Theta[j][2])\n",
    "            \n",
    "        D_t_2 = np.eye(n)*theta[:,0] + theta[:,1]*R_t_pre**2 + theta[:,2]*D_t_pre**2\n",
    "        D_t = np.sqrt(D_t_2)\n",
    "        V_t = D_t.dot(GAMMA).dot(D_t)\n",
    "        r_t = np.random.multivariate_normal(np.zeros(n), V_t)\n",
    "        D_t_pre, R_t_pre = D_t, np.diag(r_t)\n",
    "        \n",
    "    return theta, r_t"
   ]
  },
  {
   "cell_type": "code",
   "execution_count": 4,
   "metadata": {},
   "outputs": [],
   "source": [
    "def r_simulator(theta, GAMMA, T):\n",
    "    \"\"\"\n",
    "    simulate  r_{T+1}\n",
    "    Input:\n",
    "        theta: n*3 array, (omega, alpha, beta)\n",
    "        GAMMA: (n, n) array for constant correlation matrix\n",
    "        T: Time for the process (should be larger than t_0.5 = -ln2/ln(alpha+beta))\n",
    "    \"\"\"\n",
    "    r_init = theta[:, 0]/(1-theta[:, 1]-theta[:, 2])\n",
    "    D_t_pre = np.diag(np.random.uniform(6e-4, 5.15e-2, n))\n",
    "    R_t_pre = np.diag(r_int)\n",
    "    \n",
    "    for t in range(T):\n",
    "        D_t_2 = np.eye(n)*theta[:,0] + theta[:,1]*R_t_pre**2 + theta[:,2]*D_t_pre**2\n",
    "        D_t = np.sqrt(D_t_2)\n",
    "        V_t = D_t.dot(GAMMA).dot(D_t)\n",
    "        r_t = np.random.multivariate_normal(np.zeros(n), V_t)\n",
    "        D_t_pre, R_t_pre = D_t, np.diag(r_t)\n",
    "        \n",
    "    return r_t\n",
    "    \n"
   ]
  },
  {
   "cell_type": "code",
   "execution_count": 5,
   "metadata": {},
   "outputs": [],
   "source": [
    "def parameters_simulator(GAMMA, N_samples):\n",
    "    \"\"\"\n",
    "    simulate N samples of (theta, r_{T+1})\n",
    "    \"\"\"\n",
    "    Theta = []\n",
    "    R = []\n",
    "    for i in range(N_samples):\n",
    "        theta = np.zeros((n, 3))\n",
    "        for j in range(3):\n",
    "            theta[: j] = np.random.uniform(Theta[j][1], Theta[j][2])\n",
    "        T = int((-5* np.log(2)/np.log(theta[:, 1]+theta[:, 2])).max())\n",
    "        \n",
    "        r = r_simulator(theta, GAMMA, T)\n",
    "        \n",
    "        Theta.append(theta)\n",
    "        R.append(r)\n",
    "    return Theta, R\n"
   ]
  },
  {
   "cell_type": "code",
   "execution_count": 6,
   "metadata": {},
   "outputs": [],
   "source": [
    "def R_simulator(R0, sigma2_0, theta, Gamma):\n",
    "    ones = np.ones((d,1))\n",
    "    g = np.hstack((ones, R0**2, sigma2_0))\n",
    "    sigma2 = g.dot(theta)\n",
    "    D = np.diag(np.sqrt(sigma2))\n",
    "    eta = np.sqrt(Gamma).dot(np.random.randn(d))  \n",
    "    return D.dot(eta)"
   ]
  },
  {
   "cell_type": "code",
   "execution_count": 7,
   "metadata": {},
   "outputs": [
    {
     "data": {
      "text/plain": [
       "array([[1., 1.],\n",
       "       [1., 1.],\n",
       "       [1., 1.]])"
      ]
     },
     "execution_count": 7,
     "metadata": {},
     "output_type": "execute_result"
    }
   ],
   "source": [
    "np.hstack((np.ones((d,1)),np.ones((d,1))))"
   ]
  },
  {
   "cell_type": "code",
   "execution_count": 8,
   "metadata": {},
   "outputs": [],
   "source": [
    "from scipy.stats import random_correlation"
   ]
  },
  {
   "cell_type": "code",
   "execution_count": 9,
   "metadata": {},
   "outputs": [
    {
     "data": {
      "text/plain": [
       "array([[1.        , 0.49646919, 0.08613933],\n",
       "       [0.49646919, 1.        , 0.02685145],\n",
       "       [0.08613933, 0.02685145, 1.        ]])"
      ]
     },
     "execution_count": 9,
     "metadata": {},
     "output_type": "execute_result"
    }
   ],
   "source": [
    "np.random.seed(123)\n",
    "corr = np.diag(np.ones(d))\n",
    "for i in range(d):\n",
    "    for j in range(i+1, d):\n",
    "        corr[i, j] = corr[j, i] = np.random.uniform(-0.2, 0.8)\n",
    "corr"
   ]
  },
  {
   "cell_type": "code",
   "execution_count": 10,
   "metadata": {},
   "outputs": [
    {
     "data": {
      "text/plain": [
       "array([0.49997036, 0.99097736, 1.50905228])"
      ]
     },
     "execution_count": 10,
     "metadata": {},
     "output_type": "execute_result"
    }
   ],
   "source": [
    "import scipy.linalg\n",
    "e, v = scipy.linalg.eigh(corr)\n",
    "e"
   ]
  },
  {
   "cell_type": "code",
   "execution_count": 11,
   "metadata": {},
   "outputs": [],
   "source": [
    "def H(x, r, theta):\n",
    "    \"\"\"\n",
    "    The function for the iteration\n",
    "    Input:\n",
    "        x: (n-1, 1) ndarray\n",
    "        r: (n, 1) ndarray\n",
    "        theta: (d, 3) ndarray\n",
    "    \"\"\"\n",
    "    max_norm = np.linalg.norm(theta, axis = 1).max()\n",
    "    left = A.T.dot(r.dot(t.T))\n",
    "    right = A.dot(x) + b\n",
    "    return left.dot(right)/max_norm\n",
    "\n",
    "\n",
    "def iteration(self):\n",
    "    u0 = np.array(self.u0)\n",
    "    u = u0\n",
    "    for k in range(1, self.K+1):\n",
    "\n",
    "        theta = []\n",
    "        r_ts_set = []\n",
    "        for _ in range(self.M[k]+1):\n",
    "            the,rts = self.para_simulate()\n",
    "            theta.append(the)\n",
    "            r_ts_set.append(rts)\n",
    "\n",
    "        keyboard = self.keboard\n",
    "        for key in keyboard[self.m[k] + 1]:\n",
    "            expect = 0.0\n",
    "            x = np.zeros(n-1)\n",
    "            for k in keyborad[m[k-1]]:\n",
    "                x += u[k] * self.LB[k](theta)\n",
    "            for s in range(1,self.M[k]+1):\n",
    "                expect += (self.LB[key](theta[s]) * self.H(x, r_ts_set[s])).reshape(1,n)\n",
    "            expect /= self.M[k]\n",
    "\n",
    "            u[key] = u.get(key, np.zeros(n-1)) - self.gamma[k] * expect\n",
    "\n",
    "        u0 = u\n",
    "        self.u_record.append(u)\n",
    "    return u"
   ]
  },
  {
   "cell_type": "code",
   "execution_count": 53,
   "metadata": {},
   "outputs": [
    {
     "data": {
      "text/plain": [
       "[[0, 0, 0],\n",
       " [1, 0, 0],\n",
       " [0, 1, 0],\n",
       " [0, 0, 1],\n",
       " [1, 1, 0],\n",
       " [1, 0, 1],\n",
       " [0, 1, 1],\n",
       " [1, 1, 1],\n",
       " [2, 0, 0],\n",
       " [0, 2, 0],\n",
       " [0, 0, 2],\n",
       " [2, 1, 0],\n",
       " [1, 2, 0],\n",
       " [2, 0, 1],\n",
       " [1, 0, 2],\n",
       " [0, 2, 1],\n",
       " [0, 1, 2],\n",
       " [2, 1, 1],\n",
       " [1, 2, 1],\n",
       " [1, 1, 2],\n",
       " [3, 0, 0],\n",
       " [0, 3, 0],\n",
       " [0, 0, 3],\n",
       " [3, 1, 0],\n",
       " [1, 3, 0],\n",
       " [3, 0, 1],\n",
       " [1, 0, 3],\n",
       " [0, 3, 1],\n",
       " [0, 1, 3],\n",
       " [3, 1, 1],\n",
       " [1, 3, 1],\n",
       " [1, 1, 3]]"
      ]
     },
     "execution_count": 53,
     "metadata": {},
     "output_type": "execute_result"
    }
   ],
   "source": [
    "def hyperbolic_cross_index_set(d, deg):\n",
    "    \"\"\"\n",
    "    compute the hyperbolic index set in d-dimensional case\n",
    "    deg: Degree, a nonnegative integer\n",
    "    \n",
    "    Output:\n",
    "        a list consisting of all the hyperbolic index\n",
    "    \"\"\"\n",
    "    \n",
    "    if deg == 0:\n",
    "        return [[0]*d]\n",
    "    \n",
    "    index_set = hyperbolic_cross_index_set(d, deg - 1)\n",
    "    \n",
    "    for s in index_set: \n",
    "        for i in range(d):\n",
    "            s_ = s.copy()\n",
    "            s_[i] = s[i]+1\n",
    "            tmp = [max(p,q) for p, q in zip(s_, np.ones(d))]\n",
    "            if s_ not in index_set and s_[i] <= deg and np.prod(tmp)<=deg:\n",
    "                index_set.append(s_)\n",
    "    return index_set\n",
    "             \n",
    "hyperbolic_cross_index_set(3,3)"
   ]
  },
  {
   "cell_type": "code",
   "execution_count": null,
   "metadata": {},
   "outputs": [],
   "source": []
  }
 ],
 "metadata": {
  "kernelspec": {
   "display_name": "tf_gpu",
   "language": "python",
   "name": "tf_gpu"
  },
  "language_info": {
   "codemirror_mode": {
    "name": "ipython",
    "version": 3
   },
   "file_extension": ".py",
   "mimetype": "text/x-python",
   "name": "python",
   "nbconvert_exporter": "python",
   "pygments_lexer": "ipython3",
   "version": "3.7.7"
  }
 },
 "nbformat": 4,
 "nbformat_minor": 4
}

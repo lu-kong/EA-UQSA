{
 "cells": [
  {
   "cell_type": "markdown",
   "metadata": {},
   "source": [
    "### 3.1 Simple Robbins Monro"
   ]
  },
  {
   "cell_type": "markdown",
   "metadata": {},
   "source": [
    "Write the first order budget constraint as :$$F(w) = E[(R-\\mu)(R-\\mu)']w + \\lambda \\mathbf{1}_n = Sw + \\lambda \\mathbf{1}_n=0,$$ \n",
    "We can write $F(w) = E(f(w, R)),$ where $$f(w,R) = (R-\\mu)(R-\\mu)'w + \\lambda\\mathbf{1}_n$$\n",
    "We can easily verify the 2 assumptions: \n",
    "\n",
    "* if $w*$ is the solution, $\\forall w\\in \\mathbb{R}^n$,\n",
    "\\begin{eqnarray}\n",
    " \\langle w - w*, F(w)\\rangle &=& \\langle w-w*, Sw + \\lambda \\mathbf{1}_n\\rangle \\\\\n",
    " &=& \\langle w-w*, S(w-w*) + Sw*+ \\lambda \\mathbf{1}_n\\rangle \\\\\n",
    " &=&\\langle w-w*, S(w-w*)\\rangle >0\n",
    "\\end{eqnarray}\n",
    "\n",
    "\n",
    "* $\\forall w\\in \\mathbb{R}^n, E(f^2(w, R)) = E(w^TA^2w+2w^TA\\cdot\\lambda\\mathbf{1}_n+n\\lambda^2\\leq C(1+|w|^2),$where$A = (R-\\mu)(R-\\mu)',$ when $C$ is quite large. "
   ]
  },
  {
   "cell_type": "code",
   "execution_count": 1,
   "metadata": {},
   "outputs": [],
   "source": [
    "import numpy as np\n",
    "import scipy \n",
    "import scipy.linalg\n",
    "import matplotlib.pyplot as plt\n",
    "from scipy.integrate import quad\n",
    "from tqdm import tqdm,trange\n",
    "import time"
   ]
  },
  {
   "cell_type": "code",
   "execution_count": 2,
   "metadata": {},
   "outputs": [],
   "source": [
    "n = 3\n",
    "mu = np.array([.05, .07, .06])  # R~ N(mu, S)\n",
    "D = np.diag([.1, .14, .2])      # S = DKD\n",
    "rho = 0.5\n",
    "K = np.array([[1, rho, 0],\n",
    "             [rho, 1, rho],\n",
    "             [0, rho, 1]])\n",
    "lambd = 0.3\n",
    "S = np.matmul(np.matmul(D, K), D)"
   ]
  },
  {
   "cell_type": "code",
   "execution_count": 3,
   "metadata": {},
   "outputs": [],
   "source": [
    "def f(w, R, lambd = lambd):\n",
    "    \"\"\"\n",
    "    function for Robbins Monro regression\n",
    "        E[f(w,R)] = F(w) = 0 \n",
    "    \n",
    "    inputs :\n",
    "            w :   w_n-1 in the regression\n",
    "            R :   A random vector to perform the RM\n",
    "        lambd :   eigenvalue default by 0.3\n",
    "    return : f(w,R)\n",
    "    \"\"\"\n",
    "    t1 = R.reshape(n, 1)   # reshape R^n vectors into col-vectors\n",
    "    t2 = mu.reshape(n, 1)\n",
    "    return np.matmul((t1 - t2)*((t1 - t2).T), w) + lambd*np.ones((n, 1))"
   ]
  },
  {
   "cell_type": "code",
   "execution_count": 30,
   "metadata": {},
   "outputs": [],
   "source": [
    "def plot_trace(h,y):\n",
    "    l = np.shape(h)[0]\n",
    "    hh = np.array(h)\n",
    "    plt.plot(hh[:l,0],label= 'Robbins Monro results')\n",
    "    plt.hlines(y = y,xmin=0,xmax=10000,colors='red',label='Theory answer')\n",
    "    plt.ylim(-1.,1.)\n",
    "    plt.legend(loc = 'best')\n",
    "    plt.show()\n",
    "def theory_answer(S):\n",
    "    inv = np.linalg.inv(S)\n",
    "    w = np.matmul(inv, np.ones((n, 1)))/np.sum(inv)\n",
    "    return w"
   ]
  },
  {
   "cell_type": "code",
   "execution_count": 31,
   "metadata": {},
   "outputs": [
    {
     "data": {
      "image/png": "[encoded data removed]",
      "text/plain": [
       "<Figure size 432x288 with 1 Axes>"
      ]
     },
     "metadata": {
      "needs_background": "light"
     },
     "output_type": "display_data"
    },
    {
     "name": "stdout",
     "output_type": "stream",
     "text": [
      "final result is \n",
      " [[0.72004212]\n",
      " [0.10662128]\n",
      " [0.1733366 ]]\n",
      "compare with the theory result \n",
      " [[0.73492551]\n",
      " [0.09458501]\n",
      " [0.17048948]]\n"
     ]
    }
   ],
   "source": [
    "def Robbins_Monro_Regression(N = 10000, alpha = 0.6):\n",
    "    R = np.random.multivariate_normal(mu, S, N)\n",
    "    x = np.random.random(n)\n",
    "    x = x/np.sum(x)\n",
    "    w = [x.reshape(n,1)]     # initialization with equal value\n",
    "    w_hist = [x.reshape(n,1)]\n",
    "    rg = range(N)\n",
    "    if N > 1e4 :\n",
    "        rg = tqdm(rg)\n",
    "    for i in rg:\n",
    "        w_tmp = w[-1] - 10.*f(w[-1], R[i])/np.power(i+1,alpha)\n",
    "        w.append(w_tmp)\n",
    "        w_hist.append(w_tmp/np.sum(w_tmp))\n",
    "    y_true = theory_answer(S)[0]\n",
    "    plot_trace(w_hist,y_true)\n",
    "    print(\"final result is \\n {}\".format(w[-1]/np.sum(w[-1])))\n",
    "    print(\"compare with the theory result \\n {}\".format(theory_answer(S)))\n",
    "    return w[-1]/np.sum(w[-1]),w,w_hist\n",
    "x,_,_ = Robbins_Monro_Regression(N = 10000,alpha = 0.6)"
   ]
  },
  {
   "cell_type": "markdown",
   "metadata": {},
   "source": [
    "## 3.2"
   ]
  },
  {
   "cell_type": "code",
   "execution_count": 28,
   "metadata": {},
   "outputs": [],
   "source": [
    "def S_rho(rho):\n",
    "    D = np.diag([.1, .14, .2])\n",
    "    # rho = 0.5\n",
    "    K = np.array([[1, rho, 0],\n",
    "                 [rho, 1, rho],\n",
    "                 [0, rho, 1]])\n",
    "    S = np.matmul(np.matmul(D, K), D)\n",
    "    return S"
   ]
  },
  {
   "cell_type": "code",
   "execution_count": 29,
   "metadata": {},
   "outputs": [
    {
     "data": {
      "image/png": "[encoded data removed]",
      "text/plain": [
       "<Figure size 432x288 with 1 Axes>"
      ]
     },
     "metadata": {
      "needs_background": "light"
     },
     "output_type": "display_data"
    },
    {
     "name": "stdout",
     "output_type": "stream",
     "text": [
      "final result is \n",
      " [[0.73656681]\n",
      " [0.09833527]\n",
      " [0.16509793]]\n",
      "compare with the theory result \n",
      " [[0.73492551]\n",
      " [0.09458501]\n",
      " [0.17048948]]\n"
     ]
    }
   ],
   "source": [
    "S = S_rho(rho=0.4)\n",
    "_,_,_ = Robbins_Monro_Regression(alpha=0.6)"
   ]
  },
  {
   "cell_type": "code",
   "execution_count": 8,
   "metadata": {},
   "outputs": [],
   "source": [
    "def UQSA_adapted(rho_min, rho_max, u0 = '', K = 1000, n = 3, a = 0.875, b = 0.3):   # mk\n",
    "    m = [int(np.floor(np.power(k, b))) + 1 for k in range(K+1)]   #   mk[0] = 1\n",
    "    if u0=='' : \n",
    "        u0 = np.random.randn(m[0] + 1, n)   \n",
    "\n",
    "    B = [np.polynomial.legendre.Legendre.basis(deg=i,domain=np.array([rho_min, rho_max])) for i in range(np.max(m)+1)]   \n",
    "        \n",
    "    def W(m_k, rho, u0, Legendre_basis = B):\n",
    "        return np.sum([u0[j]*Legendre_basis[j](rho) for j in range(m_k+1)], axis = 0)\n",
    "#     trace = []\n",
    "    for k in tqdm(range(1, K+1)):\n",
    "\n",
    "        r = np.random.uniform(low = rho_min, high = rho_max)\n",
    "        S = S_rho(r)\n",
    "        R = np.random.multivariate_normal(mu, S)\n",
    "        \n",
    "        u = np.zeros((m[k] + 1, n))\n",
    "        for i in range(m[k] + 1):\n",
    "            w = W(m[k-1], r, u0)\n",
    "#             trace.append(w[0])\n",
    "            expect = (B[i](r) * f(w.reshape(n,1), R)).reshape(n)\n",
    "            \n",
    "            gamma = 1./np.power(k, a) #stepsize\n",
    "            \n",
    "            if i > m[k-1]:\n",
    "                u[i] = - gamma * expect\n",
    "            else:\n",
    "                u[i] = u0[i] - gamma * expect\n",
    "            \n",
    "            u0 = u\n",
    "    return u"
   ]
  },
  {
   "cell_type": "code",
   "execution_count": 9,
   "metadata": {},
   "outputs": [],
   "source": [
    "def result_UQSA_adapted(r,K=1000):\n",
    "    u = UQSA_adapted(0.3,0.5,K=K)\n",
    "#     print(u)\n",
    "    rg = range(int(np.floor(np.power(K, 0.3))) + 1 )\n",
    "    B = [np.polynomial.legendre.Legendre.basis(deg=i,domain=np.array([0.6, 0.8])) for i in rg]\n",
    "    result = np.zeros(3)\n",
    "    \n",
    "    for j in rg:\n",
    "        result = result + B[j](r)*u[j]\n",
    "#     plt.plot(trace)\n",
    "    return result/np.sum(result)"
   ]
  },
  {
   "cell_type": "code",
   "execution_count": 10,
   "metadata": {},
   "outputs": [
    {
     "name": "stderr",
     "output_type": "stream",
     "text": [
      "100%|█████████████████████████████████████████████████████████████████████████████| 1000/1000 [00:01<00:00, 967.36it/s]\n"
     ]
    },
    {
     "data": {
      "text/plain": [
       "array([0.35458653, 0.35247175, 0.29294172])"
      ]
     },
     "execution_count": 10,
     "metadata": {},
     "output_type": "execute_result"
    }
   ],
   "source": [
    "result_UQSA_adapted(0.4, 1000)"
   ]
  },
  {
   "cell_type": "code",
   "execution_count": null,
   "metadata": {},
   "outputs": [],
   "source": []
  },
  {
   "cell_type": "markdown",
   "metadata": {},
   "source": [
    "### 5. 1 Function choice\n",
    "Now we try to tune the problem into a equivalent problem:\n",
    "$$min_{x\\in\\mathbb{R}^{d-1}}\\frac{1}{2}w(x)^TSw(x),$$\n",
    "where $w(x)=(x_1, x_2, ... x_{d-1}, 1-\\sum_i^{d-1}x_i)^T$\n",
    "\n",
    "Taking the partial derivative:\n",
    "$$\\partial_{w_i}(\\frac{1}{2}w(x)^T)Sw(x)) = (Sw(x))_i - (Sw(x))_d,\\quad i=1,\\, 2,\\, \\cdots,\\, d-1$$\n",
    "where $Sw(x)_i$ is the i-th row of the vector $Sw.$\n",
    "\n",
    "We take $$F^r(w) = \\{(Sw(x))_i - Sw(x)_d\\}_{i=1}^{d-1}$$\n",
    "Now we verify the condition $\\langle F^r(x), x-x^*\\rangle>0, \\forall x\\neq x^*, x\\in \\mathbb{R}^{d-1}$.\n",
    "\n",
    "Firstly $$w(x)=(x_1, x_2, ... x_{d-1}, 1-\\sum_i^{d-1}x_i)^T = Ax+b,$$\n",
    "where\n",
    "$$\n",
    "A \n",
    "= \n",
    "\\begin{pmatrix} \n",
    "1 & 0 & \\cdots & 0\\\\\n",
    "0 & 1 & \\cdots & 0\\\\\n",
    "\\vdots & \\vdots & \\ddots & \\vdots\\\\\n",
    "0 & \\cdots & 0 & 1 \\\\\n",
    "-1 & -1 & \\cdots & -1\n",
    "\\end{pmatrix}_{d\\times(d-1)},\n",
    "b = (0,\\, 0,\\,\\cdots,0,\\,1)^T\\in \\mathbb{R}^{d}\n",
    "$$\n",
    "We can also write the vector $F(w)$ as \n",
    "$$\n",
    "F^r(w)\n",
    "=\n",
    "\\begin{pmatrix} \n",
    "(Sw)_1 - (Sw)_d \\\\\n",
    "(Sw)_2 - (Sw)_d\\\\\n",
    "\\vdots \\\\\n",
    "(Sw)_{d-1} - (Sw)_d\n",
    "\\end{pmatrix}\n",
    "=\n",
    "\\begin{pmatrix}\n",
    "1 & 0 & \\cdots & 0 & -1 \\\\\n",
    "\\vdots & \\vdots & \\ddots & \\vdots & \\vdots \\\\\n",
    "0 & 0 & \\cdots & 1 & -1\n",
    "\\end{pmatrix}_{(d-1)\\times d}\n",
    "=\n",
    "A^TSw.\n",
    "$$\n",
    "Hence we have $$F^r(w(x))=A^TSw = A^TS(Ax+b) = Cx + c,$$\n",
    "where $C = A^TSA\\in \\mathcal{M}_{d-1}, \\, c = A^TSb\\in \\mathbb{R}^{d-1}.$\n",
    "\n",
    "So we have $\\forall x \\in \\mathbb{R}^{d-1}, x\\neq x^*$, where $F^r(w(x^*)) = Cx^*+c=0$,\n",
    "$$\\langle Cx+c,\\, x-x^*\\rangle= \\langle C(x-x^*)+Cx^*+c,\\, x-x^*\\rangle = \\langle C(x-x^*),\\, x-x^*\\rangle>0,$$\n",
    "since $C$ is positive definite.\n",
    "\n",
    "Note that the second condition of the Robinson-Monro is obviously satisfied."
   ]
  },
  {
   "cell_type": "markdown",
   "metadata": {},
   "source": [
    "Now we take $F^r(w(x)) = E(f^r(w(x), R)),$ where $$f(w(x),R) = A^T(R-\\mu)(R-\\mu)'w(x) = A^T(R-\\mu)(R-\\mu)'(Ax+b),$$\n",
    "we are going to implement the Robbins-Monro and the UQSA with this new function."
   ]
  },
  {
   "cell_type": "markdown",
   "metadata": {},
   "source": [
    "#### Robbins-Monro"
   ]
  },
  {
   "cell_type": "code",
   "execution_count": 32,
   "metadata": {},
   "outputs": [
    {
     "data": {
      "text/plain": [
       "(array([[ 1.,  0.],\n",
       "        [ 0.,  1.],\n",
       "        [-1., -1.]]),\n",
       " array([[0.],\n",
       "        [0.],\n",
       "        [1.]]))"
      ]
     },
     "execution_count": 32,
     "metadata": {},
     "output_type": "execute_result"
    }
   ],
   "source": [
    "n = 3\n",
    "unit = np.identity(n-1)\n",
    "ones = np.ones((1, n-1))\n",
    "A = np.vstack((unit, -ones))\n",
    "b = np.vstack((np.zeros((n-1,1)), [[1]]))\n",
    "A, b"
   ]
  },
  {
   "cell_type": "code",
   "execution_count": 33,
   "metadata": {},
   "outputs": [],
   "source": [
    "def f2(x, R):\n",
    "    \"\"\"\n",
    "    function for Robbins Monro regression\n",
    "        E[f2(w(x),R)] = F^r(w(x)) = 0 \n",
    "        Note that A is of dim (d,d-1) (d = n = len(R_))\n",
    "    inputs :\n",
    "            x :   n-1 vector in the regression\n",
    "            R :   A random vector to perform the RM\n",
    "            \n",
    "    return : f(w,R) of dimension n-1\n",
    "    \"\"\"\n",
    "    x_, R_, mu_ = x.reshape(n-1,1), R.reshape(n, 1), mu.reshape(n, 1)\n",
    "    \n",
    "    left = np.matmul(A.T, np.matmul(R_ - mu_, (R_ - mu_).T))\n",
    "    right = np.matmul(A, x) + b\n",
    "    \n",
    "    result = np.matmul(left, right)\n",
    "    \n",
    "    return result\n",
    "    "
   ]
  },
  {
   "cell_type": "code",
   "execution_count": 35,
   "metadata": {
    "scrolled": true
   },
   "outputs": [
    {
     "data": {
      "image/png": "[encoded data removed]",
      "text/plain": [
       "<Figure size 432x288 with 1 Axes>"
      ]
     },
     "metadata": {
      "needs_background": "light"
     },
     "output_type": "display_data"
    },
    {
     "name": "stdout",
     "output_type": "stream",
     "text": [
      "final result is \n",
      " [[0.73921954]\n",
      " [0.0814639 ]\n",
      " [0.17931656]]\n",
      "compare with the theory result \n",
      " [[0.73492551]\n",
      " [0.09458501]\n",
      " [0.17048948]]\n"
     ]
    }
   ],
   "source": [
    "def RM_bis(N = 10000, alpha = 0.6):\n",
    "    R = np.random.multivariate_normal(mu, S, N)\n",
    "    x = np.random.random((n - 1, 1)) # initialization with random value\n",
    "    \n",
    "    w0 = np.vstack((x, 1 - np.sum(x)))\n",
    "    w = [w0]\n",
    "    w_hist = [w0.reshape(n, 1)]\n",
    "    \n",
    "    rg = range(N)\n",
    "    if N > 1e4 :\n",
    "        rg = tqdm(rg)\n",
    "        \n",
    "    for i in rg:\n",
    "        x = x - 10.*f2(x, R[i])/np.power(i+1, alpha)\n",
    "        w_tmp = np.vstack((x, 1 - np.sum(x)))\n",
    "        w.append(w_tmp)\n",
    "        w_hist.append(w_tmp/np.sum(w_tmp))\n",
    "    y_true = theory_answer(S)[0]\n",
    "        \n",
    "    plot_trace(w_hist,y_true)\n",
    "    \n",
    "    print(\"final result is \\n {}\".format(w[-1]/np.sum(w[-1])))\n",
    "    print(\"compare with the theory result \\n {}\".format(theory_answer(S)))\n",
    "    return w[-1]/np.sum(w[-1]),w,w_hist\n",
    "x,_,_ = RM_bis(N = 10000,alpha = 0.65)"
   ]
  },
  {
   "cell_type": "markdown",
   "metadata": {},
   "source": [
    "# UQSA for GARCH\n",
    "we need to calculte the $$H(x, r_t) = \\frac{1}{1+|\\tilde\\theta|^2}A^T\\left(\\sum_{k=1}^H r_{T_{\\text{reb}}+k}r^T_{T_{\\text{reb}}+k}\\right)(Ax+b),$$\n",
    "from the $r_{T_{\\text{reb}}}$ given. Then things goes easy to perform almost the same thing like what we have done with the toy model.\n",
    "\n",
    "TODO LIST:\n",
    "- [x] Write the new function $$H(x, r_ts)$$ where $r_ts \\in \\mathcal{R}^{d*H}$ of which each coloum is an array with dimension $d$ for time $T_{\\text{reb}}+k$\n",
    "- [ ] Modify the part at the beginning of the self.iteration of the simulation part. what we need is a series of $\\theta$s and $r_t$ arrays\n",
    "- [ ] Modify the u_0initialization part\n",
    "- [ ] Test for debugging and choosing good prameters."
   ]
  },
  {
   "cell_type": "code",
   "execution_count": 2,
   "metadata": {},
   "outputs": [],
   "source": [
    "class UQSA_GARCHCCC:\n",
    "    def __init__(self,K, n = 3, n_iter = 3, r_min = 0.3, r_max = 0.5, gamma = None,m = None,M = None,a = None,b=None,plot = False):\n",
    "        \"\"\"\n",
    "        Class for the construction of UQSA generator\n",
    "        \n",
    "        ATTENTION:\n",
    "                    - n     : dimention of \\omega i.e. final solution\n",
    "                    - n_iter: iteration help n, i.e. number of u_i iterated by UQSA\n",
    "                    - LB    : reduced Legendre basis, with \\int_{r_min}^{r_max}B_i(.)B_j(.)d\\theta = \\delta_{ij}\n",
    "        \"\"\"\n",
    "        self.K = K\n",
    "        # steps of iteration -------------------\n",
    "        if gamma is not None:\n",
    "            self.gamma = gamma\n",
    "        elif b is not None:\n",
    "            self.gamma = [1./np.power(k,b) for k in range(K+1)]\n",
    "        else:\n",
    "            self.gamma = [1./np.power(k,0.65) for k in range(K+1)]\n",
    "        if not a:\n",
    "            a=0.24\n",
    "        self.m = [int(np.floor(np.power(k, a))) + 1 for k in range(K+1)]\n",
    "        if M is None:\n",
    "            self.M = [10]*(K+1)\n",
    "        else:\n",
    "            self.M = M\n",
    "        self.u0 = None\n",
    "        self.u_record = None\n",
    "        self.r_min = r_min\n",
    "        self.r_max = r_max\n",
    "        self.n = n                # n is the dimension of w and theoretically\n",
    "        self.n_iter = n_iter      # n_iter is the dimension of MC iteration for exemple if we take w_{n} = 1 - sum_1^{n-1}(w_{i}), then n_iter = n-1\n",
    "        self.mu = np.array([.05, .07, .06])  # TODO\n",
    "        self.LB = None\n",
    "        self.plot = plot          # Flag for plot\n",
    "        #         self.LB = [np.sqrt((2*i+1)/(self.r_max-self.r_min))*np.polynomial.legendre.Legendre.basis(deg=i,domain=np.array([r_min, r_max])) for i in range(np.max(self.m)+1)]\n",
    "    def Legendre_B(self,a, b, n):\n",
    "        \"\"\"\n",
    "        generate a normalized Legendre basis in the interval [a, b]\n",
    "        n is the number of the Legendre basis needed\n",
    "        \"\"\"\n",
    "        delta = b-a\n",
    "        LB = [np.sqrt((2*i+1)/delta)*np.polynomial.legendre.Legendre.basis(deg=i) for i in range(n)]\n",
    "        new = []\n",
    "        for i in range(n):\n",
    "            z = lambda x, i=i: LB[i]((2*x-a-b)/(b-a))\n",
    "            new.append(z)\n",
    "        return new\n",
    "#     def f(self, w, R, lambd = 0.3):\n",
    "#         \"\"\"\n",
    "#         function for Robbins Monro regression\n",
    "#             E[f(w,R)] = F(w) = 0 \n",
    "\n",
    "#         inputs :\n",
    "#                 w :   w_n-1 in the regression\n",
    "#                 R :   A random vector to perform the RM\n",
    "#             lambd :   eigenvalue default by 0.3\n",
    "#         return : f(w,R)\n",
    "#         \"\"\"\n",
    "#         t1 = R.reshape(self.n, 1)   # reshape R^n vectors into col-vectors\n",
    "#         t2 = mu.reshape(self.n, 1)\n",
    "#         return np.matmul((t1 - t2)*((t1 - t2).T), w) + lambd*np.ones((self.n, 1))\n",
    "    def f(self, x, r_ts):\n",
    "        \"\"\"\n",
    "        function for Robbins Monro regression\n",
    "            E[f2(w(x),R)] = F^r(w(x)) = 0 \n",
    "            Note that A is of dim (d,d-1) (d = n = len(R_)) (n,n_iter = n - 1)\n",
    "        inputs :\n",
    "                x :   n-1 vector in the regression\n",
    "                R :   A random vector to perform the RM\n",
    "\n",
    "        return : f(w,R) of dimension n-1\n",
    "        \"\"\"       \n",
    "        A,b,n,n_iter = self.A, self.b, self.n, self.n_iter\n",
    "        x_= x.reshape(n_iter,1)\n",
    "\n",
    "        left = np.matmul(A.T, np.matmul(r_ts,r_ts.T))\n",
    "        right = np.matmul(A, x) + b\n",
    "\n",
    "        result = np.matmul(left, right)\n",
    "\n",
    "        return result\n",
    "    def W(self,m_k, rho, u0):\n",
    "        return np.sum([u0[j]*self.LB[j](rho) for j in range(m_k+1)], axis = 0)\n",
    "    \n",
    "#     def S_rho(self, rho):\n",
    "#         D = np.diag([.1, .14, .2])\n",
    "#         # rho = 0.5\n",
    "#         K = np.array([[1, rho, 0],\n",
    "#                      [rho, 1, rho],\n",
    "#                      [0, rho, 1]])\n",
    "#         S = np.matmul(np.matmul(D, K), D)\n",
    "#         return S\n",
    "    \n",
    "    def omega_theory(self,r):\n",
    "#         n = self.n\n",
    "#         S = self.S_rho(r)\n",
    "#         inv = np.linalg.inv(S)\n",
    "#         w = np.matmul(inv, np.ones((n, 1)))/np.sum(inv)\n",
    "        return \"function removed\"\n",
    "    \n",
    "    def u0_initialization(self):\n",
    "        n = self.n_iter #attention!!!\n",
    "        unit = np.identity(n)\n",
    "        ones = np.ones((1, n))\n",
    "        self.A = np.vstack((unit, -ones))\n",
    "        self.b = np.vstack((np.zeros((n,1)), [[1]]))\n",
    "        \n",
    "        ##########################\n",
    "        ####  trich init   #######\n",
    "        ##########################\n",
    "        res = []\n",
    "        for i in range(np.max(self.m)+1):\n",
    "            res_i = []\n",
    "            for j in range(n):\n",
    "                func = lambda r: self.omega_theory(r)[j] * self.LB[i](r)    \n",
    "                res_i.append(quad(func,self.r_min,self.r_max)[0]) #integral w()*B_i() \\pi(d\\rho) \\pi(0.2) = 1\n",
    "            res.append(res_i)\n",
    "        self.u_theory_result = res\n",
    "#         self.u0 = res\n",
    "        ###########################\n",
    "#                   MC\n",
    "        ###########################\n",
    "        u0_init = []\n",
    "        rss = np.linspace(self.r_min,self.r_max,101)\n",
    "        for i in range(np.max(self.m) + 1):\n",
    "            u0_init_i = []\n",
    "            for j in range(n):\n",
    "                summ = 0.0\n",
    "                for r in rss:\n",
    "                    summ += self.omega_theory(r)[j] * self.LB[i](r)*1e-2 *0.2 \n",
    "                u0_init_i.append(summ[0])  #MC Expectation = \\int w(r)B_i(r) \\pi(d\\theta) et \\pi(d\\theta) = 0.2*d\\theta in this case\n",
    "            u0_init.append(u0_init_i)\n",
    "            \n",
    "        self.u_record = [u0_init]\n",
    "        self.u0 = u0_init\n",
    "        return self.u_theory_result\n",
    "        \n",
    "    def para_simulate(self):\n",
    "        \"\"\"\n",
    "        To comment!!!\n",
    "        \"\"\"\n",
    "        n = self.n\n",
    "        the = np.array([self.theta_max[i] - self.theta_min[i] for i in range(3)])*np.random.uniform(size = (n,3)) + np.array(self.theta_min)\n",
    "        r_pre = self.r_init.reshape(n,1)\n",
    "        sig_pre = self.sig_init.reshape(n,1)\n",
    "        ones = np.eye(n)\n",
    "        D_t_pre = np.diag(sig_pre)\n",
    "        R_t_pre = np.diag(r_pre)\n",
    "        rts = []\n",
    "        for h in range(1,H+1):\n",
    "            D_t_2 = ones*the[:,0] + the[:,1]*R_t_pre**2 + the[:,2]*D_t_pre**2\n",
    "            D_t = np.sqrt(D_t_2)\n",
    "            V_t = D_t.dot(self.GAMMA).dot(D_t)\n",
    "            r_t = np.random.multivariate_normal(np.zeros(n), V_t)\n",
    "            rts.append(r_t)\n",
    "            D_t_pre = D_t\n",
    "            R_t_pre = np.diag(r_t)\n",
    "        return the,rts\n",
    "    \n",
    "    def iteration(self):\n",
    "        u0 = np.array(self.u0)\n",
    "#         u0 = np.random.randn(np.shape(u0)[0],np.shape(u0)[1])\n",
    "        n = self.n_iter\n",
    "        for k in range(1, self.K+1):\n",
    "            theta = []\n",
    "            r_ts_set = []\n",
    "            for _ in range(self.M[k]+1):\n",
    "                the,rts = para_simulate()\n",
    "                theta.append(the)\n",
    "                r_ts_set.append(rts)\n",
    "#                 r = np.random.uniform(low = self.r_min, high = self.r_max)\n",
    "#                 rho.append(r)\n",
    "#                 S = self.S_rho(r)\n",
    "#                 R.append(np.random.multivariate_normal(self.mu, S))\n",
    "                \n",
    "            for i in range(self.m[k] + 1):\n",
    "                expect = 0.0\n",
    "                for s in range(1,self.M[k]+1): \n",
    "                    w = self.W(self.m[k-1], rho[s], u0)\n",
    "                    expect += (self.LB[i](rho[s]) * self.f(w.reshape(n,1), R[s])).reshape(1,n)\n",
    "                expect /= self.M[k]\n",
    "                if i > self.m[k-1]:\n",
    "                    u[i] = - self.gamma[k] * expect\n",
    "                else:\n",
    "                    u[i] = u0[i] - self.gamma[k] * expect\n",
    "            u0 = u\n",
    "            self.u_record.append(u)\n",
    "        return u\n",
    "    def run_out(self, rs = None):\n",
    "        self.LB = self.Legendre_B(self.r_min,self.r_max,np.max(self.m)+1)\n",
    "\n",
    "        if rs is None:\n",
    "            rs = [0.5*(self.r_min + self.r_max)]\n",
    "        self.u0_initialization()\n",
    "\n",
    "        res = self.iteration()\n",
    "#         print(\"the u in the end of the iteration is : \\n{}\".format(res))\n",
    "        \n",
    "        for r in rs:\n",
    "            x = self.W(np.max(self.m),r,res)\n",
    "            calcul_answer = list(x)\n",
    "            calcul_answer.append(1-sum(x))\n",
    "#             print(\"-\"*60)\n",
    "#             print(\"and the result of rho = {} is \\n {}\".format(r,calcul_answer))\n",
    "#             print(\"compare with the theory result : \\n {}\\n\".format(self.omega_theory(r).reshape(1,self.n)))\n",
    "        res = []\n",
    "        for i in range(50,self.K,5):\n",
    "            res.append(self.u_record[i][2][1])\n",
    "        if self.plot:\n",
    "            eapp = []\n",
    "            u = self.u_theory_result\n",
    "            u_record = self.u_record\n",
    "            rhos = np.random.rand(100) * 0.2 + 0.3\n",
    "            etot = []\n",
    "            \n",
    "            def dist(x,y):\n",
    "                return sum([(x[i]-y[i])**2 for i in range(len(x))])\n",
    "            for u_t in u_record:\n",
    "                eapp.append(sum([dist(u_t[i],u[i]) for i in range(len(u_t))]))\n",
    "\n",
    "            w = self.omega_theory\n",
    "            for i in range(50,self.K,50):\n",
    "                temp = 0.0\n",
    "                for rho in rhos:\n",
    "                    w_UQSA = list(uqsa.W(len(u_record[i])-1,rho,u_record[i]))\n",
    "                    s = sum(w_UQSA)\n",
    "                    w_UQSA.append(1.0-s)\n",
    "            #         print((w_UQSA))\n",
    "\n",
    "                    temp += (dist(w(rho),w_UQSA))\n",
    "                etot.append(temp/500)  \n",
    "#                 eapp_toplt = eapp[50:1000:50]\n",
    "#                 diff = [etot[i] - eapp_toplt[i] for i in range(len(etot))]\n",
    "#                 plt.plot(range(50,1000,50),etot,label = 'total error')\n",
    "#                 plt.plot(range(50,1000,50),eapp_toplt, label = 'approx error')\n",
    "#                 plt.legend(loc='best')\n",
    "#             fig ,(ax1,ax2) = plt.subplots(2)    \n",
    "                \n",
    "#             ax1.plot(range(len(eapp)),eapp)  \n",
    "#             ax2.plot(range(50,self.K,50),etot,label = 'total error') \n",
    "#             ax2.plot(range(50,self.K,50),eapp[50:self.K:50],label = 'approx error') \n",
    "#             ax2.legend(loc='best')\n",
    "            \n",
    "#             plt.show()\n",
    "#             plt.title(\"error approximation\")\n",
    "        return res"
   ]
  },
  {
   "cell_type": "code",
   "execution_count": 3,
   "metadata": {
    "scrolled": true
   },
   "outputs": [
    {
     "name": "stderr",
     "output_type": "stream",
     "text": [
      "C:\\Users\\konglulu\\.conda\\envs\\tf_gpu\\lib\\site-packages\\ipykernel_launcher.py:18: RuntimeWarning: divide by zero encountered in double_scalars\n"
     ]
    }
   ],
   "source": [
    "uqsa = UQSA_generator(n_iter=2,K=1000,plot=True)\n",
    "u = uqsa.run_out([0.3,0.4,0.5])"
   ]
  },
  {
   "cell_type": "code",
   "execution_count": 4,
   "metadata": {
    "scrolled": true
   },
   "outputs": [],
   "source": [
    "u = uqsa.u_theory_result\n",
    "u_record = uqsa.u_record\n",
    "# w = uqsa.omega_theory"
   ]
  },
  {
   "cell_type": "code",
   "execution_count": 5,
   "metadata": {
    "scrolled": true
   },
   "outputs": [
    {
     "data": {
      "text/plain": [
       "Text(0.5, 1.0, 'error approximation')"
      ]
     },
     "execution_count": 5,
     "metadata": {},
     "output_type": "execute_result"
    },
    {
     "data": {
      "image/png": "[encoded data removed]",
      "text/plain": [
       "<Figure size 432x288 with 1 Axes>"
      ]
     },
     "metadata": {
      "needs_background": "light"
     },
     "output_type": "display_data"
    }
   ],
   "source": [
    "eapp = []\n",
    "def dist(x,y):\n",
    "    return sum([(x[i]-y[i])**2 for i in range(len(x))])\n",
    "\n",
    "for u_t in u_record:\n",
    "    eapp.append(sum([dist(u_t[i],u[i]) for i in range(len(u_t))]))\n",
    "plt.plot(range(len(eapp)),eapp)  \n",
    "plt.title(\"error approximation\")"
   ]
  },
  {
   "cell_type": "markdown",
   "metadata": {},
   "source": [
    "$$\n",
    "\\int_{0.3}^{0.5} B_i(\\theta) B_j(\\theta) d\\theta = \\delta_{ij}\n",
    "$$\n",
    "$$\n",
    "\\int_{0.3}^{0.5} B_i(\\theta) B_j(\\theta) \\pi(d\\theta) = 5 * \\delta_{ij} = E_{\\pi}[...]\n",
    "$$"
   ]
  },
  {
   "cell_type": "code",
   "execution_count": 8,
   "metadata": {},
   "outputs": [],
   "source": [
    "rhos = np.random.rand(100) * 0.2 + 0.3\n",
    "etot = []\n",
    "w = uqsa.omega_theory\n",
    "for i in range(50,1000,50):\n",
    "    temp = 0.0\n",
    "    for rho in rhos:\n",
    "        w_UQSA = list(uqsa.W(len(u_record[i])-1,rho,u_record[i]))\n",
    "        s = sum(w_UQSA)\n",
    "        w_UQSA.append(1.0-s)\n",
    "#         print((w_UQSA))\n",
    "\n",
    "        temp += (dist(w(rho),w_UQSA))\n",
    "    etot.append(temp/500)\n"
   ]
  },
  {
   "cell_type": "code",
   "execution_count": 10,
   "metadata": {
    "scrolled": true
   },
   "outputs": [
    {
     "data": {
      "text/plain": [
       "<matplotlib.legend.Legend at 0x279658355c8>"
      ]
     },
     "execution_count": 10,
     "metadata": {},
     "output_type": "execute_result"
    },
    {
     "data": {
      "image/png": "[encoded data removed]",
      "text/plain": [
       "<Figure size 432x288 with 1 Axes>"
      ]
     },
     "metadata": {
      "needs_background": "light"
     },
     "output_type": "display_data"
    }
   ],
   "source": [
    "eapp_toplt = eapp[50:1000:50]\n",
    "diff = [etot[i] - eapp_toplt[i] for i in range(len(etot))]\n",
    "plt.plot(range(50,1000,50),etot,label = 'total error')\n",
    "plt.plot(range(50,1000,50),eapp_toplt, label = 'approx error')\n",
    "plt.legend(loc='best')"
   ]
  },
  {
   "cell_type": "code",
   "execution_count": 7,
   "metadata": {},
   "outputs": [],
   "source": [
    "def dist(x,y):\n",
    "    return sum([(x[i]-y[i])**2 for i in range(len(x))])"
   ]
  },
  {
   "cell_type": "code",
   "execution_count": 2,
   "metadata": {},
   "outputs": [],
   "source": [
    "K = 1000\n",
    "step = 5\n",
    "def prepare_plot_data(K = 1000,step = 5,a=0.24,b=0.65):\n",
    "    uqsa = UQSA_generator(n_iter=2,K=K,plot=False)\n",
    "    u = uqsa.run_out([0.3,0.4,0.5])\n",
    "    \n",
    "    eapp = []\n",
    "    u = uqsa.u_theory_result\n",
    "    u_record = uqsa.u_record\n",
    "    for u_t in u_record:\n",
    "        eapp.append(sum([dist(u_t[i],u[i]) for i in range(len(u_t))]))\n",
    "    # plt.plot(range(len(eapp)),eapp)  \n",
    "    # plt.title(\"error approximation\")\n",
    "\n",
    "    rhos = np.random.rand(100) * 0.2 + 0.3\n",
    "    etot = []\n",
    "    w = uqsa.omega_theory\n",
    "    for i in range(step,K,step):\n",
    "        temp = 0.0\n",
    "        for rho in rhos:\n",
    "            w_UQSA = list(uqsa.W(len(u_record[i])-1,rho,u_record[i]))\n",
    "            s = sum(w_UQSA)\n",
    "            w_UQSA.append(1.0-s)\n",
    "    #         print((w_UQSA))\n",
    "\n",
    "            temp += (dist(w(rho),w_UQSA))\n",
    "        etot.append(temp/500)\n",
    "\n",
    "    eapp_toplt = eapp[step:K:step]\n",
    "    # diff = [etot[i] - eapp_toplt[i] for i in range(len(etot))]\n",
    "    # plt.plot(range(50,1000,50),etot,label = 'total error')\n",
    "    # plt.plot(range(50,1000,50),eapp_toplt, label = 'approx error')\n",
    "    # plt.legend(loc='best')\n",
    "    return etot,eapp_toplt"
   ]
  },
  {
   "cell_type": "code",
   "execution_count": 10,
   "metadata": {
    "scrolled": true
   },
   "outputs": [
    {
     "name": "stderr",
     "output_type": "stream",
     "text": [
      "C:\\Users\\konglulu\\.conda\\envs\\tf_gpu\\lib\\site-packages\\ipykernel_launcher.py:10: RuntimeWarning: divide by zero encountered in double_scalars\n",
      "  # Remove the CWD from sys.path while we load stuff.\n",
      "100%|█████████████████████████████████████████████████████████████████████████████| 1000/1000 [00:06<00:00, 163.29it/s]\n"
     ]
    }
   ],
   "source": [
    "etot,eapp = prepare_plot_data(K,step)"
   ]
  },
  {
   "cell_type": "code",
   "execution_count": 13,
   "metadata": {
    "scrolled": true
   },
   "outputs": [
    {
     "name": "stdout",
     "output_type": "stream",
     "text": [
      "-------------BEGIN b = 0.55-------------\n",
      ">"
     ]
    },
    {
     "name": "stderr",
     "output_type": "stream",
     "text": [
      "C:\\Users\\konglulu\\.conda\\envs\\tf_gpu\\lib\\site-packages\\ipykernel_launcher.py:18: RuntimeWarning: divide by zero encountered in double_scalars\n"
     ]
    },
    {
     "name": "stdout",
     "output_type": "stream",
     "text": [
      ">>>>>>>>>>>>>>>>>>>>>>>>>>>>>>>>>>>>>>>>>>>>>>>>>>>>>>>>>>>>>>>>>>>>>>>>>>>>>>>>>>>>>>>>>>>>>>>>>>>\n",
      " END time used = 2770.7490327358246\n",
      "-------------BEGIN b = 0.65-------------\n",
      ">>>>>>>>>>>>>>>>>>>>>>>>>>>>>>>>>>>>>>>>>>>>>>>>>>>>>>>>>>>>>>>>>>>>>>>>>>>>>>>>>>>>>>>>>>>>>>>>>>>>\n",
      " END time used = 2779.3069705963135\n",
      "-------------BEGIN b = 0.75-------------\n",
      ">>>>>>>>>>>>>>>>>>>>>>>>>>>>>>>>>>>>>>>>>>>>>>>>>>>>>>>>>>>>>>>>>>>>>>>>>>>>>>>>>>>>>>>>>>>>>>>>>>>>\n",
      " END time used = 2791.805422067642\n",
      "-------------BEGIN b = 0.85-------------\n",
      ">>>>>>>>>>>>>>>>>>>>>>>>>>>>>>>>>>>>>>>>>>>>>>>>>>>>>>>>>>>>>>>>>>>>>>>>>>>>>>>>>>>>>>>>>>>>>>>>>>>>\n",
      " END time used = 2787.557106256485\n"
     ]
    }
   ],
   "source": [
    "EAPPs = []\n",
    "ETOTs = []\n",
    "a = 0.24\n",
    "K = 3000\n",
    "step = 20\n",
    "for b in (0.55,0.65,0.75,0.85):\n",
    "    print(\"-------------BEGIN b = {}-------------\".format(b))\n",
    "    EAPP = []\n",
    "    ETOT = []\n",
    "    start = time.time()\n",
    "    for i in range(100):\n",
    "        print('>',end='')\n",
    "        etot,eapp = prepare_plot_data(K,step,a=a,b=b)\n",
    "        EAPP.append(eapp)\n",
    "        ETOT.append(etot)\n",
    "    EAPPs.append(EAPP)\n",
    "    ETOTs.append(ETOT)\n",
    "    print('\\n END time used = {}'.format(time.time()-start))"
   ]
  },
  {
   "cell_type": "code",
   "execution_count": 28,
   "metadata": {},
   "outputs": [
    {
     "data": {
      "image/png": "[encoded data removed]",
      "text/plain": [
       "<Figure size 432x288 with 1 Axes>"
      ]
     },
     "metadata": {
      "needs_background": "light"
     },
     "output_type": "display_data"
    }
   ],
   "source": [
    "for i,b in enumerate((0.55,0.65,0.75,0.85)):\n",
    "    ET = np.mean(np.array(ETOTs[i]),axis = 0)\n",
    "#     EA = np.mean(np.array(EAPPs[i]),axis = 0)\n",
    "    plt.plot(range(step,K,step),ET,label = 'b = {}'.format(b))\n",
    "plt.legend(loc='best')\n",
    "plt.ylim(0.0,5e-4)\n",
    "plt\n",
    "plt.show()"
   ]
  },
  {
   "cell_type": "code",
   "execution_count": 12,
   "metadata": {},
   "outputs": [],
   "source": [
    "    ETOT = np.mean(np.array(ETOT),axis = 0)\n",
    "    EAPP = np.mean(np.array(EAPP),axis = 0)"
   ]
  },
  {
   "cell_type": "code",
   "execution_count": 36,
   "metadata": {},
   "outputs": [
    {
     "data": {
      "image/png": "[encoded data removed]",
      "text/plain": [
       "<Figure size 432x288 with 1 Axes>"
      ]
     },
     "metadata": {
      "needs_background": "light"
     },
     "output_type": "display_data"
    }
   ],
   "source": [
    "plt.plot(range(step,K,step),ETOT,label = 'total error')\n",
    "plt.plot(range(step,K,step),EAPP, label = 'approx error')\n",
    "plt.legend(loc='best')\n",
    "plt.title(\"Average Error-iteration plot with 100 trys of UQSA\")\n",
    "plt.show()"
   ]
  },
  {
   "cell_type": "code",
   "execution_count": 37,
   "metadata": {},
   "outputs": [
    {
     "data": {
      "image/png": "[encoded data removed]",
      "text/plain": [
       "<Figure size 432x288 with 1 Axes>"
      ]
     },
     "metadata": {
      "needs_background": "light"
     },
     "output_type": "display_data"
    }
   ],
   "source": [
    "plt.loglog(range(step,K,step),ETOT,label = 'total error')\n",
    "plt.loglog(range(step,K,step),EAPP, label = 'approx error')\n",
    "plt.legend(loc='best')\n",
    "plt.title(\"Average Error-iteration loglog plot with 100 trys of UQSA\")\n",
    "plt.show()"
   ]
  },
  {
   "cell_type": "code",
   "execution_count": null,
   "metadata": {},
   "outputs": [],
   "source": []
  },
  {
   "cell_type": "code",
   "execution_count": 29,
   "metadata": {},
   "outputs": [
    {
     "name": "stdout",
     "output_type": "stream",
     "text": [
      "-------------BEGIN a = 0.2-------------\n",
      ">"
     ]
    },
    {
     "name": "stderr",
     "output_type": "stream",
     "text": [
      "C:\\Users\\konglulu\\.conda\\envs\\tf_gpu\\lib\\site-packages\\ipykernel_launcher.py:18: RuntimeWarning: divide by zero encountered in double_scalars\n"
     ]
    },
    {
     "name": "stdout",
     "output_type": "stream",
     "text": [
      ">>>>>>>>>>>>>>>>>>>>>>>>>>>>>>>>>>>>>>>>>>>>>>>>>>>>>>>>>>>>>>>>>>>>>>>>>>>>>>>>>>>>>>>>>>>>>>>>>>>\n",
      " END time used = 2876.0055782794952\n",
      "-------------BEGIN a = 0.24-------------\n",
      ">>>>>>>>>>>>>>>>>>>>>>>>>>>>>>>>>>>>>>>>>>>>>>>>>>>>>>>>>>>>>>>>>>>>>>>>>>>>>>>>>>>>>>>>>>>>>>>>>>>>\n",
      " END time used = 2807.2106623649597\n",
      "-------------BEGIN a = 0.28-------------\n",
      ">>>>>>>>>>>>>>>>>>>>>>>>>>>>>>>>>>>>>>>>>>>>>>>>>>>>>>>>>>>>>>>>>>>>>>>>>>>>>>>>>>>>>>>>>>>>>>>>>>>>\n",
      " END time used = 2791.782737493515\n",
      "-------------BEGIN a = 0.32-------------\n",
      ">>>>>>>>>>>>>>>>>>>>>>>>>>>>>>>>>>>>>>>>>>>>>>>>>>>>>>>>>>>>>>>>>>>>>>>>>>>>>>>>>>>>>>>>>>>>>>>>>>>>\n",
      " END time used = 2797.587320327759\n"
     ]
    }
   ],
   "source": [
    "EAPPss = []\n",
    "ETOTss = []\n",
    "b = 0.65\n",
    "K = 3000\n",
    "step = 20\n",
    "for a in (0.2,0.24,0.28,0.32):\n",
    "    print(\"-------------BEGIN a = {}-------------\".format(a))\n",
    "    EAPP = []\n",
    "    ETOT = []\n",
    "    start = time.time()\n",
    "    for i in range(100):\n",
    "        print('>',end='')\n",
    "        etot,eapp = prepare_plot_data(K,step,a=a,b=b)\n",
    "        EAPP.append(eapp)\n",
    "        ETOT.append(etot)\n",
    "    EAPPss.append(EAPP)\n",
    "    ETOTss.append(ETOT)\n",
    "    print('\\n END time used = {}'.format(time.time()-start))"
   ]
  },
  {
   "cell_type": "code",
   "execution_count": 31,
   "metadata": {
    "scrolled": true
   },
   "outputs": [
    {
     "name": "stderr",
     "output_type": "stream",
     "text": [
      "C:\\Users\\konglulu\\.conda\\envs\\tf_gpu\\lib\\site-packages\\ipykernel_launcher.py:10: RuntimeWarning: divide by zero encountered in double_scalars\n",
      "  # Remove the CWD from sys.path while we load stuff.\n",
      "100%|████████████████████████████████████████████████████████████████████████████| 10000/10000 [02:14<00:00, 74.37it/s]\n"
     ]
    },
    {
     "name": "stdout",
     "output_type": "stream",
     "text": [
      "the u in the end of the iteration is : \n",
      "[[ 3.29669489e-01  3.72730907e-02]\n",
      " [ 2.05302877e-02 -2.71939914e-02]\n",
      " [ 3.37829920e-03 -3.22341810e-03]\n",
      " [-1.08939908e-03 -3.58865898e-04]\n",
      " [ 1.18890437e-03 -1.56042866e-03]\n",
      " [ 6.61169606e-04 -1.14531806e-03]\n",
      " [ 5.42884440e-06  3.44270894e-04]\n",
      " [ 6.53020711e-04 -1.67272250e-05]\n",
      " [-1.43376999e-03 -4.24205666e-04]\n",
      " [ 7.41425550e-04 -3.49824319e-04]\n",
      " [ 2.21232832e-04  5.23113440e-04]]\n",
      "------------------------------------------------------------\n",
      "and the result of rho = 0.3 is \n",
      " [0.660268618260364, 0.18047872443205837, 0.15925265730757765]\n",
      "compare with the theory result : \n",
      " [[0.67654597 0.17242183 0.1510322 ]]\n",
      "\n",
      "------------------------------------------------------------\n",
      "and the result of rho = 0.4 is \n",
      " [0.7275223671001776, 0.0842224067868908, 0.18825522611293155]\n",
      "compare with the theory result : \n",
      " [[0.73492551 0.09458501 0.17048948]]\n",
      "\n",
      "------------------------------------------------------------\n",
      "and the result of rho = 0.5 is \n",
      " [0.841976024868952, -0.058508053103771156, 0.2165320282348192]\n",
      "compare with the theory result : \n",
      " [[ 0.82688391 -0.0407332   0.21384929]]\n",
      "\n",
      "------------------------------------------------------------\n",
      "and the result of rho = 0.8 is \n",
      " [489345.81273615407, 786022.8766980728, -1275367.6894342268]\n",
      "compare with the theory result : \n",
      " [[-0.95169946  3.0411449  -1.08944544]]\n",
      "\n"
     ]
    },
    {
     "data": {
      "image/png": "[encoded data removed]",
      "text/plain": [
       "<Figure size 432x288 with 1 Axes>"
      ]
     },
     "metadata": {
      "needs_background": "light"
     },
     "output_type": "display_data"
    }
   ],
   "source": [
    "uqsa = UQSA_generator(n=2,K=10000)\n",
    "u = uqsa.run_out([0.3,0.4,0.5,0.8])"
   ]
  },
  {
   "cell_type": "code",
   "execution_count": 7,
   "metadata": {},
   "outputs": [
    {
     "name": "stderr",
     "output_type": "stream",
     "text": [
      "C:\\Users\\konglulu\\.conda\\envs\\tf_gpu\\lib\\site-packages\\ipykernel_launcher.py:10: RuntimeWarning: divide by zero encountered in double_scalars\n",
      "  # Remove the CWD from sys.path while we load stuff.\n",
      "100%|█████████████████████████████████████████████████████████████████████████████| 1000/1000 [00:05<00:00, 172.05it/s]\n"
     ]
    },
    {
     "name": "stdout",
     "output_type": "stream",
     "text": [
      "the u in the end of the iteration is : \n",
      "[[ 3.34629837e-01  3.43416765e-02]\n",
      " [ 1.48961195e-02 -2.60689378e-02]\n",
      " [ 1.40131054e-03 -1.55831797e-03]\n",
      " [-1.92949724e-04 -1.43564930e-03]\n",
      " [ 3.00567160e-03 -4.92281623e-03]\n",
      " [-1.99255044e-03  1.12829394e-04]\n",
      " [ 3.97330090e-05  1.60365780e-03]]\n",
      "------------------------------------------------------------\n",
      "and the result of rho = 0.3 is \n",
      " [0.7339708444466083, 0.15752579300967548, 0.10850336254371618]\n",
      "compare with the theory result : \n",
      " [[0.67654597 0.17242183 0.1510322 ]]\n",
      "\n",
      "------------------------------------------------------------\n",
      "and the result of rho = 0.4 is \n",
      " [0.7522126779356925, 0.064262052706563, 0.1835252693577445]\n",
      "compare with the theory result : \n",
      " [[0.73492551 0.09458501 0.17048948]]\n",
      "\n",
      "------------------------------------------------------------\n",
      "and the result of rho = 0.5 is \n",
      " [0.8175183786430967, -0.05971663209873325, 0.2421982534556365]\n",
      "compare with the theory result : \n",
      " [[ 0.82688391 -0.0407332   0.21384929]]\n",
      "\n",
      "------------------------------------------------------------\n",
      "and the result of rho = 0.8 is \n",
      " [-71.28816653332117, 670.2164163761547, -597.9282498428336]\n",
      "compare with the theory result : \n",
      " [[-0.95169946  3.0411449  -1.08944544]]\n",
      "\n"
     ]
    },
    {
     "data": {
      "image/png": "[encoded data removed]",
      "text/plain": [
       "<Figure size 432x288 with 1 Axes>"
      ]
     },
     "metadata": {
      "needs_background": "light"
     },
     "output_type": "display_data"
    }
   ],
   "source": [
    "uqsa = UQSA_generator(n_iter=2,K=1000)\n",
    "u = uqsa.run_out([0.3,0.4,0.5,0.8])"
   ]
  },
  {
   "cell_type": "code",
   "execution_count": 13,
   "metadata": {},
   "outputs": [],
   "source": [
    "x = np.random.randn(2,3)"
   ]
  },
  {
   "cell_type": "code",
   "execution_count": 15,
   "metadata": {},
   "outputs": [
    {
     "data": {
      "text/plain": [
       "array([[-0.07670304,  0.76921081, -0.74277723],\n",
       "       [ 1.60805119, -0.65427796,  1.39969144]])"
      ]
     },
     "execution_count": 15,
     "metadata": {},
     "output_type": "execute_result"
    }
   ],
   "source": [
    "np.random.randn(np.shape(x)[0],np.shape(x)[1])"
   ]
  },
  {
   "cell_type": "markdown",
   "metadata": {},
   "source": [
    "#### Explication of Error:\n",
    "\n",
    "by defination of inner product, $\\langle f,g\\rangle := \\int f(\\theta)g(\\theta) \\pi(d\\theta)$ our basis $B_i(\\theta)$ is orthognal and normalized. i.e. \n",
    "$\\langle B_i,B_j \\rangle_{\\pi} = \\delta_{ij} \\tag{*}$\n",
    "\n",
    "Hence when we simulate $\\epsilon^{tot} = \\sum_{i=1}^{\\infty}{\\|u_i - u_i^{UQSA}\\|}^2$ we can dirrectly use the $\\omega(\\theta) - \\omega^{UQSA}(\\theta)$ with the help of orthogonality. To make it more clear:\n",
    "$$\n",
    "\\begin{aligned}\n",
    "\\epsilon^{tot} \n",
    "& = {\\|\\omega - \\omega^{UQSA}\\|}^2_{\\pi} = \\langle \\omega - \\omega^{UQSA},\\omega - \\omega^{UQSA} \\rangle_{\\pi}, \\quad where, \\omega - \\omega^{UQSA} = \\sum_{i=1}^{\\infty}(u_i - u_i^{UQSA})B_i \\\\\n",
    "(since \\quad (*)) \\quad& = \\sum_{i=1}^{\\infty}{\\|u_i - u_i^{UQSA}\\|}^2 \\\\\n",
    "(LGN) \\quad& = \\lim_{M\\to\\infty} \\frac{1}{M} \\sum_{i = 1}^M {\\|\\omega(\\theta_i) - \\omega^{UQSA}(\\theta_i)\\|}^2 \\quad \\text{,with } \\theta_i \\text{ iid}\n",
    "\\end{aligned}$$"
   ]
  },
  {
   "cell_type": "code",
   "execution_count": 63,
   "metadata": {},
   "outputs": [
    {
     "data": {
      "text/plain": [
       "array([0.1078729 , 0.33663571, 0.22389418, 0.15773459, 0.2841125 ,\n",
       "       0.20808435, 0.24157169, 0.22199989, 0.371625  , 0.22751207])"
      ]
     },
     "execution_count": 63,
     "metadata": {},
     "output_type": "execute_result"
    }
   ],
   "source": [
    "np.random.rand(10)*0.3 + 0.1"
   ]
  },
  {
   "cell_type": "code",
   "execution_count": 20,
   "metadata": {},
   "outputs": [],
   "source": [
    "b = np.array([1,2,3])"
   ]
  },
  {
   "cell_type": "code",
   "execution_count": 14,
   "metadata": {},
   "outputs": [
    {
     "data": {
      "text/plain": [
       "array([[1, 2, 3],\n",
       "       [2, 4, 6],\n",
       "       [3, 6, 9]])"
      ]
     },
     "execution_count": 14,
     "metadata": {},
     "output_type": "execute_result"
    }
   ],
   "source": [
    "np.matmul(a,a.T)"
   ]
  },
  {
   "cell_type": "code",
   "execution_count": 13,
   "metadata": {},
   "outputs": [],
   "source": [
    "a = a.reshape(3,1)"
   ]
  },
  {
   "cell_type": "code",
   "execution_count": 42,
   "metadata": {},
   "outputs": [],
   "source": [
    "a = np.random.uniform(size = (5,3))"
   ]
  },
  {
   "cell_type": "code",
   "execution_count": 43,
   "metadata": {},
   "outputs": [
    {
     "data": {
      "text/plain": [
       "array([2.22432417, 2.81447758, 4.6682578 , 4.78898759, 1.10441947])"
      ]
     },
     "execution_count": 43,
     "metadata": {},
     "output_type": "execute_result"
    }
   ],
   "source": [
    "np.matmul(a,b)"
   ]
  },
  {
   "cell_type": "code",
   "execution_count": 44,
   "metadata": {},
   "outputs": [
    {
     "data": {
      "text/plain": [
       "array([[0.83470923, 0.8939156 , 0.49569933],\n",
       "       [0.2420611 , 0.82047017, 1.75194631],\n",
       "       [0.95593918, 1.27070528, 2.44161335],\n",
       "       [0.79132214, 1.83838543, 2.15928002],\n",
       "       [0.68331253, 0.09775154, 0.32335539]])"
      ]
     },
     "execution_count": 44,
     "metadata": {},
     "output_type": "execute_result"
    }
   ],
   "source": [
    "a*b"
   ]
  },
  {
   "cell_type": "code",
   "execution_count": 34,
   "metadata": {},
   "outputs": [
    {
     "data": {
      "text/plain": [
       "array([1, 2, 3])"
      ]
     },
     "execution_count": 34,
     "metadata": {},
     "output_type": "execute_result"
    }
   ],
   "source": [
    "b"
   ]
  },
  {
   "cell_type": "code",
   "execution_count": 45,
   "metadata": {},
   "outputs": [
    {
     "data": {
      "text/plain": [
       "array([[0.83470923, 0.4469578 , 0.16523311],\n",
       "       [0.2420611 , 0.41023508, 0.5839821 ],\n",
       "       [0.95593918, 0.63535264, 0.81387112],\n",
       "       [0.79132214, 0.91919272, 0.71976001],\n",
       "       [0.68331253, 0.04887577, 0.10778513]])"
      ]
     },
     "execution_count": 45,
     "metadata": {},
     "output_type": "execute_result"
    }
   ],
   "source": [
    "a"
   ]
  },
  {
   "cell_type": "code",
   "execution_count": 36,
   "metadata": {},
   "outputs": [],
   "source": [
    "c = [3,5,8]"
   ]
  },
  {
   "cell_type": "code",
   "execution_count": 46,
   "metadata": {},
   "outputs": [],
   "source": [
    "c = np.array(c)"
   ]
  },
  {
   "cell_type": "code",
   "execution_count": 71,
   "metadata": {},
   "outputs": [],
   "source": [
    "c = c.reshape(1,3)"
   ]
  },
  {
   "cell_type": "code",
   "execution_count": 59,
   "metadata": {},
   "outputs": [
    {
     "data": {
      "text/plain": [
       "98"
      ]
     },
     "execution_count": 59,
     "metadata": {},
     "output_type": "execute_result"
    }
   ],
   "source": [
    "np.matmul(c.T,c)"
   ]
  },
  {
   "cell_type": "code",
   "execution_count": 75,
   "metadata": {},
   "outputs": [
    {
     "data": {
      "text/plain": [
       "array([[ 9, 15, 24],\n",
       "       [15, 25, 40],\n",
       "       [24, 40, 64]])"
      ]
     },
     "execution_count": 75,
     "metadata": {},
     "output_type": "execute_result"
    }
   ],
   "source": [
    "c.T.dot(c)"
   ]
  },
  {
   "cell_type": "code",
   "execution_count": 73,
   "metadata": {},
   "outputs": [
    {
     "name": "stdout",
     "output_type": "stream",
     "text": [
      "[[3]\n",
      " [5]\n",
      " [8]]\n"
     ]
    },
    {
     "data": {
      "text/plain": [
       "array([[3, 5, 8]])"
      ]
     },
     "execution_count": 73,
     "metadata": {},
     "output_type": "execute_result"
    }
   ],
   "source": [
    "\n",
    "print(c.T)\n",
    "c"
   ]
  },
  {
   "cell_type": "code",
   "execution_count": 72,
   "metadata": {},
   "outputs": [
    {
     "data": {
      "text/plain": [
       "array([[3, 5, 8]])"
      ]
     },
     "execution_count": 72,
     "metadata": {},
     "output_type": "execute_result"
    }
   ],
   "source": [
    "c"
   ]
  },
  {
   "cell_type": "code",
   "execution_count": 76,
   "metadata": {},
   "outputs": [
    {
     "data": {
      "text/plain": [
       "(1, 3)"
      ]
     },
     "execution_count": 76,
     "metadata": {},
     "output_type": "execute_result"
    }
   ],
   "source": [
    "c.shape"
   ]
  },
  {
   "cell_type": "code",
   "execution_count": 80,
   "metadata": {},
   "outputs": [
    {
     "data": {
      "text/plain": [
       "array([[3., 0., 0.],\n",
       "       [0., 5., 0.],\n",
       "       [0., 0., 8.]])"
      ]
     },
     "execution_count": 80,
     "metadata": {},
     "output_type": "execute_result"
    }
   ],
   "source": [
    "test = np.eye(3)*c\n",
    "test"
   ]
  },
  {
   "cell_type": "code",
   "execution_count": 86,
   "metadata": {},
   "outputs": [
    {
     "data": {
      "text/plain": [
       "array([1, 3, 5])"
      ]
     },
     "execution_count": 86,
     "metadata": {},
     "output_type": "execute_result"
    }
   ],
   "source": [
    "test = np.array([[1,2],[3,4],[5,6]])\n",
    "test[:,0]"
   ]
  },
  {
   "cell_type": "code",
   "execution_count": 88,
   "metadata": {},
   "outputs": [
    {
     "data": {
      "text/plain": [
       "array([[1, 0, 0],\n",
       "       [0, 3, 0],\n",
       "       [0, 0, 5]])"
      ]
     },
     "execution_count": 88,
     "metadata": {},
     "output_type": "execute_result"
    }
   ],
   "source": [
    "x = np.diag(test[:,0])\n",
    "x"
   ]
  },
  {
   "cell_type": "code",
   "execution_count": 90,
   "metadata": {},
   "outputs": [
    {
     "data": {
      "text/plain": [
       "array([[ 1,  0,  0],\n",
       "       [ 0,  9,  0],\n",
       "       [ 0,  0, 25]], dtype=int32)"
      ]
     },
     "execution_count": 90,
     "metadata": {},
     "output_type": "execute_result"
    }
   ],
   "source": [
    "x**2"
   ]
  },
  {
   "cell_type": "code",
   "execution_count": 95,
   "metadata": {},
   "outputs": [],
   "source": [
    "a = np.array([[1,2],[3,4]])\n",
    "b = np.array([[-1,4],[-2,-5]])"
   ]
  },
  {
   "cell_type": "code",
   "execution_count": 98,
   "metadata": {},
   "outputs": [
    {
     "data": {
      "text/plain": [
       "array([[ -1,   8],\n",
       "       [ -6, -20]])"
      ]
     },
     "execution_count": 98,
     "metadata": {},
     "output_type": "execute_result"
    }
   ],
   "source": [
    "a*b"
   ]
  },
  {
   "cell_type": "code",
   "execution_count": 96,
   "metadata": {},
   "outputs": [
    {
     "data": {
      "text/plain": [
       "array([[1, 2],\n",
       "       [3, 4]])"
      ]
     },
     "execution_count": 96,
     "metadata": {},
     "output_type": "execute_result"
    }
   ],
   "source": [
    "a"
   ]
  },
  {
   "cell_type": "code",
   "execution_count": 97,
   "metadata": {},
   "outputs": [
    {
     "data": {
      "text/plain": [
       "array([[-1,  4],\n",
       "       [-2, -5]])"
      ]
     },
     "execution_count": 97,
     "metadata": {},
     "output_type": "execute_result"
    }
   ],
   "source": [
    "b"
   ]
  },
  {
   "cell_type": "code",
   "execution_count": 100,
   "metadata": {},
   "outputs": [
    {
     "data": {
      "text/plain": [
       "array([[-23, -34],\n",
       "       [-35, -54]])"
      ]
     },
     "execution_count": 100,
     "metadata": {},
     "output_type": "execute_result"
    }
   ],
   "source": [
    "a.dot(b).dot(a)"
   ]
  },
  {
   "cell_type": "code",
   "execution_count": 110,
   "metadata": {},
   "outputs": [
    {
     "data": {
      "text/plain": [
       "array([ 1.34951282, -1.8905546 ])"
      ]
     },
     "execution_count": 110,
     "metadata": {},
     "output_type": "execute_result"
    }
   ],
   "source": [
    "np.random.multivariate_normal(np.zeros(2), np.diag([1,2]))"
   ]
  },
  {
   "cell_type": "code",
   "execution_count": 109,
   "metadata": {},
   "outputs": [],
   "source": [
    "np.eye?"
   ]
  },
  {
   "cell_type": "code",
   "execution_count": null,
   "metadata": {},
   "outputs": [],
   "source": []
  }
 ],
 "metadata": {
  "kernelspec": {
   "display_name": "Python 3",
   "language": "python",
   "name": "python3"
  },
  "language_info": {
   "codemirror_mode": {
    "name": "ipython",
    "version": 3
   },
   "file_extension": ".py",
   "mimetype": "text/x-python",
   "name": "python",
   "nbconvert_exporter": "python",
   "pygments_lexer": "ipython3",
   "version": "3.7.7"
  }
 },
 "nbformat": 4,
 "nbformat_minor": 4
}

{
 "cells": [
  {
   "cell_type": "code",
   "execution_count": 1,
   "metadata": {},
   "outputs": [],
   "source": [
    "import numpy as np\n",
    "import scipy.special as sp\n",
    "from scipy.integrate import quad"
   ]
  },
  {
   "cell_type": "code",
   "execution_count": 5,
   "metadata": {},
   "outputs": [],
   "source": [
    "def Legendre_B(a, b, n):\n",
    "    \"\"\"\n",
    "    generate a normalized Legendre basis in the interval [a, b]\n",
    "    n is the number of the Legendre basis needed\n",
    "    \"\"\"\n",
    "    delta = b-a\n",
    "    LB = [sp.legendre(i) for i in range(n)]\n",
    "    new = []\n",
    "    for i in range(n):\n",
    "        z = lambda x: np.sqrt((2*i+1)/delta)*LB[i]((2*x-a-b)/(b-a))\n",
    "#         z = lambda x: LB[i](x)\n",
    "#         print(z(rho))\n",
    "        new.append(z)\n",
    "    return new"
   ]
  },
  {
   "cell_type": "code",
   "execution_count": null,
   "metadata": {},
   "outputs": [],
   "source": []
  },
  {
   "cell_type": "code",
   "execution_count": 6,
   "metadata": {},
   "outputs": [
    {
     "ename": "SyntaxError",
     "evalue": "invalid syntax (<ipython-input-6-60bb60ba5f5d>, line 1)",
     "output_type": "error",
     "traceback": [
      "\u001b[1;36m  File \u001b[1;32m\"<ipython-input-6-60bb60ba5f5d>\"\u001b[1;36m, line \u001b[1;32m1\u001b[0m\n\u001b[1;33m    lb =\u001b[0m\n\u001b[1;37m         ^\u001b[0m\n\u001b[1;31mSyntaxError\u001b[0m\u001b[1;31m:\u001b[0m invalid syntax\n"
     ]
    }
   ],
   "source": [
    "lb = "
   ]
  },
  {
   "cell_type": "code",
   "execution_count": 7,
   "metadata": {},
   "outputs": [],
   "source": [
    "rho = 0.35\n",
    "r_min, r_max = 0.3,0.5"
   ]
  },
  {
   "cell_type": "code",
   "execution_count": 8,
   "metadata": {},
   "outputs": [],
   "source": [
    "lb = Legendre_B(r_min,r_max,5)"
   ]
  },
  {
   "cell_type": "code",
   "execution_count": 9,
   "metadata": {},
   "outputs": [
    {
     "data": {
      "text/plain": [
       "[<function __main__.Legendre_B.<locals>.<lambda>(x)>,\n",
       " <function __main__.Legendre_B.<locals>.<lambda>(x)>,\n",
       " <function __main__.Legendre_B.<locals>.<lambda>(x)>,\n",
       " <function __main__.Legendre_B.<locals>.<lambda>(x)>,\n",
       " <function __main__.Legendre_B.<locals>.<lambda>(x)>]"
      ]
     },
     "execution_count": 9,
     "metadata": {},
     "output_type": "execute_result"
    }
   ],
   "source": [
    "lb"
   ]
  },
  {
   "cell_type": "code",
   "execution_count": 10,
   "metadata": {},
   "outputs": [
    {
     "name": "stdout",
     "output_type": "stream",
     "text": [
      "-1.9390901992380998\n",
      "-1.9390901992380998\n",
      "-1.9390901992380998\n",
      "-1.9390901992380998\n",
      "-1.9390901992380998\n"
     ]
    }
   ],
   "source": [
    "for i in range(5):\n",
    "    print(lb[i](rho))"
   ]
  },
  {
   "cell_type": "code",
   "execution_count": 11,
   "metadata": {},
   "outputs": [
    {
     "data": {
      "text/plain": [
       "<function __main__.Legendre_B.<locals>.<lambda>(x)>"
      ]
     },
     "execution_count": 11,
     "metadata": {},
     "output_type": "execute_result"
    }
   ],
   "source": [
    "lb[2]"
   ]
  },
  {
   "cell_type": "code",
   "execution_count": 12,
   "metadata": {},
   "outputs": [],
   "source": [
    " LB = [np.sqrt((2*i+1)/0.2)*sp.legendre(i) for i in range(5)]"
   ]
  },
  {
   "cell_type": "code",
   "execution_count": 13,
   "metadata": {},
   "outputs": [
    {
     "data": {
      "text/plain": [
       "[array([2.23606798]),\n",
       " array([3.87298335, 0.        ]),\n",
       " array([ 7.5,  0. , -2.5]),\n",
       " array([14.79019946,  0.        , -8.87411967,  0.        ]),\n",
       " array([ 2.93483922e+01,  3.25832608e-15, -2.51557647e+01,  1.62916304e-15,\n",
       "         2.51557647e+00])]"
      ]
     },
     "execution_count": 13,
     "metadata": {},
     "output_type": "execute_result"
    }
   ],
   "source": [
    "LB"
   ]
  },
  {
   "cell_type": "code",
   "execution_count": 22,
   "metadata": {},
   "outputs": [],
   "source": [
    "LB = [np.polynomial.legendre.Legendre.basis(deg=i) for i in range(5)]"
   ]
  },
  {
   "cell_type": "code",
   "execution_count": 15,
   "metadata": {},
   "outputs": [
    {
     "data": {
      "text/plain": [
       "-0.31625000000000003"
      ]
     },
     "execution_count": 15,
     "metadata": {},
     "output_type": "execute_result"
    }
   ],
   "source": [
    "LB[2](rho)"
   ]
  },
  {
   "cell_type": "code",
   "execution_count": 49,
   "metadata": {
    "scrolled": true
   },
   "outputs": [],
   "source": [
    "a = 0.3\n",
    "b = 0.5\n",
    "delta = b-a\n",
    "test = {}\n",
    "for i in range(5):\n",
    "#     func = lambda x: (np.sqrt((2*i+1)/delta)*LB[i]((2*x-a-b)/(b-a)))#*(np.sqrt((2*i-1)/delta)*LB[i-1]((2*x-a-b)/(b-a)))\n",
    "    test[str(i)] = (lambda x: (np.sqrt((2*i+1)/delta)*LB[i]((2*x-a-b)/(b-a))))\n",
    "#     print(quad(func,0.3,0.5))"
   ]
  },
  {
   "cell_type": "code",
   "execution_count": 31,
   "metadata": {},
   "outputs": [],
   "source": [
    "LL = [lambda x:np.sqrt((2*i+1)/delta)*np.polynomial.legendre.Legendre.basis(deg=i)((2*x-a-b)/(b-a)) for i in range(5)]"
   ]
  },
  {
   "cell_type": "code",
   "execution_count": 32,
   "metadata": {},
   "outputs": [
    {
     "data": {
      "text/plain": [
       "-1.9390901992381"
      ]
     },
     "execution_count": 32,
     "metadata": {},
     "output_type": "execute_result"
    }
   ],
   "source": [
    "LL[1](0.35)"
   ]
  },
  {
   "cell_type": "code",
   "execution_count": 53,
   "metadata": {
    "scrolled": true
   },
   "outputs": [
    {
     "ename": "KeyError",
     "evalue": "0",
     "output_type": "error",
     "traceback": [
      "\u001b[1;31m---------------------------------------------------------------------------\u001b[0m",
      "\u001b[1;31mKeyError\u001b[0m                                  Traceback (most recent call last)",
      "\u001b[1;32m<ipython-input-53-6caaab14b5ef>\u001b[0m in \u001b[0;36m<module>\u001b[1;34m\u001b[0m\n\u001b[1;32m----> 1\u001b[1;33m \u001b[0mtest\u001b[0m\u001b[1;33m[\u001b[0m\u001b[1;36m0\u001b[0m\u001b[1;33m]\u001b[0m\u001b[1;33m\u001b[0m\u001b[1;33m\u001b[0m\u001b[0m\n\u001b[0m",
      "\u001b[1;31mKeyError\u001b[0m: 0"
     ]
    }
   ],
   "source": [
    "test[0]"
   ]
  },
  {
   "cell_type": "code",
   "execution_count": 74,
   "metadata": {},
   "outputs": [
    {
     "name": "stdout",
     "output_type": "stream",
     "text": [
      "2.23606797749979\n",
      "-1.936491673103709\n",
      "-0.6249999999999991\n",
      "2.588284905106082\n",
      "-1.9390901992381\n"
     ]
    }
   ],
   "source": [
    "for i in range(5):\n",
    "    print(test[i](rho))"
   ]
  },
  {
   "cell_type": "code",
   "execution_count": 65,
   "metadata": {},
   "outputs": [
    {
     "ename": "TypeError",
     "evalue": "<lambda>() takes 0 positional arguments but 1 was given",
     "output_type": "error",
     "traceback": [
      "\u001b[1;31m---------------------------------------------------------------------------\u001b[0m",
      "\u001b[1;31mTypeError\u001b[0m                                 Traceback (most recent call last)",
      "\u001b[1;32m<ipython-input-65-80456887a392>\u001b[0m in \u001b[0;36m<module>\u001b[1;34m\u001b[0m\n\u001b[1;32m----> 1\u001b[1;33m \u001b[0mtest\u001b[0m\u001b[1;33m[\u001b[0m\u001b[1;36m0\u001b[0m\u001b[1;33m]\u001b[0m\u001b[1;33m(\u001b[0m\u001b[1;36m0.35\u001b[0m\u001b[1;33m)\u001b[0m\u001b[1;33m\u001b[0m\u001b[1;33m\u001b[0m\u001b[0m\n\u001b[0m",
      "\u001b[1;31mTypeError\u001b[0m: <lambda>() takes 0 positional arguments but 1 was given"
     ]
    }
   ],
   "source": [
    "test[0](0.35)"
   ]
  },
  {
   "cell_type": "code",
   "execution_count": 56,
   "metadata": {},
   "outputs": [],
   "source": [
    "def one_Legendre_basis(x,i):\n",
    "    return lambda :np.sqrt((2*i+1)/delta)*np.polynomial.legendre.Legendre.basis(deg=i)((2*x-a-b)/(b-a))"
   ]
  },
  {
   "cell_type": "code",
   "execution_count": 59,
   "metadata": {},
   "outputs": [],
   "source": [
    "def Legendre_B(a, b, n):\n",
    "    \"\"\"\n",
    "    generate a normalized Legendre basis in the interval [a, b]\n",
    "    n is the number of the Legendre basis needed\n",
    "    \"\"\"\n",
    "    delta = b-a\n",
    "    store = []\n",
    "    for i in range(n):\n",
    "        store.append(one_Legendre_basis(x,i))\n",
    "    return store"
   ]
  },
  {
   "cell_type": "code",
   "execution_count": 73,
   "metadata": {},
   "outputs": [],
   "source": [
    "test = Legendre_B(a,b,5)"
   ]
  },
  {
   "cell_type": "code",
   "execution_count": 75,
   "metadata": {},
   "outputs": [],
   "source": [
    "def Legendre_B(a, b, n):\n",
    "    \"\"\"\n",
    "    generate a normalized Legendre basis in the interval [a, b]\n",
    "    n is the number of the Legendre basis needed\n",
    "    \"\"\"\n",
    "    delta = b-a\n",
    "    LB = [np.sqrt((2*i+1)/delta)*np.polynomial.legendre.Legendre.basis(deg=i) for i in range(n)]\n",
    "    new = []\n",
    "    for i in range(n):\n",
    "        z = lambda x,i=i: LB[i]((2*x-a-b)/(b-a))\n",
    "        new.append(z)\n",
    "    return new"
   ]
  },
  {
   "cell_type": "code",
   "execution_count": 76,
   "metadata": {},
   "outputs": [],
   "source": [
    "test = Legendre_B(a,b,5)"
   ]
  },
  {
   "cell_type": "code",
   "execution_count": 77,
   "metadata": {},
   "outputs": [
    {
     "name": "stdout",
     "output_type": "stream",
     "text": [
      "2.23606797749979\n",
      "-1.936491673103709\n",
      "-0.6249999999999991\n",
      "2.588284905106082\n",
      "-1.9390901992381\n"
     ]
    }
   ],
   "source": [
    "for i in range(5):\n",
    "    print(test[i](rho))"
   ]
  },
  {
   "cell_type": "code",
   "execution_count": 82,
   "metadata": {},
   "outputs": [
    {
     "name": "stdout",
     "output_type": "stream",
     "text": [
      "4.706213772282515e-16\n",
      "1.2442703165276746e-15\n",
      "2.2515455273140526e-15\n",
      "3.4384483129952753e-15\n"
     ]
    }
   ],
   "source": [
    "for i in range(4):\n",
    "    func = lambda x: test[i](x)*test[i+1](x)\n",
    "    print(quad(func,a,b)[0])"
   ]
  },
  {
   "cell_type": "code",
   "execution_count": null,
   "metadata": {},
   "outputs": [],
   "source": []
  }
 ],
 "metadata": {
  "kernelspec": {
   "display_name": "Python 3",
   "language": "python",
   "name": "python3"
  },
  "language_info": {
   "codemirror_mode": {
    "name": "ipython",
    "version": 3
   },
   "file_extension": ".py",
   "mimetype": "text/x-python",
   "name": "python",
   "nbconvert_exporter": "python",
   "pygments_lexer": "ipython3",
   "version": "3.7.7"
  }
 },
 "nbformat": 4,
 "nbformat_minor": 4
}

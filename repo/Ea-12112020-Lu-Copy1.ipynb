{
 "cells": [
  {
   "cell_type": "markdown",
   "metadata": {},
   "source": [
    "### 3.1 Simple Robbins Monro"
   ]
  },
  {
   "cell_type": "markdown",
   "metadata": {},
   "source": [
    "Write the first order budget constraint as :$$F(w) = E[(R-\\mu)(R-\\mu)']w + \\lambda \\mathbf{1}_n = Sw + \\lambda \\mathbf{1}_n=0,$$ \n",
    "We can write $F(w) = E(f(w, R)),$ where $$f(w,R) = (R-\\mu)(R-\\mu)'w + \\lambda\\mathbf{1}_n$$\n",
    "We can easily verify the 2 assumptions: \n",
    "\n",
    "* if $w*$ is the solution, $\\forall w\\in \\mathbb{R}^n$,\n",
    "\\begin{eqnarray}\n",
    " \\langle w - w*, F(w)\\rangle &=& \\langle w-w*, Sw + \\lambda \\mathbf{1}_n\\rangle \\\\\n",
    " &=& \\langle w-w*, S(w-w*) + Sw*+ \\lambda \\mathbf{1}_n\\rangle \\\\\n",
    " &=&\\langle w-w*, S(w-w*)\\rangle >0\n",
    "\\end{eqnarray}\n",
    "\n",
    "\n",
    "* $\\forall w\\in \\mathbb{R}^n, E(f^2(w, R)) = E(w^TA^2w+2w^TA\\cdot\\lambda\\mathbf{1}_n+n\\lambda^2\\leq C(1+|w|^2),$where$A = (R-\\mu)(R-\\mu)',$ when $C$ is quite large. "
   ]
  },
  {
   "cell_type": "code",
   "execution_count": 1,
   "metadata": {},
   "outputs": [],
   "source": [
    "import numpy as np\n",
    "import scipy \n",
    "import scipy.linalg\n",
    "import matplotlib.pyplot as plt\n",
    "from scipy.integrate import quad\n",
    "from tqdm import tqdm,trange"
   ]
  },
  {
   "cell_type": "code",
   "execution_count": 2,
   "metadata": {},
   "outputs": [],
   "source": [
    "n = 3\n",
    "mu = np.array([.05, .07, .06])  # R~ N(mu, S)\n",
    "D = np.diag([.1, .14, .2])      # S = DKD\n",
    "rho = 0.5\n",
    "K = np.array([[1, rho, 0],\n",
    "             [rho, 1, rho],\n",
    "             [0, rho, 1]])\n",
    "lambd = 0.3\n",
    "S = np.matmul(np.matmul(D, K), D)"
   ]
  },
  {
   "cell_type": "code",
   "execution_count": 3,
   "metadata": {},
   "outputs": [],
   "source": [
    "def f(w, R, lambd = lambd):\n",
    "    \"\"\"\n",
    "    function for Robbins Monro regression\n",
    "        E[f(w,R)] = F(w) = 0 \n",
    "    \n",
    "    inputs :\n",
    "            w :   w_n-1 in the regression\n",
    "            R :   A random vector to perform the RM\n",
    "        lambd :   eigenvalue default by 0.3\n",
    "    return : f(w,R)\n",
    "    \"\"\"\n",
    "    t1 = R.reshape(n, 1)   # reshape R^n vectors into col-vectors\n",
    "    t2 = mu.reshape(n, 1)\n",
    "    return np.matmul((t1 - t2)*((t1 - t2).T), w) + lambd*np.ones((n, 1))"
   ]
  },
  {
   "cell_type": "code",
   "execution_count": 4,
   "metadata": {},
   "outputs": [],
   "source": [
    "def plot_trace(h):\n",
    "    l = np.shape(h)[0]\n",
    "    hh = np.array(h)\n",
    "    plt.plot(hh[:l,0])\n",
    "    plt.ylim(-1.,1.)\n",
    "    plt.show()\n",
    "def theory_answer(S):\n",
    "    inv = np.linalg.inv(S)\n",
    "    w = np.matmul(inv, np.ones((n, 1)))/np.sum(inv)\n",
    "    return w"
   ]
  },
  {
   "cell_type": "code",
   "execution_count": 5,
   "metadata": {},
   "outputs": [
    {
     "name": "stderr",
     "output_type": "stream",
     "text": [
      "100%|█████████████████████████████████████████████████████████████████████| 1000000/1000000 [00:18<00:00, 52859.22it/s]\n"
     ]
    },
    {
     "data": {
      "image/png": "[encoded data removed]",
      "text/plain": [
       "<Figure size 432x288 with 1 Axes>"
      ]
     },
     "metadata": {
      "needs_background": "light"
     },
     "output_type": "display_data"
    },
    {
     "name": "stdout",
     "output_type": "stream",
     "text": [
      "final result is \n",
      " [[ 0.82358368]\n",
      " [-0.03598932]\n",
      " [ 0.21240563]]\n",
      "compare with the theory result \n",
      " [[ 0.82688391]\n",
      " [-0.0407332 ]\n",
      " [ 0.21384929]]\n"
     ]
    }
   ],
   "source": [
    "def Robbins_Monro_Regression(N = 10000, alpha = 0.6):\n",
    "    R = np.random.multivariate_normal(mu, S, N)\n",
    "    x = np.random.random(n)\n",
    "    x = x/np.sum(x)\n",
    "    w = [x.reshape(n,1)]     # initialization with equal value\n",
    "    w_hist = [x.reshape(n,1)]\n",
    "    rg = range(N)\n",
    "    if N > 1e4 :\n",
    "        rg = trange(N)\n",
    "    for i in rg:\n",
    "        w_tmp = w[-1] - 10.*f(w[-1], R[i])/np.power(i+1,alpha)\n",
    "        w.append(w_tmp)\n",
    "        w_hist.append(w_tmp/np.sum(w_tmp))\n",
    "    plot_trace(w_hist)\n",
    "    print(\"final result is \\n {}\".format(w[-1]/np.sum(w[-1])))\n",
    "    print(\"compare with the theory result \\n {}\".format(theory_answer(S)))\n",
    "    return w[-1]/np.sum(w[-1]),w,w_hist\n",
    "x,_,_ = Robbins_Monro_Regression(N = 1000000,alpha = 0.6)"
   ]
  },
  {
   "cell_type": "markdown",
   "metadata": {},
   "source": [
    "## 3.2"
   ]
  },
  {
   "cell_type": "code",
   "execution_count": 6,
   "metadata": {},
   "outputs": [],
   "source": [
    "def S_rho(rho):\n",
    "    D = np.diag([.1, .14, .2])\n",
    "    # rho = 0.5\n",
    "    K = np.array([[1, rho, 0],\n",
    "                 [rho, 1, rho],\n",
    "                 [0, rho, 1]])\n",
    "    S = np.matmul(np.matmul(D, K), D)\n",
    "    return S"
   ]
  },
  {
   "cell_type": "code",
   "execution_count": 7,
   "metadata": {},
   "outputs": [
    {
     "data": {
      "image/png": "[encoded data removed]",
      "text/plain": [
       "<Figure size 432x288 with 1 Axes>"
      ]
     },
     "metadata": {
      "needs_background": "light"
     },
     "output_type": "display_data"
    },
    {
     "name": "stdout",
     "output_type": "stream",
     "text": [
      "final result is \n",
      " [[0.73428115]\n",
      " [0.09775626]\n",
      " [0.16796259]]\n",
      "compare with the theory result \n",
      " [[0.73492551]\n",
      " [0.09458501]\n",
      " [0.17048948]]\n"
     ]
    }
   ],
   "source": [
    "S = S_rho(rho=0.4)\n",
    "_,_,_ = Robbins_Monro_Regression(alpha=0.6)"
   ]
  },
  {
   "cell_type": "code",
   "execution_count": 9,
   "metadata": {},
   "outputs": [],
   "source": [
    "def UQSA_adapted(rho_min, rho_max, u0 = '', K = 1000, n = 3, a = 0.875, b = 0.3):   # mk\n",
    "    m = [int(np.floor(np.power(k, b))) + 1 for k in range(K+1)]   #   mk[0] = 1\n",
    "    if u0=='' : \n",
    "        u0 = np.random.randn(m[0] + 1, n)   \n",
    "\n",
    "    B = [np.polynomial.legendre.Legendre.basis(deg=i,domain=np.array([rho_min, rho_max])) for i in range(np.max(m)+1)]   \n",
    "        \n",
    "    def W(m_k, rho, u0, Legendre_basis = B):\n",
    "        return np.sum([u0[j]*Legendre_basis[j](rho) for j in range(m_k+1)], axis = 0)\n",
    "#     trace = []\n",
    "    for k in tqdm(range(1, K+1)):\n",
    "\n",
    "        r = np.random.uniform(low = rho_min, high = rho_max)\n",
    "        S = S_rho(r)\n",
    "        R = np.random.multivariate_normal(mu, S)\n",
    "        \n",
    "        u = np.zeros((m[k] + 1, n))\n",
    "        for i in range(m[k] + 1):\n",
    "            w = W(m[k-1], r, u0)\n",
    "#             trace.append(w[0])\n",
    "            expect = (B[i](r) * f(w.reshape(n,1), R)).reshape(n)\n",
    "            \n",
    "            gamma = 1./np.power(k, a) #stepsize\n",
    "            \n",
    "            if i > m[k-1]:\n",
    "                u[i] = - gamma * expect\n",
    "            else:\n",
    "                u[i] = u0[i] - gamma * expect\n",
    "            \n",
    "            u0 = u\n",
    "    return u"
   ]
  },
  {
   "cell_type": "code",
   "execution_count": 10,
   "metadata": {},
   "outputs": [],
   "source": [
    "def result_UQSA_adapted(r,K=1000):\n",
    "    u = UQSA_adapted(0.3,0.5,K=K)\n",
    "#     print(u)\n",
    "    rg = range(int(np.floor(np.power(K, 0.3))) + 1 )\n",
    "    B = [np.polynomial.legendre.Legendre.basis(deg=i,domain=np.array([0.6, 0.8])) for i in rg]\n",
    "    result = np.zeros(3)\n",
    "    \n",
    "    for j in rg:\n",
    "        result = result + B[j](r)*u[j]\n",
    "#     plt.plot(trace)\n",
    "    return result/np.sum(result)"
   ]
  },
  {
   "cell_type": "code",
   "execution_count": 11,
   "metadata": {},
   "outputs": [
    {
     "name": "stderr",
     "output_type": "stream",
     "text": [
      "100%|█████████████████████████████████████████████████████████████████████████████| 1000/1000 [00:01<00:00, 976.30it/s]\n"
     ]
    },
    {
     "data": {
      "text/plain": [
       "array([-0.13824188,  0.78895732,  0.34928456])"
      ]
     },
     "execution_count": 11,
     "metadata": {},
     "output_type": "execute_result"
    }
   ],
   "source": [
    "result_UQSA_adapted(0.4, 1000)"
   ]
  },
  {
   "cell_type": "code",
   "execution_count": null,
   "metadata": {},
   "outputs": [],
   "source": []
  },
  {
   "cell_type": "markdown",
   "metadata": {},
   "source": [
    "**Timestamp : 2020 Nov 12**"
   ]
  },
  {
   "cell_type": "code",
   "execution_count": 18,
   "metadata": {},
   "outputs": [],
   "source": [
    "class UQSA_generator:\n",
    "    def __init__(self,K,n = 3, r_min = 0.3, r_max = 0.5, gamma = None,m = None,M = None):\n",
    "        self.K = K\n",
    "        # steps of iteration\n",
    "        if gamma is not None:\n",
    "            self.gamma = gamma\n",
    "        elif b is not None:\n",
    "            self.gamma = [1./np.power(k,b) for k in range(K+1)]\n",
    "        else:\n",
    "            self.gamma = [1./np.power(k,0.1) for k in range(K+1)]\n",
    "            \n",
    "        self.m = [int(np.floor(np.power(k, 0.24))) + 1 for k in range(K+1)]\n",
    "        if M is None:\n",
    "            self.M = [10]*(K+1)\n",
    "        else:\n",
    "            self.M = M\n",
    "        self.u0 = None\n",
    "        self.u_record = None\n",
    "        self.r_min = r_min\n",
    "        self.r_max = r_max\n",
    "        self.n = n\n",
    "        self.mu = np.array([.05, .07, .06])  # TODO\n",
    "        self.LB = [np.polynomial.legendre.Legendre.basis(deg=i,domain=np.array([r_min, r_max])) for i in range(np.max(self.m)+1)]\n",
    "        \n",
    "    def f(self, w, R, lambd = 0.3):\n",
    "        \"\"\"\n",
    "        function for Robbins Monro regression\n",
    "            E[f(w,R)] = F(w) = 0 \n",
    "\n",
    "        inputs :\n",
    "                w :   w_n-1 in the regression\n",
    "                R :   A random vector to perform the RM\n",
    "            lambd :   eigenvalue default by 0.3\n",
    "        return : f(w,R)\n",
    "        \"\"\"\n",
    "        t1 = R.reshape(n, 1)   # reshape R^n vectors into col-vectors\n",
    "        t2 = mu.reshape(n, 1)\n",
    "        return np.matmul((t1 - t2)*((t1 - t2).T), w) + lambd*np.ones((n, 1))\n",
    "\n",
    "    def W(self,m_k, rho, u0):\n",
    "#         print(u0[2])\n",
    "#         print(self.LB[2](rho))\n",
    "        return np.sum([u0[j]*self.LB[j](rho) for j in range(m_k+1)], axis = 0)\n",
    "    \n",
    "    def S_rho(self, rho):\n",
    "        D = np.diag([.1, .14, .2])\n",
    "        # rho = 0.5\n",
    "        K = np.array([[1, rho, 0],\n",
    "                     [rho, 1, rho],\n",
    "                     [0, rho, 1]])\n",
    "        S = np.matmul(np.matmul(D, K), D)\n",
    "        return S\n",
    "    \n",
    "    def omega_theory(self,r):\n",
    "        S = self.S_rho(r)\n",
    "        inv = np.linalg.inv(S)\n",
    "        w = np.matmul(inv, np.ones((n, 1)))/np.sum(inv)\n",
    "        return w\n",
    "    \n",
    "    def u0_initialization(self):\n",
    "        res = []\n",
    "        for i in range(np.max(self.m)+1):\n",
    "            res_i = []\n",
    "            for j in range(3):\n",
    "                func = lambda r: self.omega_theory(r)[j] * self.LB[i](r)\n",
    "                res_i.append(quad(func,self.r_min,self.r_max)[0])\n",
    "            res.append(res_i)\n",
    "        self.u0 = res\n",
    "        self.u_record = [res]\n",
    "        return res\n",
    "\n",
    "    \n",
    "    def iteration(self):\n",
    "        u0 = np.array(self.u0)\n",
    "        n = self.n\n",
    "        for k in trange(1, self.K+1):\n",
    "            rho = []\n",
    "            R = []\n",
    "            u = np.zeros((self.m[k] + 1, n))\n",
    "            \n",
    "            for s in range(self.M[k]+1):\n",
    "                r = np.random.uniform(low = self.r_min, high = self.r_max)\n",
    "                rho.append(r)\n",
    "                S = self.S_rho(r)\n",
    "                R.append(np.random.multivariate_normal(self.mu, S))\n",
    "                \n",
    "            for i in range(self.m[k] + 1):\n",
    "                expect = 0.0\n",
    "                for s in range(1,self.M[k]+1): \n",
    "                    w = self.W(self.m[k-1], rho[s], u0)\n",
    "                    expect += (self.LB[i](rho[s]) * self.f(w.reshape(n,1), R[s])).reshape(1,n)\n",
    "                expect /= self.M[k]\n",
    "                if i > self.m[k-1]:\n",
    "                    u[i] = - self.gamma[k] * expect\n",
    "                else:\n",
    "                    u[i] = u0[i] - self.gamma[k] * expect\n",
    "            u0 = u\n",
    "            self.u_record.append(u)\n",
    "        return u\n",
    "#     def culculate_result(self,u,r):\n",
    "#         x = self.W(np.max(self.m),r,u)\n",
    "#         return\n",
    "    def run_out(self, rs = None):\n",
    "        if rs is None:\n",
    "            rs = [0.5*(self.r_min + self.r_max)]\n",
    "        self.u0_initialization()\n",
    "        res = self.iteration()\n",
    "        print(\"the u in the end of the iteration is : \\n{}\".format(res))\n",
    "        \n",
    "        for r in rs:\n",
    "            x = self.W(np.max(self.m),r,res)\n",
    "            print(\"-\"*60)\n",
    "            print(\"and the result of rho = {} is \\n {}\".format(r,x/np.sum(x)))\n",
    "            print(\"compare with the theory result : \\n {}\\n\".format(self.omega_theory(r).reshape(1,self.n)))\n",
    "        res = []\n",
    "        for i in range(50,self.K,5):\n",
    "            res.append(uqsa.u_record[i][2][1])\n",
    "        plt.plot(range(50,self.K,5),res)\n",
    "        return res"
   ]
  },
  {
   "cell_type": "code",
   "execution_count": 69,
   "metadata": {},
   "outputs": [
    {
     "name": "stderr",
     "output_type": "stream",
     "text": [
      "C:\\Users\\konglulu\\.conda\\envs\\tf_gpu\\lib\\site-packages\\ipykernel_launcher.py:4: RuntimeWarning: divide by zero encountered in double_scalars\n",
      "  after removing the cwd from sys.path.\n",
      "100%|████████████████████████████████████████████████████████████████████████████| 50000/50000 [23:55<00:00, 34.83it/s]\n"
     ]
    },
    {
     "name": "stdout",
     "output_type": "stream",
     "text": [
      "the u in the end of the iteration is : \n",
      "[[-2.82884371e+01 -2.81714061e+00 -6.48815317e+00]\n",
      " [-2.03918860e+00  4.77560400e+00 -7.67917108e-01]\n",
      " [-5.70491453e-01  1.44504244e+00 -1.75593259e-01]\n",
      " [-6.24385188e-01 -1.09348229e-01 -9.75584001e-02]\n",
      " [-2.76512552e-01 -1.90266626e-01 -8.08442195e-01]\n",
      " [-1.02717238e+00 -2.30855728e-01 -3.45507613e-01]\n",
      " [-1.08460705e-01  3.59093196e-01  2.44145687e-01]\n",
      " [ 3.00118942e-01 -6.87693739e-03  5.42169584e-01]\n",
      " [-7.30373817e-02 -3.00267383e-01 -3.51638612e-01]\n",
      " [-4.48013838e-01 -9.27459754e-01  1.70919335e-01]\n",
      " [ 8.43315447e-02 -4.82393000e-01 -5.88373335e-01]\n",
      " [-6.98352323e-01 -1.55853875e-01  1.67391070e-01]\n",
      " [ 8.57198649e-02  1.17102300e-01  8.71397264e-04]\n",
      " [ 9.68471170e-01  5.26127858e-01 -5.02557298e-01]\n",
      " [-3.93850713e-01  3.68068869e-01  1.20859646e-01]]\n",
      "------------------------------------------------------------\n",
      "and the result of rho = 0.3 is \n",
      " [0.67359564 0.13932665 0.18707771]\n",
      "compare with the theory result : \n",
      " [[0.67654597 0.17242183 0.1510322 ]]\n",
      "\n",
      "------------------------------------------------------------\n",
      "and the result of rho = 0.4 is \n",
      " [0.72747778 0.097059   0.17546322]\n",
      "compare with the theory result : \n",
      " [[0.73492551 0.09458501 0.17048948]]\n",
      "\n",
      "------------------------------------------------------------\n",
      "and the result of rho = 0.5 is \n",
      " [ 0.83571113 -0.05983574  0.22412461]\n",
      "compare with the theory result : \n",
      " [[ 0.82688391 -0.0407332   0.21384929]]\n",
      "\n",
      "------------------------------------------------------------\n",
      "and the result of rho = 0.8 is \n",
      " [-1.17167972  1.93026877  0.24141095]\n",
      "compare with the theory result : \n",
      " [[-0.95169946  3.0411449  -1.08944544]]\n",
      "\n"
     ]
    },
    {
     "data": {
      "image/png": "[encoded data removed]",
      "text/plain": [
       "<Figure size 432x288 with 1 Axes>"
      ]
     },
     "metadata": {
      "needs_background": "light"
     },
     "output_type": "display_data"
    }
   ],
   "source": [
    "\n",
    "uqsa = UQSA_generator(K=50000)\n",
    "u = uqsa.run_out([0.3,0.4,0.5,0.8])"
   ]
  },
  {
   "cell_type": "code",
   "execution_count": 19,
   "metadata": {},
   "outputs": [
    {
     "name": "stderr",
     "output_type": "stream",
     "text": [
      "C:\\Users\\konglulu\\.conda\\envs\\tf_gpu\\lib\\site-packages\\ipykernel_launcher.py:4: RuntimeWarning: divide by zero encountered in double_scalars\n",
      "  after removing the cwd from sys.path.\n",
      "100%|█████████████████████████████████████████████████████████████████████████████| 1000/1000 [00:05<00:00, 172.00it/s]"
     ]
    },
    {
     "name": "stdout",
     "output_type": "stream",
     "text": [
      "the u in the end of the iteration is : \n",
      "[[-2.73262756e+01 -2.26069968e+00 -4.55548298e+00]\n",
      " [-4.96038548e-01  2.34594273e+00 -9.24784247e-01]\n",
      " [-8.05881250e-02 -2.29006623e-01 -2.09164516e+00]\n",
      " [-8.89347870e-01  7.34201672e-03 -1.35886342e-01]\n",
      " [ 4.33838829e-01 -4.82913484e-01  2.41104253e-01]\n",
      " [-1.12283559e-01  1.99449228e-01  4.63602834e-01]\n",
      " [-7.92961504e-01 -7.82304725e-01 -6.40485997e-01]]\n",
      "------------------------------------------------------------\n",
      "and the result of rho = 0.3 is \n",
      " [0.6731079  0.1616295  0.16526261]\n",
      "compare with the theory result : \n",
      " [[0.67654597 0.17242183 0.1510322 ]]\n",
      "\n",
      "------------------------------------------------------------\n",
      "and the result of rho = 0.4 is \n",
      " [0.83522869 0.06472923 0.10004208]\n",
      "compare with the theory result : \n",
      " [[0.73492551 0.09458501 0.17048948]]\n",
      "\n",
      "------------------------------------------------------------\n",
      "and the result of rho = 0.5 is \n",
      " [0.76788502 0.03154575 0.20056922]\n",
      "compare with the theory result : \n",
      " [[ 0.82688391 -0.0407332   0.21384929]]\n",
      "\n",
      "------------------------------------------------------------\n",
      "and the result of rho = 0.8 is \n",
      " [0.37526969 0.35700975 0.26772056]\n",
      "compare with the theory result : \n",
      " [[-0.95169946  3.0411449  -1.08944544]]\n",
      "\n"
     ]
    },
    {
     "name": "stderr",
     "output_type": "stream",
     "text": [
      "\n"
     ]
    },
    {
     "data": {
      "image/png": "[encoded data removed]",
      "text/plain": [
       "<Figure size 432x288 with 1 Axes>"
      ]
     },
     "metadata": {
      "needs_background": "light"
     },
     "output_type": "display_data"
    }
   ],
   "source": [
    "uqsa = UQSA_generator(K=1000)\n",
    "u = uqsa.run_out([0.3,0.4,0.5,0.8])"
   ]
  },
  {
   "cell_type": "code",
   "execution_count": 10,
   "metadata": {},
   "outputs": [
    {
     "data": {
      "text/plain": [
       "3.9810717055349722"
      ]
     },
     "execution_count": 10,
     "metadata": {},
     "output_type": "execute_result"
    }
   ],
   "source": [
    "np.power(10000,0.15)"
   ]
  },
  {
   "cell_type": "markdown",
   "metadata": {},
   "source": [
    "#### Time Stamp 24/11/2020"
   ]
  },
  {
   "cell_type": "code",
   "execution_count": null,
   "metadata": {},
   "outputs": [],
   "source": [
    "class UQSA_generator:\n",
    "    def __init__(self,K,n = 3, r_min = 0.3, r_max = 0.5, gamma = None,m = None,M = None):\n",
    "        self.K = K\n",
    "        # steps of iteration\n",
    "        if gamma is not None:\n",
    "            self.gamma = gamma\n",
    "        elif b is not None:\n",
    "            self.gamma = [1./np.power(k,b) for k in range(K+1)]\n",
    "        else:\n",
    "            self.gamma = [1./np.power(k,0.1) for k in range(K+1)]\n",
    "            \n",
    "        self.m = [int(np.floor(np.power(k, 0.24))) + 1 for k in range(K+1)]\n",
    "        if M is None:\n",
    "            self.M = [10]*(K+1)\n",
    "        else:\n",
    "            self.M = M\n",
    "        self.u0 = None\n",
    "        self.u_record = None\n",
    "        self.r_min = r_min\n",
    "        self.r_max = r_max\n",
    "        self.n = n\n",
    "        self.mu = np.array([.05, .07, .06])  # TODO\n",
    "        self.LB = [np.polynomial.legendre.Legendre.basis(deg=i,domain=np.array([r_min, r_max])) for i in range(np.max(self.m)+1)]\n",
    "        \n",
    "    def f(self, w, R, lambd = 0.3):\n",
    "        \"\"\"\n",
    "        function for Robbins Monro regression\n",
    "            E[f(w,R)] = F(w) = 0 \n",
    "\n",
    "        inputs :\n",
    "                w :   w_n-1 in the regression\n",
    "                R :   A random vector to perform the RM\n",
    "            lambd :   eigenvalue default by 0.3\n",
    "        return : f(w,R)\n",
    "        \"\"\"\n",
    "        t1 = R.reshape(n, 1)   # reshape R^n vectors into col-vectors\n",
    "        t2 = mu.reshape(n, 1)\n",
    "        return np.matmul((t1 - t2)*((t1 - t2).T), w) + lambd*np.ones((n, 1))\n",
    "\n",
    "    def W(self,m_k, rho, u0):\n",
    "#         print(u0[2])\n",
    "#         print(self.LB[2](rho))\n",
    "        return np.sum([u0[j]*self.LB[j](rho) for j in range(m_k+1)], axis = 0)\n",
    "    \n",
    "    def S_rho(self, rho):\n",
    "        D = np.diag([.1, .14, .2])\n",
    "        # rho = 0.5\n",
    "        K = np.array([[1, rho, 0],\n",
    "                     [rho, 1, rho],\n",
    "                     [0, rho, 1]])\n",
    "        S = np.matmul(np.matmul(D, K), D)\n",
    "        return S\n",
    "    \n",
    "    def omega_theory(self,r):\n",
    "        S = self.S_rho(r)\n",
    "        inv = np.linalg.inv(S)\n",
    "        w = np.matmul(inv, np.ones((n, 1)))/np.sum(inv)\n",
    "        return w\n",
    "    \n",
    "    def u0_initialization(self):\n",
    "        res = []\n",
    "        for i in range(np.max(self.m)+1):\n",
    "            res_i = []\n",
    "            for j in range(3):\n",
    "                func = lambda r: self.omega_theory(r)[j] * self.LB[i](r)\n",
    "                res_i.append(quad(func,self.r_min,self.r_max)[0])\n",
    "            res.append(res_i)\n",
    "        self.u0 = res\n",
    "        self.u_record = [res]\n",
    "        return res\n",
    "\n",
    "    \n",
    "    def iteration(self):\n",
    "        u0 = np.array(self.u0)\n",
    "        n = self.n\n",
    "        for k in trange(1, self.K+1):\n",
    "            rho = []\n",
    "            R = []\n",
    "            u = np.zeros((self.m[k] + 1, n))\n",
    "            \n",
    "            for s in range(self.M[k]+1):\n",
    "                r = np.random.uniform(low = self.r_min, high = self.r_max)\n",
    "                rho.append(r)\n",
    "                S = self.S_rho(r)\n",
    "                R.append(np.random.multivariate_normal(self.mu, S))\n",
    "                \n",
    "            for i in range(self.m[k] + 1):\n",
    "                expect = 0.0\n",
    "                for s in range(1,self.M[k]+1): \n",
    "                    w = self.W(self.m[k-1], rho[s], u0)\n",
    "                    expect += (self.LB[i](rho[s]) * self.f(w.reshape(n,1), R[s])).reshape(1,n)\n",
    "                expect /= self.M[k]\n",
    "                if i > self.m[k-1]:\n",
    "                    u[i] = - self.gamma[k] * expect\n",
    "                else:\n",
    "                    u[i] = u0[i] - self.gamma[k] * expect\n",
    "            u0 = u\n",
    "            self.u_record.append(u)\n",
    "        return u\n",
    "#     def culculate_result(self,u,r):\n",
    "#         x = self.W(np.max(self.m),r,u)\n",
    "#         return\n",
    "    def run_out(self, rs = None):\n",
    "        if rs is None:\n",
    "            rs = [0.5*(self.r_min + self.r_max)]\n",
    "        self.u0_initialization()\n",
    "        res = self.iteration()\n",
    "        print(\"the u in the end of the iteration is : \\n{}\".format(res))\n",
    "        \n",
    "        for r in rs:\n",
    "            x = self.W(np.max(self.m),r,res)\n",
    "            print(\"-\"*60)\n",
    "            print(\"and the result of rho = {} is \\n {}\".format(r,x/np.sum(x)))\n",
    "            print(\"compare with the theory result : \\n {}\\n\".format(self.omega_theory(r).reshape(1,self.n)))\n",
    "        res = []\n",
    "        for i in range(50,self.K,5):\n",
    "            res.append(uqsa.u_record[i][2][1])\n",
    "        plt.plot(range(50,self.K,5),res)\n",
    "        return res"
   ]
  }
 ],
 "metadata": {
  "kernelspec": {
   "display_name": "Python 3",
   "language": "python",
   "name": "python3"
  },
  "language_info": {
   "codemirror_mode": {
    "name": "ipython",
    "version": 3
   },
   "file_extension": ".py",
   "mimetype": "text/x-python",
   "name": "python",
   "nbconvert_exporter": "python",
   "pygments_lexer": "ipython3",
   "version": "3.7.7"
  }
 },
 "nbformat": 4,
 "nbformat_minor": 4
}

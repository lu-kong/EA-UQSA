{
 "cells": [
  {
   "cell_type": "markdown",
   "metadata": {},
   "source": [
    "### 3.1 Simple Robbins Monro"
   ]
  },
  {
   "cell_type": "markdown",
   "metadata": {},
   "source": [
    "Write the first order budget constraint as :$$F(w) = E[(R-\\mu)(R-\\mu)']w + \\lambda \\mathbf{1}_n = Sw + \\lambda \\mathbf{1}_n=0,$$ \n",
    "We can write $F(w) = E(f(w, R)),$ where $$f(w,R) = (R-\\mu)(R-\\mu)'w + \\lambda\\mathbf{1}_n$$\n",
    "We can easily verify the 2 assumptions: \n",
    "\n",
    "* if $w*$ is the solution, $\\forall w\\in \\mathbb{R}^n$,\n",
    "\\begin{eqnarray}\n",
    " \\langle w - w*, F(w)\\rangle &=& \\langle w-w*, Sw + \\lambda \\mathbf{1}_n\\rangle \\\\\n",
    " &=& \\langle w-w*, S(w-w*) + Sw*+ \\lambda \\mathbf{1}_n\\rangle \\\\\n",
    " &=&\\langle w-w*, S(w-w*)\\rangle >0\n",
    "\\end{eqnarray}\n",
    "\n",
    "\n",
    "* $\\forall w\\in \\mathbb{R}^n, E(f^2(w, R)) = E(w^TA^2w+2w^TA\\cdot\\lambda\\mathbf{1}_n+n\\lambda^2\\leq C(1+|w|^2),$where$A = (R-\\mu)(R-\\mu)',$ when $C$ is quite large. "
   ]
  },
  {
   "cell_type": "code",
   "execution_count": 1,
   "metadata": {},
   "outputs": [],
   "source": [
    "import numpy as np\n",
    "import scipy \n",
    "import scipy.linalg\n",
    "import matplotlib.pyplot as plt\n",
    "from scipy.integrate import quad\n",
    "from tqdm import tqdm,trange"
   ]
  },
  {
   "cell_type": "code",
   "execution_count": 2,
   "metadata": {},
   "outputs": [],
   "source": [
    "n = 3\n",
    "mu = np.array([.05, .07, .06])  # R~ N(mu, S)\n",
    "D = np.diag([.1, .14, .2])      # S = DKD\n",
    "rho = 0.5\n",
    "K = np.array([[1, rho, 0],\n",
    "             [rho, 1, rho],\n",
    "             [0, rho, 1]])\n",
    "lambd = 0.3\n",
    "S = np.matmul(np.matmul(D, K), D)"
   ]
  },
  {
   "cell_type": "code",
   "execution_count": 3,
   "metadata": {},
   "outputs": [],
   "source": [
    "def f(w, R, lambd = lambd):\n",
    "    \"\"\"\n",
    "    function for Robbins Monro regression\n",
    "        E[f(w,R)] = F(w) = 0 \n",
    "    \n",
    "    inputs :\n",
    "            w :   w_n-1 in the regression\n",
    "            R :   A random vector to perform the RM\n",
    "        lambd :   eigenvalue default by 0.3\n",
    "    return : f(w,R)\n",
    "    \"\"\"\n",
    "    t1 = R.reshape(n, 1)   # reshape R^n vectors into col-vectors\n",
    "    t2 = mu.reshape(n, 1)\n",
    "    return np.matmul((t1 - t2)*((t1 - t2).T), w) + lambd*np.ones((n, 1))"
   ]
  },
  {
   "cell_type": "code",
   "execution_count": 4,
   "metadata": {},
   "outputs": [],
   "source": [
    "def plot_trace(h):\n",
    "    l = np.shape(h)[0]\n",
    "    hh = np.array(h)\n",
    "    plt.plot(hh[:l,0])\n",
    "    plt.ylim(-1.,1.)\n",
    "    plt.show()\n",
    "def theory_answer(S):\n",
    "    inv = np.linalg.inv(S)\n",
    "    w = np.matmul(inv, np.ones((n, 1)))/np.sum(inv)\n",
    "    return w"
   ]
  },
  {
   "cell_type": "code",
   "execution_count": 5,
   "metadata": {},
   "outputs": [
    {
     "data": {
      "image/png": "[encoded data removed]",
      "text/plain": [
       "<Figure size 432x288 with 1 Axes>"
      ]
     },
     "metadata": {
      "needs_background": "light"
     },
     "output_type": "display_data"
    },
    {
     "name": "stdout",
     "output_type": "stream",
     "text": [
      "final result is \n",
      " [[ 0.84891639]\n",
      " [-0.03814425]\n",
      " [ 0.18922786]]\n",
      "compare with the theory result \n",
      " [[ 0.82688391]\n",
      " [-0.0407332 ]\n",
      " [ 0.21384929]]\n"
     ]
    }
   ],
   "source": [
    "def Robbins_Monro_Regression(N = 10000, alpha = 0.6):\n",
    "    R = np.random.multivariate_normal(mu, S, N)\n",
    "    x = np.random.random(n)\n",
    "    x = x/np.sum(x)\n",
    "    w = [x.reshape(n,1)]     # initialization with equal value\n",
    "    w_hist = [x.reshape(n,1)]\n",
    "    rg = range(N)\n",
    "    if N > 1e4 :\n",
    "        rg = tqdm(rg)\n",
    "    for i in rg:\n",
    "        w_tmp = w[-1] - 10.*f(w[-1], R[i])/np.power(i+1,alpha)\n",
    "        w.append(w_tmp)\n",
    "        w_hist.append(w_tmp/np.sum(w_tmp))\n",
    "    plot_trace(w_hist)\n",
    "    print(\"final result is \\n {}\".format(w[-1]/np.sum(w[-1])))\n",
    "    print(\"compare with the theory result \\n {}\".format(theory_answer(S)))\n",
    "    return w[-1]/np.sum(w[-1]),w,w_hist\n",
    "x,_,_ = Robbins_Monro_Regression(N = 10000,alpha = 0.6)"
   ]
  },
  {
   "cell_type": "markdown",
   "metadata": {},
   "source": [
    "## 3.2"
   ]
  },
  {
   "cell_type": "code",
   "execution_count": 6,
   "metadata": {},
   "outputs": [],
   "source": [
    "def S_rho(rho):\n",
    "    D = np.diag([.1, .14, .2])\n",
    "    # rho = 0.5\n",
    "    K = np.array([[1, rho, 0],\n",
    "                 [rho, 1, rho],\n",
    "                 [0, rho, 1]])\n",
    "    S = np.matmul(np.matmul(D, K), D)\n",
    "    return S"
   ]
  },
  {
   "cell_type": "code",
   "execution_count": 7,
   "metadata": {},
   "outputs": [
    {
     "data": {
      "image/png": "[encoded data removed]",
      "text/plain": [
       "<Figure size 432x288 with 1 Axes>"
      ]
     },
     "metadata": {
      "needs_background": "light"
     },
     "output_type": "display_data"
    },
    {
     "name": "stdout",
     "output_type": "stream",
     "text": [
      "final result is \n",
      " [[0.7079384 ]\n",
      " [0.12542074]\n",
      " [0.16664085]]\n",
      "compare with the theory result \n",
      " [[0.73492551]\n",
      " [0.09458501]\n",
      " [0.17048948]]\n"
     ]
    }
   ],
   "source": [
    "S = S_rho(rho=0.4)\n",
    "_,_,_ = Robbins_Monro_Regression(alpha=0.6)"
   ]
  },
  {
   "cell_type": "code",
   "execution_count": 8,
   "metadata": {},
   "outputs": [],
   "source": [
    "def UQSA_adapted(rho_min, rho_max, u0 = '', K = 1000, n = 3, a = 0.875, b = 0.3):   # mk\n",
    "    m = [int(np.floor(np.power(k, b))) + 1 for k in range(K+1)]   #   mk[0] = 1\n",
    "    if u0=='' : \n",
    "        u0 = np.random.randn(m[0] + 1, n)   \n",
    "\n",
    "    B = [np.polynomial.legendre.Legendre.basis(deg=i,domain=np.array([rho_min, rho_max])) for i in range(np.max(m)+1)]   \n",
    "        \n",
    "    def W(m_k, rho, u0, Legendre_basis = B):\n",
    "        return np.sum([u0[j]*Legendre_basis[j](rho) for j in range(m_k+1)], axis = 0)\n",
    "#     trace = []\n",
    "    for k in tqdm(range(1, K+1)):\n",
    "\n",
    "        r = np.random.uniform(low = rho_min, high = rho_max)\n",
    "        S = S_rho(r)\n",
    "        R = np.random.multivariate_normal(mu, S)\n",
    "        \n",
    "        u = np.zeros((m[k] + 1, n))\n",
    "        for i in range(m[k] + 1):\n",
    "            w = W(m[k-1], r, u0)\n",
    "#             trace.append(w[0])\n",
    "            expect = (B[i](r) * f(w.reshape(n,1), R)).reshape(n)\n",
    "            \n",
    "            gamma = 1./np.power(k, a) #stepsize\n",
    "            \n",
    "            if i > m[k-1]:\n",
    "                u[i] = - gamma * expect\n",
    "            else:\n",
    "                u[i] = u0[i] - gamma * expect\n",
    "            \n",
    "            u0 = u\n",
    "    return u"
   ]
  },
  {
   "cell_type": "code",
   "execution_count": 9,
   "metadata": {},
   "outputs": [],
   "source": [
    "def result_UQSA_adapted(r,K=1000):\n",
    "    u = UQSA_adapted(0.3,0.5,K=K)\n",
    "#     print(u)\n",
    "    rg = range(int(np.floor(np.power(K, 0.3))) + 1 )\n",
    "    B = [np.polynomial.legendre.Legendre.basis(deg=i,domain=np.array([0.6, 0.8])) for i in rg]\n",
    "    result = np.zeros(3)\n",
    "    \n",
    "    for j in rg:\n",
    "        result = result + B[j](r)*u[j]\n",
    "#     plt.plot(trace)\n",
    "    return result/np.sum(result)"
   ]
  },
  {
   "cell_type": "code",
   "execution_count": 10,
   "metadata": {},
   "outputs": [
    {
     "name": "stderr",
     "output_type": "stream",
     "text": [
      "100%|█████████████████████████████████████████████████████████████████████████████| 1000/1000 [00:01<00:00, 964.29it/s]\n"
     ]
    },
    {
     "data": {
      "text/plain": [
       "array([ 0.36788984,  2.45889618, -1.82678602])"
      ]
     },
     "execution_count": 10,
     "metadata": {},
     "output_type": "execute_result"
    }
   ],
   "source": [
    "result_UQSA_adapted(0.4, 1000)"
   ]
  },
  {
   "cell_type": "code",
   "execution_count": null,
   "metadata": {},
   "outputs": [],
   "source": []
  },
  {
   "cell_type": "markdown",
   "metadata": {},
   "source": [
    "### 5. 1 Function choice\n",
    "Now we try to tune the problem into a equivalent problem:\n",
    "$$min_{x\\in\\mathbb{R}^{d-1}}\\frac{1}{2}w(x)^TSw(x),$$\n",
    "where $w(x)=(x_1, x_2, ... x_{d-1}, 1-\\sum_i^{d-1}x_i)^T$\n",
    "\n",
    "Taking the partial derivative:\n",
    "$$\\partial_{w_i}(\\frac{1}{2}w(x)^T)Sw(x)) = (Sw(x))_i - (Sw(x))_d,\\quad i=1,\\, 2,\\, \\cdots,\\, d-1$$\n",
    "where $Sw(x)_i$ is the i-th row of the vector $Sw.$\n",
    "\n",
    "We take $$F^r(w) = \\{(Sw(x))_i - Sw(x)_d\\}_{i=1}^{d-1}$$\n",
    "Now we verify the condition $\\langle F^r(x), x-x^*\\rangle>0, \\forall x\\neq x^*, x\\in \\mathbb{R}^{d-1}$.\n",
    "\n",
    "Firstly $$w(x)=(x_1, x_2, ... x_{d-1}, 1-\\sum_i^{d-1}x_i)^T = Ax+b,$$\n",
    "where\n",
    "$$\n",
    "A \n",
    "= \n",
    "\\begin{pmatrix} \n",
    "1 & 0 & \\cdots & 0\\\\\n",
    "0 & 1 & \\cdots & 0\\\\\n",
    "\\vdots & \\vdots & \\ddots & \\vdots\\\\\n",
    "0 & \\cdots & 0 & 1 \\\\\n",
    "-1 & -1 & \\cdots & -1\n",
    "\\end{pmatrix}_{d\\times(d-1)},\n",
    "b = (0,\\, 0,\\,\\cdots,0,\\,1)^T\\in \\mathbb{R}^{d}\n",
    "$$\n",
    "We can also write the vector $F(w)$ as \n",
    "$$\n",
    "F^r(w)\n",
    "=\n",
    "\\begin{pmatrix} \n",
    "(Sw)_1 - (Sw)_d \\\\\n",
    "(Sw)_2 - (Sw)_d\\\\\n",
    "\\vdots \\\\\n",
    "(Sw)_{d-1} - (Sw)_d\n",
    "\\end{pmatrix}\n",
    "=\n",
    "\\begin{pmatrix}\n",
    "1 & 0 & \\cdots & 0 & -1 \\\\\n",
    "\\vdots & \\vdots & \\ddots & \\vdots & \\vdots \\\\\n",
    "0 & 0 & \\cdots & 1 & -1\n",
    "\\end{pmatrix}_{(d-1)\\times d}\n",
    "=\n",
    "A^TSw.\n",
    "$$\n",
    "Hence we have $$F^r(w(x))=A^TSw = A^TS(Ax+b) = Cx + c,$$\n",
    "where $C = A^TSA\\in \\mathcal{M}_{d-1}, \\, c = A^TSb\\in \\mathbb{R}^{d-1}.$\n",
    "\n",
    "So we have $\\forall x \\in \\mathbb{R}^{d-1}, x\\neq x^*$, where $F^r(w(x^*)) = Cx^*+c=0$,\n",
    "$$\\langle Cx+c,\\, x-x^*\\rangle= \\langle C(x-x^*)+Cx^*+c,\\, x-x^*\\rangle = \\langle C(x-x^*),\\, x-x^*\\rangle>0,$$\n",
    "since $C$ is positive definite.\n",
    "\n",
    "Note that the second condition of the Robinson-Monro is obviously satisfied."
   ]
  },
  {
   "cell_type": "markdown",
   "metadata": {},
   "source": [
    "Now we take $F^r(w(x)) = E(f^r(w(x), R)),$ where $$f(w(x),R) = A^T(R-\\mu)(R-\\mu)'w(x) = A^T(R-\\mu)(R-\\mu)'(Ax+b),$$\n",
    "we are going to implement the Robbins-Monro and the UQSA with this new function."
   ]
  },
  {
   "cell_type": "markdown",
   "metadata": {},
   "source": [
    "#### Robbins-Monro"
   ]
  },
  {
   "cell_type": "code",
   "execution_count": 11,
   "metadata": {},
   "outputs": [
    {
     "data": {
      "text/plain": [
       "(array([[ 1.,  0.],\n",
       "        [ 0.,  1.],\n",
       "        [-1., -1.]]),\n",
       " array([[0.],\n",
       "        [0.],\n",
       "        [1.]]))"
      ]
     },
     "execution_count": 11,
     "metadata": {},
     "output_type": "execute_result"
    }
   ],
   "source": [
    "n = 3\n",
    "unit = np.identity(n-1)\n",
    "ones = np.ones((1, n-1))\n",
    "A = np.vstack((unit, -ones))\n",
    "b = np.vstack((np.zeros((n-1,1)), [[1]]))\n",
    "A, b"
   ]
  },
  {
   "cell_type": "code",
   "execution_count": 12,
   "metadata": {},
   "outputs": [],
   "source": [
    "def f2(x, R):\n",
    "    \"\"\"\n",
    "    function for Robbins Monro regression\n",
    "        E[f2(w(x),R)] = F^r(w(x)) = 0 \n",
    "        Note that A is of dim (d,d-1) (d = n = len(R_))\n",
    "    inputs :\n",
    "            x :   n-1 vector in the regression\n",
    "            R :   A random vector to perform the RM\n",
    "            \n",
    "    return : f(w,R) of dimension n-1\n",
    "    \"\"\"\n",
    "    x_, R_, mu_ = x.reshape(n-1,1), R.reshape(n, 1), mu.reshape(n, 1)\n",
    "    \n",
    "    left = np.matmul(A.T, np.matmul(R_ - mu_, (R_ - mu_).T))\n",
    "    right = np.matmul(A, x) + b\n",
    "    \n",
    "    result = np.matmul(left, right)\n",
    "    \n",
    "    return result\n",
    "    "
   ]
  },
  {
   "cell_type": "code",
   "execution_count": 13,
   "metadata": {
    "scrolled": true
   },
   "outputs": [
    {
     "data": {
      "image/png": "[encoded data removed]",
      "text/plain": [
       "<Figure size 432x288 with 1 Axes>"
      ]
     },
     "metadata": {
      "needs_background": "light"
     },
     "output_type": "display_data"
    },
    {
     "name": "stdout",
     "output_type": "stream",
     "text": [
      "final result is \n",
      " [[0.74110291]\n",
      " [0.0860803 ]\n",
      " [0.1728168 ]]\n",
      "compare with the theory result \n",
      " [[0.73492551]\n",
      " [0.09458501]\n",
      " [0.17048948]]\n"
     ]
    }
   ],
   "source": [
    "def RM_bis(N = 10000, alpha = 0.6):\n",
    "    R = np.random.multivariate_normal(mu, S, N)\n",
    "    x = np.random.random((n - 1, 1)) # initialization with random value\n",
    "    \n",
    "    w0 = np.vstack((x, 1 - np.sum(x)))\n",
    "    w = [w0]\n",
    "    w_hist = [w0.reshape(n, 1)]\n",
    "    \n",
    "    rg = range(N)\n",
    "    if N > 1e4 :\n",
    "        rg = tqdm(rg)\n",
    "        \n",
    "    for i in rg:\n",
    "        x = x - 10.*f2(x, R[i])/np.power(i+1, alpha)\n",
    "        w_tmp = np.vstack((x, 1 - np.sum(x)))\n",
    "        w.append(w_tmp)\n",
    "        w_hist.append(w_tmp/np.sum(w_tmp))\n",
    "        \n",
    "    plot_trace(w_hist)\n",
    "    \n",
    "    print(\"final result is \\n {}\".format(w[-1]/np.sum(w[-1])))\n",
    "    print(\"compare with the theory result \\n {}\".format(theory_answer(S)))\n",
    "    return w[-1]/np.sum(w[-1]),w,w_hist\n",
    "x,_,_ = RM_bis(N = 10000,alpha = 0.65)"
   ]
  },
  {
   "cell_type": "markdown",
   "metadata": {},
   "source": [
    "# MARK"
   ]
  },
  {
   "cell_type": "markdown",
   "metadata": {},
   "source": [
    "### 5.3 UQSA assumptions verification\n",
    "\n",
    "**A1.** The set $\\mathbf{\\mathcal{T}^*}$ is compact and non-empty.  \n",
    "\n",
    "---\n",
    "**A2.** $\\sum \\gamma_k = \\infty,\\quad  \\sum\\gamma_k^{1+\\kappa}<\\infty, \\quad \\sum\\gamma_k^2\\frac{Q_{m_k}}{M_k}<\\infty, \\quad \\sum\\gamma_k^{1-\\kappa}q_{m_k}<\\infty,$\n",
    "\n",
    "\n",
    "where the sequences ${q_m, m\\geq 0},\\,{Q_m, m\\geq 0}$ are defined by $$q_m:=sup_{u^*\\in\\mathcal{T}^*}\\sum_{i>m}|u_i^*|^2,\\quad\\quad  Q_m:=sup_{\\theta\\in\\Theta}\\sum_{i\\leq m} |B_i(\\theta)|^2.$$\n",
    "\n",
    "If $B_i=\\sqrt{(2i+1)/2}\\tilde B_i$, where $\\tilde B_i$ is the unnormalized Legendre basis, we choose the basis on a bounded interval $\\Theta$. We have therefore $sup_{i\\geq 0}sup_{\\Theta}|B(\\theta)|<\\infty$, so that $Q_m=\\mathcal{O}(m^2)$.\n",
    "\n",
    "Besides, if the solution $w(\\theta)$ is smooth in $\\theta$, $q_m=\\mathcal{O}(m^{-\\delta})$ for any $\\delta$.  \n",
    "\n",
    "---  \n",
    "\n",
    "**A5.**  $\\exists C_H>0, \\, \\forall z\\in \\mathbb{R}^q$ $$sup_\\theta\\int_\\mathcal{V}|H(z, v, \\theta)|^2\\mu(\\theta, dv)\\leq C_H(1+|z^2|)$$\n",
    "\n",
    "In our toy model, $z\\leftarrow x,\\, V^\\theta\\leftarrow R^\\rho, \\, H(z, V^\\theta, \\theta)\\leftarrow f(x, R)$, so we can write the integral above as $$sup_{\\rho\\in[\\rho_{min},\\, \\rho_{max}]}\\int|f(x, R^\\rho)|^2\\mu(dR^\\rho).$$\n",
    "Here $f(x, R) = \\tilde{A}x+\\tilde b$, where $\\tilde{A} =  A^T(R-\\mu)(R-\\mu)^TA,\\, \\tilde{b}= A^T(R-\\mu)(R-\\mu)^Tb$,  since $\\rho\\in[\\rho_{min},\\,\\rho_{max}]$ is bounded, we have $$|f(x, R)|^2 = x^T\\tilde{A}^T\\tilde{A}x + 2\\tilde{b}^T\\tilde{A}x+|\\tilde{b}|^2\\leq C(1+|x|^2),\\quad \\forall\\rho\\in[\\rho_{min},\\,\\rho_{max}],$$ for a constant C. $\\int \\mu(dR^\\rho)=1$, we have the inequality: $$sup\\int |f(x, R)|^2\\mu(dR^\\rho)<C(1+|x|^2)$$  \n",
    "\n",
    "---\n",
    "\n",
    "**A6.**  $\\forall B>0, \\exists C_B>0, \\forall (\\phi, \\phi^*)\\in L^\\pi_{2,q}\\times \\mathbf{Is(\\mathcal{T}^*)}$, and $\\parallel \\phi-\\phi^*\\parallel_\\pi\\leq B$\n",
    "$$\\int (\\phi(\\theta)-\\phi^*(\\theta))\\cdot h(\\phi(\\theta), \\theta)\\pi(d\\theta)\\geq C_Bmin_{\\bar{\\phi}\\in \\mathbf{Is(\\mathcal{T}^*)}}\\parallel\\phi-\\bar\\phi\\parallel^2_\\pi$$\n",
    "for any $x\\in\\mathbb{R}^{d-1}$ and $\\rho\\in [\\rho_{min},\\rho_{max}]$, $$h(x, \\rho) = \\int f(x, R^\\rho)\\mu(dR^\\rho)=E[f(x, R^\\rho)]$$\n",
    "From the definition of $\\mathcal{T^*}$, we have $E(\\phi^*, R^\\rho) = E[\\tilde{A}\\phi^*+\\tilde{b}] = 0, \\forall \\phi^*\\in\\mathbf{Is}(\\mathcal{T^*})$, from the expressions in **A5**, $E(\\tilde{A})=A^TSA,\\,E(\\tilde{b})=A^TSb$, so we have $$h(\\phi, \\rho) = A^TSA\\phi+A^TSb,\\quad \\phi\\in L^\\pi_{2(d-1)}.$$\n",
    "Hence\n",
    "$$\n",
    "\\begin{aligned}\n",
    "\\int (\\phi-\\phi^*)\\cdot h(\\phi, \\rho)\\pi(d\\rho) &= \\int (\\phi-\\phi^*)^T(A^TSA\\phi+A^TSb)\\pi(d\\rho)\n",
    "\\end{aligned}\n",
    "$$\n",
    "Note that $$(\\phi-\\phi^*)^T(A^TSA\\phi+A^TSb)=(\\phi-\\phi^*)^T(A^TSA(\\phi-\\phi^*)+A^TSA\\phi^*+A^TSb)=(\\phi-\\phi^*)^TA^TSA(\\phi-\\phi^*)\\geq \\lambda(\\rho)|\\phi-\\phi^*|^2,$$ \n",
    "where $\\lambda(\\rho)$ is the minimum eigenvalue of the matrix $A^TSA$. With the boundness of $\\rho$, $\\lambda(\\rho)$ is therefore bounded, which leads us the the result:\n",
    "$$\\int (\\phi-\\phi^*)\\cdot h(\\phi, \\rho)\\pi(d\\rho)\\geq \\int \\lambda(\\rho)|\\phi-\\phi^*|^2\\pi(d\\rho)\\geq C'min_{\\bar\\phi\\in\\mathcal{T}^*}\\|\\phi-\\bar\\phi\\|_{\\pi}^2,$$where $C'=min(\\lambda(\\rho))$ is a constant by the boundness of $\\rho$.\n",
    "\n",
    "**Remark.** In our toy model, we have actually one unique solution to the problem, which means $\\{\\phi^*\\}=\\mathcal{T}^*$"
   ]
  },
  {
   "cell_type": "code",
   "execution_count": 36,
   "metadata": {},
   "outputs": [],
   "source": [
    "class UQSA_generator:\n",
    "    def __init__(self,K, n = 3, n_iter = 3, r_min = 0.3, r_max = 0.5, gamma = None,m = None,M = None,b=None,plot = False):\n",
    "        self.K = K\n",
    "        # steps of iteration\n",
    "        if gamma is not None:\n",
    "            self.gamma = gamma\n",
    "        elif b is not None:\n",
    "            self.gamma = [1./np.power(k,b) for k in range(K+1)]\n",
    "        else:\n",
    "            self.gamma = [1./np.power(k,0.65) for k in range(K+1)]\n",
    "            \n",
    "        self.m = [int(np.floor(np.power(k, 0.24))) + 1 for k in range(K+1)]\n",
    "        if M is None:\n",
    "            self.M = [10]*(K+1)\n",
    "        else:\n",
    "            self.M = M\n",
    "        self.u0 = None\n",
    "        self.u_record = None\n",
    "        self.r_min = r_min\n",
    "        self.r_max = r_max\n",
    "        self.n = n                # n is the dimension of w and theoretically\n",
    "        self.n_iter = n_iter      # n_iter is the dimension of MC iteration for exemple if we take w_{n} = 1 - sum_1^{n-1}(w_{i}), then n_iter = n-1\n",
    "        self.mu = np.array([.05, .07, .06])  # TODO\n",
    "#         self.LB = [np.sqrt((2*i+1)/(self.r_max-self.r_min))*np.polynomial.legendre.Legendre.basis(deg=i,domain=np.array([r_min, r_max])) for i in range(np.max(self.m)+1)]\n",
    "        self.LB = None\n",
    "        self.plot = plot\n",
    "#     def f(self, w, R, lambd = 0.3):\n",
    "#         \"\"\"\n",
    "#         function for Robbins Monro regression\n",
    "#             E[f(w,R)] = F(w) = 0 \n",
    "\n",
    "#         inputs :\n",
    "#                 w :   w_n-1 in the regression\n",
    "#                 R :   A random vector to perform the RM\n",
    "#             lambd :   eigenvalue default by 0.3\n",
    "#         return : f(w,R)\n",
    "#         \"\"\"\n",
    "#         t1 = R.reshape(self.n, 1)   # reshape R^n vectors into col-vectors\n",
    "#         t2 = mu.reshape(self.n, 1)\n",
    "#         return np.matmul((t1 - t2)*((t1 - t2).T), w) + lambd*np.ones((self.n, 1))\n",
    "\n",
    "    def Legendre_B(self,a, b, n):\n",
    "        \"\"\"\n",
    "        generate a normalized Legendre basis in the interval [a, b]\n",
    "        n is the number of the Legendre basis needed\n",
    "        \"\"\"\n",
    "        delta = b-a\n",
    "        LB = [np.sqrt((2*i+1)/delta)*np.polynomial.legendre.Legendre.basis(deg=i) for i in range(n)]\n",
    "        new = []\n",
    "        for i in range(n):\n",
    "            z = lambda x, i=i: LB[i]((2*x-a-b)/(b-a))\n",
    "            new.append(z)\n",
    "        return new\n",
    "    \n",
    "    def f(self, x, R):\n",
    "        \"\"\"\n",
    "        function for Robbins Monro regression\n",
    "            E[f2(w(x),R)] = F^r(w(x)) = 0 \n",
    "            Note that A is of dim (d,d-1) (d = n = len(R_)) (n,n_iter = n - 1)\n",
    "        inputs :\n",
    "                x :   n-1 vector in the regression\n",
    "                R :   A random vector to perform the RM\n",
    "\n",
    "        return : f(w,R) of dimension n-1\n",
    "        \"\"\"       \n",
    "        A,b,n,n_iter = self.A, self.b, self.n, self.n_iter\n",
    "        x_, R_, mu_ = x.reshape(n_iter,1), R.reshape(n, 1), self.mu.reshape(n, 1)\n",
    "\n",
    "        left = np.matmul(A.T, np.matmul(R_ - mu_, (R_ - mu_).T))\n",
    "        right = np.matmul(A, x) + b\n",
    "\n",
    "        result = np.matmul(left, right)\n",
    "\n",
    "        return result\n",
    "    def W(self,m_k, rho, u0):\n",
    "        return np.sum([u0[j]*self.LB[j](rho) for j in range(m_k+1)], axis = 0)\n",
    "    \n",
    "    def S_rho(self, rho):\n",
    "        D = np.diag([.1, .14, .2])\n",
    "        # rho = 0.5\n",
    "        K = np.array([[1, rho, 0],\n",
    "                     [rho, 1, rho],\n",
    "                     [0, rho, 1]])\n",
    "        S = np.matmul(np.matmul(D, K), D)\n",
    "        return S\n",
    "    \n",
    "    def omega_theory(self,r):\n",
    "        n = self.n\n",
    "        S = self.S_rho(r)\n",
    "        inv = np.linalg.inv(S)\n",
    "        w = np.matmul(inv, np.ones((n, 1)))/np.sum(inv)\n",
    "        return w\n",
    "    \n",
    "    def u0_initialization(self):\n",
    "        n = self.n_iter #attention!!!\n",
    "        unit = np.identity(n)\n",
    "        ones = np.ones((1, n))\n",
    "        self.A = np.vstack((unit, -ones))\n",
    "        self.b = np.vstack((np.zeros((n,1)), [[1]]))\n",
    "        \n",
    "        ##########################\n",
    "        ####  trich init   #######\n",
    "        ##########################\n",
    "        res = []\n",
    "        for i in range(np.max(self.m)+1):\n",
    "            res_i = []\n",
    "            for j in range(n):\n",
    "                func = lambda r: self.omega_theory(r)[j] * self.LB[i](r)    \n",
    "                res_i.append(quad(func,self.r_min,self.r_max)[0]) #integral w()*B_i() \\pi(d\\rho) \\pi(0.2) = 1\n",
    "            res.append(res_i)\n",
    "        self.u_theory_result = res\n",
    "#         self.u0 = res\n",
    "        ###########################\n",
    "#                   MC\n",
    "        ###########################\n",
    "        u0_init = []\n",
    "        rss = np.linspace(self.r_min,self.r_max,101)\n",
    "        for i in range(np.max(self.m) + 1):\n",
    "            u0_init_i = []\n",
    "            for j in range(n):\n",
    "                summ = 0.0\n",
    "                for r in rss:\n",
    "                    summ += self.omega_theory(r)[j] * self.LB[i](r)*1e-2 *0.2 \n",
    "                u0_init_i.append(summ[0])  #MC Expectation = \\int w(r)B_i(r) \\pi(d\\theta) et \\pi(d\\theta) = 0.2*d\\theta in this case\n",
    "            u0_init.append(u0_init_i)\n",
    "            \n",
    "        self.u_record = [u0_init]\n",
    "        self.u0 = u0_init\n",
    "        return self.u_theory_result\n",
    "        \n",
    "    \n",
    "    def iteration(self):\n",
    "        u0 = np.array(self.u0)\n",
    "#         u0 = np.random.randn(np.shape(u0)[0],np.shape(u0)[1])\n",
    "        n = self.n_iter\n",
    "        for k in trange(1, self.K+1):\n",
    "            rho = []\n",
    "            R = []\n",
    "            u = np.zeros((self.m[k] + 1, n))\n",
    "            \n",
    "            for s in range(self.M[k]+1):\n",
    "                r = np.random.uniform(low = self.r_min, high = self.r_max)\n",
    "                rho.append(r)\n",
    "                S = self.S_rho(r)\n",
    "                R.append(np.random.multivariate_normal(self.mu, S))\n",
    "                \n",
    "            for i in range(self.m[k] + 1):\n",
    "                expect = 0.0\n",
    "                for s in range(1,self.M[k]+1): \n",
    "                    w = self.W(self.m[k-1], rho[s], u0)\n",
    "                    expect += (self.LB[i](rho[s]) * self.f(w.reshape(n,1), R[s])).reshape(1,n)\n",
    "                expect /= self.M[k]\n",
    "                if i > self.m[k-1]:\n",
    "                    u[i] = - self.gamma[k] * expect\n",
    "                else:\n",
    "                    u[i] = u0[i] - self.gamma[k] * expect\n",
    "            u0 = u\n",
    "            self.u_record.append(u)\n",
    "        return u\n",
    "#     def culculate_result(self,u,r):\n",
    "#         x = self.W(np.max(self.m),r,u)\n",
    "#         return\n",
    "    def run_out(self, rs = None):\n",
    "        self.LB = self.Legendre_B(self.r_min,self.r_max,np.max(self.m)+1)\n",
    "\n",
    "        if rs is None:\n",
    "            rs = [0.5*(self.r_min + self.r_max)]\n",
    "        self.u0_initialization()\n",
    "#         print(self.u0)\n",
    "#         print(self.u_theory_result)\n",
    "        res = self.iteration()\n",
    "        print(\"the u in the end of the iteration is : \\n{}\".format(res))\n",
    "        \n",
    "        for r in rs:\n",
    "            x = self.W(np.max(self.m),r,res)\n",
    "            calcul_answer = list(x)\n",
    "            calcul_answer.append(1-sum(x))\n",
    "            print(\"-\"*60)\n",
    "            print(\"and the result of rho = {} is \\n {}\".format(r,calcul_answer))\n",
    "            print(\"compare with the theory result : \\n {}\\n\".format(self.omega_theory(r).reshape(1,self.n)))\n",
    "        res = []\n",
    "        for i in range(50,self.K,5):\n",
    "            res.append(self.u_record[i][2][1])\n",
    "#         plt.plot(range(50,self.K,5),res)\n",
    "        if self.plot:\n",
    "            eapp = []\n",
    "            u = self.u_theory_result\n",
    "            u_record = self.u_record\n",
    "            rhos = np.random.rand(100) * 0.2 + 0.3\n",
    "            etot = []\n",
    "            \n",
    "            def dist(x,y):\n",
    "                return sum([(x[i]-y[i])**2 for i in range(len(x))])\n",
    "            for u_t in u_record:\n",
    "                eapp.append(sum([dist(u_t[i],u[i]) for i in range(len(u_t))]))\n",
    "\n",
    "            w = self.omega_theory\n",
    "            for i in range(50,self.K,50):\n",
    "                temp = 0.0\n",
    "                for rho in rhos:\n",
    "                    w_UQSA = list(uqsa.W(len(u_record[i])-1,rho,u_record[i]))\n",
    "                    s = sum(w_UQSA)\n",
    "                    w_UQSA.append(1.0-s)\n",
    "            #         print((w_UQSA))\n",
    "\n",
    "                    temp += (dist(w(rho),w_UQSA))\n",
    "                etot.append(temp/500)  \n",
    "#                 eapp_toplt = eapp[50:1000:50]\n",
    "#                 diff = [etot[i] - eapp_toplt[i] for i in range(len(etot))]\n",
    "#                 plt.plot(range(50,1000,50),etot,label = 'total error')\n",
    "#                 plt.plot(range(50,1000,50),eapp_toplt, label = 'approx error')\n",
    "#                 plt.legend(loc='best')\n",
    "            fig ,(ax1,ax2) = plt.subplots(2, figsize=(10,10))    \n",
    "                \n",
    "            ax1.plot(range(len(eapp)),eapp)  \n",
    "            ax2.plot(range(50,self.K,50),etot,label = 'total error') \n",
    "            ax2.plot(range(50,self.K,50),eapp[50:self.K:50],label = 'approx error') \n",
    "            ax2.legend(loc='best')\n",
    "            \n",
    "            plt.show()\n",
    "#             plt.title(\"error approximation\")\n",
    "        return res"
   ]
  },
  {
   "cell_type": "code",
   "execution_count": 37,
   "metadata": {
    "scrolled": true
   },
   "outputs": [
    {
     "name": "stderr",
     "output_type": "stream",
     "text": [
      "<ipython-input-36-695730a9f643>:10: RuntimeWarning: divide by zero encountered in double_scalars\n",
      "  self.gamma = [1./np.power(k,0.65) for k in range(K+1)]\n",
      "100%|█████████████████████████████████████████████████████████████████████████████| 1000/1000 [00:06<00:00, 162.43it/s]\n"
     ]
    },
    {
     "name": "stdout",
     "output_type": "stream",
     "text": [
      "the u in the end of the iteration is : \n",
      "[[ 3.34554737e-01  3.23994902e-02]\n",
      " [ 2.33428878e-02 -2.77650289e-02]\n",
      " [ 3.77239167e-03 -4.89318505e-03]\n",
      " [-3.23571411e-03  2.27939845e-03]\n",
      " [-2.22757657e-04 -1.63195883e-03]\n",
      " [ 1.45627313e-03 -5.31170613e-04]\n",
      " [-8.40184339e-05 -1.60197429e-04]]\n",
      "------------------------------------------------------------\n",
      "and the result of rho = 0.3 is \n",
      " [0.6827135270827582, 0.13373012979717105, 0.18355634312007074]\n",
      "compare with the theory result : \n",
      " [[0.67654597 0.17242183 0.1510322 ]]\n",
      "\n",
      "------------------------------------------------------------\n",
      "and the result of rho = 0.4 is \n",
      " [0.7383074720904045, 0.08097871808824286, 0.18071380982135266]\n",
      "compare with the theory result : \n",
      " [[0.73492551 0.09458501 0.17048948]]\n",
      "\n",
      "------------------------------------------------------------\n",
      "and the result of rho = 0.5 is \n",
      " [0.8468412943957729, -0.06224518673968964, 0.21540389234391666]\n",
      "compare with the theory result : \n",
      " [[ 0.82688391 -0.0407332   0.21384929]]\n",
      "\n"
     ]
    },
    {
     "data": {
      "image/png": "[encoded data removed]",
      "text/plain": [
       "<Figure size 720x720 with 2 Axes>"
      ]
     },
     "metadata": {
      "needs_background": "light"
     },
     "output_type": "display_data"
    }
   ],
   "source": [
    "uqsa = UQSA_generator(n_iter=2,K=1000,plot=True)\n",
    "u = uqsa.run_out([0.3,0.4,0.5])"
   ]
  },
  {
   "cell_type": "code",
   "execution_count": 38,
   "metadata": {
    "scrolled": true
   },
   "outputs": [],
   "source": [
    "u = uqsa.u_theory_result\n",
    "u_record = uqsa.u_record\n",
    "# w = uqsa.omega_theory"
   ]
  },
  {
   "cell_type": "code",
   "execution_count": 39,
   "metadata": {
    "scrolled": false
   },
   "outputs": [
    {
     "data": {
      "text/plain": [
       "Text(0.5, 1.0, 'error approximation')"
      ]
     },
     "execution_count": 39,
     "metadata": {},
     "output_type": "execute_result"
    },
    {
     "data": {
      "image/png": "[encoded data removed]",
      "text/plain": [
       "<Figure size 432x288 with 1 Axes>"
      ]
     },
     "metadata": {
      "needs_background": "light"
     },
     "output_type": "display_data"
    }
   ],
   "source": [
    "eapp = []\n",
    "def dist(x,y):\n",
    "    return sum([(x[i]-y[i])**2 for i in range(len(x))])\n",
    "\n",
    "for u_t in u_record:\n",
    "    eapp.append(sum([dist(u_t[i],u[i]) for i in range(len(u_t))]))\n",
    "plt.plot(range(len(eapp)),eapp)  \n",
    "plt.title(\"error approximation\")"
   ]
  },
  {
   "cell_type": "code",
   "execution_count": 40,
   "metadata": {},
   "outputs": [],
   "source": [
    "rhos = np.random.rand(1000) * 0.2 + 0.3\n",
    "etot = []\n",
    "w = uqsa.omega_theory\n",
    "for i in range(50,1000,50):\n",
    "    temp = 0.0\n",
    "    for rho in rhos:\n",
    "        w_UQSA = list(uqsa.W(len(u_record[i])-1,rho,u_record[i]))\n",
    "        s = sum(w_UQSA)\n",
    "        w_UQSA.append(1.0-s)\n",
    "#         print((w_UQSA))\n",
    "\n",
    "        temp += (dist(w(rho),w_UQSA))\n",
    "    etot.append(temp/500)"
   ]
  },
  {
   "cell_type": "code",
   "execution_count": 41,
   "metadata": {
    "scrolled": true
   },
   "outputs": [
    {
     "data": {
      "text/plain": [
       "<matplotlib.legend.Legend at 0x2e5d336a340>"
      ]
     },
     "execution_count": 41,
     "metadata": {},
     "output_type": "execute_result"
    },
    {
     "data": {
      "image/png": "[encoded data removed]",
      "text/plain": [
       "<Figure size 432x288 with 1 Axes>"
      ]
     },
     "metadata": {
      "needs_background": "light"
     },
     "output_type": "display_data"
    }
   ],
   "source": [
    "eapp_toplt = eapp[50:1000:50]\n",
    "diff = [etot[i] - eapp_toplt[i] for i in range(len(etot))]\n",
    "plt.plot(range(50,1000,50),etot,label = 'total error')\n",
    "plt.plot(range(50,1000,50),eapp_toplt, label = 'approx error')\n",
    "plt.legend(loc='best')"
   ]
  },
  {
   "cell_type": "code",
   "execution_count": 42,
   "metadata": {
    "scrolled": true
   },
   "outputs": [],
   "source": [
    "# uqsa = UQSA_generator(n=2,K=1000)\n",
    "# u = uqsa.run_out([0.3,0.4,0.5,0.8])"
   ]
  },
  {
   "cell_type": "code",
   "execution_count": 43,
   "metadata": {},
   "outputs": [
    {
     "name": "stderr",
     "output_type": "stream",
     "text": [
      "<ipython-input-36-695730a9f643>:10: RuntimeWarning: divide by zero encountered in double_scalars\n",
      "  self.gamma = [1./np.power(k,0.65) for k in range(K+1)]\n",
      "100%|█████████████████████████████████████████████████████████████████████████████| 1000/1000 [00:06<00:00, 156.46it/s]"
     ]
    },
    {
     "name": "stdout",
     "output_type": "stream",
     "text": [
      "the u in the end of the iteration is : \n",
      "[[ 3.28722105e-01  4.47879356e-02]\n",
      " [ 2.57403133e-02 -2.71364901e-02]\n",
      " [-3.67714340e-03 -1.73713154e-03]\n",
      " [-6.60926572e-04 -4.69937031e-03]\n",
      " [ 2.83983003e-03 -2.06984777e-03]\n",
      " [ 2.50738501e-04 -7.35220947e-04]\n",
      " [ 1.97840766e-03 -7.82123180e-04]]\n",
      "------------------------------------------------------------\n",
      "and the result of rho = 0.3 is \n",
      " [0.6540186101659, 0.20962613971216695, 0.13635525012193306]\n",
      "compare with the theory result : \n",
      " [[0.67654597 0.17242183 0.1510322 ]]\n",
      "\n",
      "------------------------------------------------------------\n",
      "and the result of rho = 0.4 is \n",
      " [0.7463971304574913, 0.10125536168851774, 0.15234750785399087]\n",
      "compare with the theory result : \n",
      " [[0.73492551 0.09458501 0.17048948]]\n",
      "\n",
      "------------------------------------------------------------\n",
      "and the result of rho = 0.5 is \n",
      " [0.8493010837445993, -0.06708099704463207, 0.21777991330003277]\n",
      "compare with the theory result : \n",
      " [[ 0.82688391 -0.0407332   0.21384929]]\n",
      "\n",
      "------------------------------------------------------------\n",
      "and the result of rho = 0.8 is \n",
      " [898.7921440208399, -402.25801773337787, -495.5341262874621]\n",
      "compare with the theory result : \n",
      " [[-0.95169946  3.0411449  -1.08944544]]\n",
      "\n"
     ]
    },
    {
     "name": "stderr",
     "output_type": "stream",
     "text": [
      "\n"
     ]
    }
   ],
   "source": [
    "uqsa = UQSA_generator(n_iter=2,K=1000)\n",
    "u = uqsa.run_out([0.3,0.4,0.5,0.8])"
   ]
  },
  {
   "cell_type": "markdown",
   "metadata": {},
   "source": [
    "#### Explication of Error:\n",
    "\n",
    "by defination of inner product, $\\langle f,g\\rangle := \\int f(\\theta)g(\\theta) \\pi(d\\theta)$ our basis $B_i(\\theta)$ is orthognal and normalized. i.e. \n",
    "$\\langle B_i,B_j \\rangle_{\\pi} = \\delta_{ij} \\tag{*}$\n",
    "\n",
    "Hence when we simulate $\\epsilon^{tot} = \\sum_{i=1}^{\\infty}{\\|u_i - u_i^{UQSA}\\|}^2$ we can dirrectly use the $\\omega(\\theta) - \\omega^{UQSA}(\\theta)$ with the help of orthogonality. To make it more clear:\n",
    "$$\n",
    "\\begin{aligned}\n",
    "\\epsilon^{tot} \n",
    "& = {\\|\\omega - \\omega^{UQSA}\\|}^2_{\\pi} = \\langle \\omega - \\omega^{UQSA},\\omega - \\omega^{UQSA} \\rangle_{\\pi}, \\quad where, \\omega - \\omega^{UQSA} = \\sum_{i=1}^{\\infty}(u_i - u_i^{UQSA})B_i \\\\\n",
    "(since \\quad (*)) \\quad& = \\sum_{i=1}^{\\infty}{\\|u_i - u_i^{UQSA}\\|}^2 \\\\\n",
    "(LGN) \\quad& = \\lim_{M\\to\\infty} \\frac{1}{M} \\sum_{i = 1}^M {\\|\\omega(\\theta_i) - \\omega^{UQSA}(\\theta_i)\\|}^2 \\quad \\text{,with } \\theta_i \\text{ iid}\n",
    "\\end{aligned}$$"
   ]
  },
  {
   "cell_type": "markdown",
   "metadata": {},
   "source": [
    "### 4. GARCH model"
   ]
  },
  {
   "cell_type": "markdown",
   "metadata": {},
   "source": [
    "Now we turn to a more complex model on the return $r_t$: GARCH. This model assumes the follwing structure for the centered returns $r_t$:$$r_t=D_t\\Gamma^{1/2}\\eta_t=D_t\\tilde{\\eta_t},$$ $$V_t=D_t\\Gamma D_t,$$\n",
    "* $D_t = Diag{\\sigma_{1,t,\\cdots,\\, \\sigma{n,t}}}$,\n",
    "* $\\sigma^2_{i,t}$ unidimensional GARCH volatilities,\n",
    "* $\\Gamma = \\{\\rho_{i,j}\\}_{1\\leq i,j\\leq n}$ positive definite matrix,\n",
    "* $\\eta_t$ n-dimenional independent process, $E[\\eta_{i,t}\\eta_{j,t}]=0,\\, \\forall i\\neq j, \\, E[\\eta_{i,t}^2=1]$, and $\\eta_t$ independent from $D_t$.\n",
    "\n",
    "To use UQSA for solving the optimization problem with the return $r_t$ in the GARCH model, we need to verify the 6 assumptions above.The first three assumptions are trival. We turn to **A5** and **A6**."
   ]
  },
  {
   "cell_type": "markdown",
   "metadata": {},
   "source": [
    "**A5.**  $\\exists C_H>0, \\, \\forall z\\in \\mathbb{R}^q$ $$sup_\\theta\\int_\\mathcal{V}|H(z, v, \\theta)|^2\\mu(\\theta, dv)\\leq C_H(1+|z^2|)$$\n",
    "Here $r = r_t = R-\\mu$, so $\\tilde{A}=A^Trr^TA,\\,\\tilde{b}=A^Trr^Tb$, and  \n",
    "$$\n",
    "\\begin{aligned}\n",
    "|f(x, R)|^2 \n",
    "&= x^T\\tilde{A}^T\\tilde{A}x + 2\\tilde{b}^T\\tilde{A}x+|\\tilde{b}|^2\\\\\n",
    "&= x^TA^Trr^TAA^Trr^TAx + 2b^Trr^TAx+b^Trr^TAA^Trr^Tb\n",
    "\\end{aligned}\n",
    "$$ \n",
    "$AA^T$ is half positive definite in $\\mathcal{M}_{d}$, we denote $\\lambda_d$ its maximum enginvalue, so for any $x\\in \\mathbb{R_d}$, we have$$0\\leq x^TAA^Tx\\leq \\lambda_d x^Tx$$\n",
    "\n",
    "We have thereby $$|f(x,R)|^2 \\leq \\lambda_dx^TA^Trr^Trr^TAx+2b^Trr^TAx+\\lambda_db^Trr^Trr^Tb,$$ and\n",
    "$$\n",
    "\\begin{aligned}\n",
    "E[f(x, R)] &\\leq \\lambda_dx^TA^TE(rr^Trr^T)Ax + 2b^TVx+\\lambda_db^TE(rr^Trr^T)b\n",
    "\\end{aligned}\n",
    "$$\n",
    "Note that $rr^Trr^T=r^Trrr^T=(\\sum_{i=1}^{d}r_i^2)rr^T$ is a matrix with element $\\sum_{i=1}^dr_i^2r_jr_k, 1\\leq j,k\\leq,d$.\n",
    "\n",
    "For each $r_i, \\,1\\leq i\\leq d$ is a linear combination of $\\eta_j, 1\\leq d\\leq d$, which is $i.i.d$, so each elelment of the matrix $rr^Trr^T$ is also a combination of $\\eta_j, 1\\leq d\\leq d$ of degree up to 4. By the boundness of $E(r_i^{degree}),\\, degree=1,\\,2,\\,3,\\,4$, we have the boundness of $E(rr^Trr^T)$. $i.e.$ there exists a constant $C$ such that\n",
    "$$\n",
    "\\begin{aligned}\n",
    "E[|f(x,R)|^2]\n",
    "&\\leq \\lambda_dCx^TA^TAx+2b^TVx+\\lambda_dCb^Tb\\\\\n",
    "&\\leq \\lambda_d\\lambda'x^Tx+2b^TVx+\\lambda_dCb^Tb\\\\\n",
    "&\\leq C'(1+|x|^2)\n",
    "\\end{aligned}\n",
    "$$\n",
    "where $\\lambda'$ is the maximum enginvalue of $A^TA$, $C'$ is a positive constant."
   ]
  },
  {
   "cell_type": "markdown",
   "metadata": {},
   "source": [
    "**A6.**  $\\forall B>0, \\exists C_B>0, \\forall (\\phi, \\phi^*)\\in L^\\pi_{2,q}\\times \\mathbf{Is(\\mathcal{T}^*)}$, and $\\parallel \\phi-\\phi^*\\parallel_\\pi\\leq B$, $s.t.$\n",
    "$$\\int (\\phi(\\theta)-\\phi^*(\\theta))\\cdot h(\\phi(\\theta), \\theta)\\pi(d\\theta)\\geq C_Bmin_{\\bar{\\phi}\\in \\mathbf{Is(\\mathcal{T}^*)}}\\parallel\\phi-\\bar\\phi\\parallel^2_\\pi$$\n",
    "\n",
    "Similar to the proof of the toy model, we write \n",
    "$h(\\phi,\\rho)=E(f(\\phi, R))=E(\\tilde{A}\\phi^*+\\tilde{b})=E[\\tilde{A}(\\phi-\\phi^*)]+E[\\tilde{A}\\phi^*+\\tilde{b}]=E[\\tilde{A}(\\phi-\\phi^*)]$, by the definition of $h$.\n",
    "\n",
    "here $E(\\tilde{A})=A^TVA$, and $E[\\tilde{A}(\\phi-\\phi^*)]=A^TVA(\\phi-\\phi^*)$, so the integral above can be written as:\n",
    "$$\n",
    "\\begin{aligned}\n",
    "\\int(\\phi-\\phi^*)\\cdot h(\\phi, R)\\pi(d\\rho)\n",
    "&=\\int(\\phi-\\phi^*)A^TVA(\\phi-\\phi^*)\\pi(d\\rho)\\\\\n",
    "&\\geq \\lambda_{min}\\|\\phi-\\phi^*\\|^2\\\\\n",
    "&\\geq \\lambda_{min}min_{\\bar{\\phi}\\in \\mathcal{Is}(\\mathcal{T^*})}\\|\\phi-\\bar\\phi\\|^2\n",
    "\\end{aligned},\n",
    "$$\n",
    "where $\\lambda_{min}>0$ is the minimum enginvalue of $A^TVA$, which is a positive definite matrix."
   ]
  },
  {
   "cell_type": "code",
   "execution_count": null,
   "metadata": {},
   "outputs": [],
   "source": []
  }
 ],
 "metadata": {
  "kernelspec": {
   "display_name": "Python 3",
   "language": "python",
   "name": "python3"
  },
  "language_info": {
   "codemirror_mode": {
    "name": "ipython",
    "version": 3
   },
   "file_extension": ".py",
   "mimetype": "text/x-python",
   "name": "python",
   "nbconvert_exporter": "python",
   "pygments_lexer": "ipython3",
   "version": "3.7.7"
  }
 },
 "nbformat": 4,
 "nbformat_minor": 4
}

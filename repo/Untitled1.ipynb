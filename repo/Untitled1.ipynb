{
 "cells": [
  {
   "cell_type": "code",
   "execution_count": null,
   "metadata": {},
   "outputs": [],
   "source": [
    "def choose(n , k):\n",
    "    #implement \n",
    "    \"\"\"\n",
    "    n!/(k!(n-k)!)\n",
    "    n*(n-1)*...(n-k+1)\n",
    "    \"\"\"\n",
    "    res = 1\n",
    "    if k==n: return 1\n",
    "    for i in range(n-k+1,n+1):\n",
    "        res *= i\n",
    "    for j in range(1,k+1):\n",
    "        res //= j\n",
    "    return res\n",
    "\n",
    "print(choose(5,2))\n",
    "\n",
    "def solve(A):\n",
    "    a_sorted = sorted(A)\n",
    "    n = len(A)\n",
    "    return sum([a_sorted[2*n-i-1] - a_sorted[i] for i in range(n)])*choose(2*n, n)\n",
    "\n",
    "\n",
    "Your previous Plain Text content is preserved below:\n",
    "\n",
    "\n",
    "\n",
    "Given an array A of length 2n. Consider the following split: We will partition A into two subsequences, x and y, each of length n. Then, sort x in ascending order, and y in descending order, let's call the ordered arrays p and q respectively. Then we define the function:\n",
    "\n",
    "f(p, q) = sum_{i=1}^n | p[i] - q[i] | = |p-q|_1\n",
    "\n",
    "\n",
    "Sum f(p,q) over all valid p,q\n",
    "\n",
    "\n",
    "f(p,q)\n",
    "[1,2,3,4,5,6]\n",
    "[1,3,4] [2,5,6] -> [1,3,4] & [6,5,2] -> 5 + 2 + 2 = 9\n",
    "[1,3,5] [2,4,6] -> [1,3,5] [6,4,2]\n",
    "\n",
    "\n",
    "Choose(2n, n) * c\n",
    "\n",
    "Example:\n",
    "\n",
    "Consider array [2,1,2,1]. One possible valid split is [2,1] (index 0,3) and [1,2] (index 1,2). Sort the first in ascending and second in descending and you get [1,2] and [2,1] respectively. Then the value of the function f is |1-2| + |2-1| = 1+1=2\n",
    "\n",
    "Another partition is [2,2] and [1,1]. Sort to get [2,2] and [1,1]. Then the function is |2-1|+|2-1| = 2. \n",
    "\n",
    "Question: \n",
    "Find the sum of f(p,q) over all correct splits of array A. Since the answer might be too big, print its remainder modulo 998244353 (this is a prime number). \n",
    "\n",
    "C_{2n}^{n}"
   ]
  }
 ],
 "metadata": {
  "kernelspec": {
   "display_name": "Python 3",
   "language": "python",
   "name": "python3"
  },
  "language_info": {
   "codemirror_mode": {
    "name": "ipython",
    "version": 3
   },
   "file_extension": ".py",
   "mimetype": "text/x-python",
   "name": "python",
   "nbconvert_exporter": "python",
   "pygments_lexer": "ipython3",
   "version": "3.7.7"
  }
 },
 "nbformat": 4,
 "nbformat_minor": 4
}

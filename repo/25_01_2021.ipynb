{
 "cells": [
  {
   "cell_type": "code",
   "execution_count": 3,
   "metadata": {},
   "outputs": [],
   "source": [
    "import numpy as np\n",
    "import scipy \n",
    "import scipy.linalg\n",
    "import matplotlib.pyplot as plt\n",
    "from scipy.integrate import quad\n",
    "from tqdm import tqdm,trange"
   ]
  },
  {
   "cell_type": "markdown",
   "metadata": {},
   "source": [
    "|  | min   | max  | average  | stdev  |\n",
    "|---------------------|---|---|---|---|\n",
    "| $\\sigma_{i,\\infty}^2$ | 0.00060%  | 0.05150% | 0.01770%  | 0.01440% |\n",
    "| $\\alpha_i$  | 0.0329  | 0.0955 | 0.0622 | 0.0242 |\n",
    "| $\\beta_i$  | 0.8855  | 0.9656  | 0.9306 | 0.0271 |\n",
    "| $\\omega_i$  | 0.0000032% | 0.0004320% | 0.0001350%| 0.0001370% |\n",
    "| $\\rho_{i, j}$  | -22%  | 82%  | 10& | 22% |\n",
    "| $p_{max,i}$  | 1.83  |5.72 | 3.34 | 1.22 |\n",
    "| $t_{1/2,i}$  | 36.21 | 437.17 | 135.78 | 98.52 |"
   ]
  },
  {
   "cell_type": "markdown",
   "metadata": {},
   "source": [
    "$$r_t=D_t\\Gamma^{1/2}\\eta_t=D_t\\tilde{\\eta_t},$$ $$V_t=D_t\\Gamma D_t,$$\n",
    "$$\\sigma_{i,t}^2 = \\omega_{i,t}+\\alpha_ir_{i,t-1}^2+\\beta_i\\alpha_{i,t-1}^2=(1, r_{i,t-1}^2, \\sigma_{i,t-1}^2)\\theta_i, \\, \\theta_i=(\\omega_i, \\alpha_i, \\beta_i)^T$$"
   ]
  },
  {
   "cell_type": "markdown",
   "metadata": {},
   "source": [
    "### Robins Monro with $\\theta$ constant"
   ]
  },
  {
   "cell_type": "code",
   "execution_count": 4,
   "metadata": {},
   "outputs": [],
   "source": [
    "theta = np.array([1.35e-6, 0.0622, 0.9306])\n",
    "d = 3"
   ]
  },
  {
   "cell_type": "code",
   "execution_count": 5,
   "metadata": {},
   "outputs": [],
   "source": [
    "def R_simulator(R0, sigma2_0, theta, Gamma):\n",
    "    ones = np.ones((d,1))\n",
    "    g = np.hstack((ones, R0**2, sigma2_0))\n",
    "    sigma2 = g.dot(theta)\n",
    "    D = np.diag(np.sqrt(sigma2))\n",
    "    eta = np.sqrt(Gamma).dot(np.random.randn(d))  \n",
    "    return D.dot(eta)"
   ]
  },
  {
   "cell_type": "code",
   "execution_count": 6,
   "metadata": {},
   "outputs": [
    {
     "data": {
      "text/plain": [
       "array([[1., 1.],\n",
       "       [1., 1.],\n",
       "       [1., 1.]])"
      ]
     },
     "execution_count": 6,
     "metadata": {},
     "output_type": "execute_result"
    }
   ],
   "source": [
    "np.hstack((np.ones((d,1)),np.ones((d,1))))"
   ]
  },
  {
   "cell_type": "code",
   "execution_count": 7,
   "metadata": {},
   "outputs": [],
   "source": [
    "from scipy.stats import random_correlation"
   ]
  },
  {
   "cell_type": "code",
   "execution_count": 27,
   "metadata": {},
   "outputs": [
    {
     "data": {
      "text/plain": [
       "array([[1.        , 0.49646919, 0.08613933],\n",
       "       [0.49646919, 1.        , 0.02685145],\n",
       "       [0.08613933, 0.02685145, 1.        ]])"
      ]
     },
     "execution_count": 27,
     "metadata": {},
     "output_type": "execute_result"
    }
   ],
   "source": [
    "np.random.seed(123)\n",
    "corr = np.diag(np.ones(d))\n",
    "for i in range(d):\n",
    "    for j in range(i+1, d):\n",
    "        corr[i, j] = corr[j, i] = np.random.uniform(-0.2, 0.8)\n",
    "corr"
   ]
  },
  {
   "cell_type": "code",
   "execution_count": 28,
   "metadata": {},
   "outputs": [
    {
     "data": {
      "text/plain": [
       "array([0.49997036, 0.99097736, 1.50905228])"
      ]
     },
     "execution_count": 28,
     "metadata": {},
     "output_type": "execute_result"
    }
   ],
   "source": [
    "import scipy.linalg\n",
    "e, v = scipy.linalg.eigh(corr)\n",
    "e"
   ]
  },
  {
   "cell_type": "code",
   "execution_count": null,
   "metadata": {},
   "outputs": [],
   "source": []
  }
 ],
 "metadata": {
  "kernelspec": {
   "display_name": "Python 3",
   "language": "python",
   "name": "python3"
  },
  "language_info": {
   "codemirror_mode": {
    "name": "ipython",
    "version": 3
   },
   "file_extension": ".py",
   "mimetype": "text/x-python",
   "name": "python",
   "nbconvert_exporter": "python",
   "pygments_lexer": "ipython3",
   "version": "3.7.7"
  }
 },
 "nbformat": 4,
 "nbformat_minor": 4
}

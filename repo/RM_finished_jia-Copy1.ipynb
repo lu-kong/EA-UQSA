{
 "cells": [
  {
   "cell_type": "markdown",
   "metadata": {},
   "source": [
    "### 3.1 Simple Robbins Monro"
   ]
  },
  {
   "cell_type": "markdown",
   "metadata": {},
   "source": [
    "Write the first order budget constraint as :$$F(w) = E[(R-\\mu)(R-\\mu)']w + \\lambda \\mathbf{1}_n = Sw + \\lambda \\mathbf{1}_n=0,$$ \n",
    "We can write $F(w) = E(f(w, R)),$ where $$f(w,R) = (R-\\mu)(R-\\mu)'w + \\lambda\\mathbf{1}_n$$\n",
    "We can easily verify the 2 assumptions: \n",
    "\n",
    "* if $w*$ is the solution, $\\forall w\\in \\mathbb{R}^n$,\n",
    "\\begin{eqnarray}\n",
    " \\langle w - w*, F(w)\\rangle &=& \\langle w-w*, Sw + \\lambda \\mathbf{1}_n\\rangle \\\\\n",
    " &=& \\langle w-w*, S(w-w*) + Sw*+ \\lambda \\mathbf{1}_n\\rangle \\\\\n",
    " &=&\\langle w-w*, S(w-w*)\\rangle >0\n",
    "\\end{eqnarray}\n",
    "\n",
    "\n",
    "* $\\forall w\\in \\mathbb{R}^n, E(f^2(w, R)) = E(w^TA^2w+2w^TA\\cdot\\lambda\\mathbf{1}_n+n\\lambda^2\\leq C(1+|w|^2),$where$A = (R-\\mu)(R-\\mu)',$ when $C$ is quite large. "
   ]
  },
  {
   "cell_type": "code",
   "execution_count": 60,
   "metadata": {},
   "outputs": [],
   "source": [
    "import numpy as np\n",
    "import scipy \n",
    "import scipy.linalg\n",
    "import matplotlib.pyplot as plt\n",
    "from tqdm import tqdm"
   ]
  },
  {
   "cell_type": "code",
   "execution_count": 104,
   "metadata": {},
   "outputs": [],
   "source": [
    "n = 3\n",
    "mu = np.array([.05, .07, .06])  # R~ N(mu, S)\n",
    "D = np.diag([.1, .14, .2])      # S = DKD\n",
    "rho = 0.5\n",
    "K = np.array([[1, rho, 0],\n",
    "             [rho, 1, rho],\n",
    "             [0, rho, 1]])\n",
    "lambd = 0.3\n",
    "S = np.matmul(np.matmul(D, K), D)"
   ]
  },
  {
   "cell_type": "code",
   "execution_count": 105,
   "metadata": {},
   "outputs": [],
   "source": [
    "def f(w, R, lambd = lambd):\n",
    "    \"\"\"\n",
    "    function for Robbins Monro regression\n",
    "        E[f(w,R)] = F(w) = 0 \n",
    "    \n",
    "    inputs :\n",
    "            w :   w_n-1 in the regression\n",
    "            R :   A random vector to perform the RM\n",
    "        lambd :   eigenvalue default by 0.3\n",
    "    return : f(w,R)\n",
    "    \"\"\"\n",
    "    t1 = R.reshape(n, 1)   # reshape R^n vectors into col-vectors\n",
    "    t2 = mu.reshape(n, 1)\n",
    "    return np.matmul((t1 - t2)*((t1 - t2).T), w) + lambd*np.ones((n, 1))"
   ]
  },
  {
   "cell_type": "code",
   "execution_count": 106,
   "metadata": {},
   "outputs": [],
   "source": [
    "def plot_hist(h):\n",
    "    hh = np.array(h)\n",
    "    plt.plot(hh[:10000,1])\n",
    "    plt.ylim(-1.,1.)\n",
    "    plt.show()\n",
    "def theory_answer(S):\n",
    "    inv = np.linalg.inv(S)\n",
    "    w = np.matmul(inv, np.ones((n, 1)))/np.sum(inv)\n",
    "    return w"
   ]
  },
  {
   "cell_type": "code",
   "execution_count": 112,
   "metadata": {},
   "outputs": [
    {
     "name": "stderr",
     "output_type": "stream",
     "text": [
      "100%|█████████████████████████████████████████████████████████████████████| 1000000/1000000 [00:18<00:00, 53180.68it/s]\n"
     ]
    },
    {
     "data": {
      "image/png": "[encoded data removed]",
      "text/plain": [
       "<Figure size 432x288 with 1 Axes>"
      ]
     },
     "metadata": {
      "needs_background": "light"
     },
     "output_type": "display_data"
    },
    {
     "name": "stdout",
     "output_type": "stream",
     "text": [
      "final result is \n",
      " [[ 0.19879623]\n",
      " [-0.18758725]\n",
      " [ 0.98879103]]\n",
      "compare with the theory result \n",
      " [[ 0.1941563 ]\n",
      " [-0.19650796]\n",
      " [ 1.00235165]]\n"
     ]
    }
   ],
   "source": [
    "def Robbins_Monro_Regression(N = 10000, alpha = 0.6):\n",
    "    R = np.random.multivariate_normal(mu, S, N)\n",
    "    x = np.random.random(n)\n",
    "    x = x/np.sum(x)\n",
    "    w = [x.reshape(n,1)]     # initialization with equal value\n",
    "    w_hist = [x.reshape(n,1)]\n",
    "    rg = range(N)\n",
    "    if N > 1e4 :\n",
    "        rg = tqdm(rg)\n",
    "    for i in rg:\n",
    "        w_tmp = w[-1] - 10.*f(w[-1], R[i])/np.power(i+1,alpha)\n",
    "        w.append(w_tmp)\n",
    "        w_hist.append(w_tmp/np.sum(w_tmp))\n",
    "    plot_hist(w_hist)\n",
    "    print(\"final result is \\n {}\".format(w[-1]/np.sum(w[-1])))\n",
    "    print(\"compare with the theory result \\n {}\".format(theory_answer(S)))\n",
    "    return w[-1]/np.sum(w[-1]),w,w_hist\n",
    "x,_,_ = Robbins_Monro_Regression(N = 1000000,alpha = 0.6)"
   ]
  },
  {
   "cell_type": "markdown",
   "metadata": {},
   "source": [
    "## 3.2"
   ]
  },
  {
   "cell_type": "code",
   "execution_count": 109,
   "metadata": {},
   "outputs": [],
   "source": [
    "def S_rho(rho):\n",
    "    D = np.diag([.1, .14, .02])\n",
    "    # rho = 0.5\n",
    "    K = np.array([[1, rho, 0],\n",
    "                 [rho, 1, rho],\n",
    "                 [0, rho, 1]])\n",
    "    S = np.matmul(np.matmul(D, K), D)\n",
    "    return S"
   ]
  },
  {
   "cell_type": "code",
   "execution_count": 110,
   "metadata": {},
   "outputs": [],
   "source": [
    "def UQSA( mu, rho_min, rho_max, Mk, u0 = '', K = 10000, mk = 10, n=3,step_multi = 1.0):\n",
    "    if u0=='' : \n",
    "        u0 = np.random.randn(mk,n)\n",
    "    u = np.zeros(shape = (mk,n))    \n",
    "    assert len(u0) == mk\n",
    "    \n",
    "    Legendre_basis = [np.polynomial.legendre.Legendre.basis(deg=i,domain=np.array([rho_min, rho_max])) for i in range(mk)]\n",
    "        \n",
    "    def W(rho,u0,Legendre_basis = Legendre_basis):\n",
    "        return np.sum([u0[j]*Legendre_basis[j](rho) for j in range(mk)],axis = 0)\n",
    "    \n",
    "    for k in tqdm(range(K)):\n",
    "        \n",
    "        rho = []\n",
    "        R = []\n",
    "        for s in range(Mk):\n",
    "            r = np.random.uniform(low = rho_min, high = rho_max)\n",
    "            rho.append(r)\n",
    "            S = S_rho(r)\n",
    "            R.append(np.random.multivariate_normal(mu, S))\n",
    "            \n",
    "        for i in range(mk):\n",
    "            expect = 0.0\n",
    "            for s in range(Mk):\n",
    "                w = W(rho[s],u0)\n",
    "                w = w.reshape(n,1)\n",
    "                expect = expect + f(w,R[s])*Legendre_basis[i](rho[s])\n",
    "            expect = expect.reshape(1,n) / Mk\n",
    "            \n",
    "            u[i] = u0[i] - step_multi * expect/(k+1)\n",
    "            \n",
    "        u0 = u\n",
    "#     Sum = np.sum(u)\n",
    "#     return [x/np.sum(x) for x in u]  #TODO as projection of A to be defined\n",
    "    return u"
   ]
  },
  {
   "cell_type": "code",
   "execution_count": 37,
   "metadata": {},
   "outputs": [
    {
     "name": "stderr",
     "output_type": "stream",
     "text": [
      "  0%|                                                                                          | 0/100 [00:00<?, ?it/s]<ipython-input-35-951d0cbce78a>:20: RuntimeWarning: covariance is not positive-semidefinite.\n",
      "  R.append(np.random.multivariate_normal(mu, S))\n",
      "100%|████████████████████████████████████████████████████████████████████████████████| 100/100 [00:24<00:00,  4.12it/s]\n"
     ]
    },
    {
     "data": {
      "text/plain": [
       "array([[ 0.23844418, -0.85760997, -1.71356754],\n",
       "       [ 1.05490993,  0.59453913,  1.2550954 ],\n",
       "       [-0.37243051, -1.09821084,  2.11208442],\n",
       "       [ 0.43663043, -2.51738529, -0.76649079],\n",
       "       [-0.98746184, -2.84264178,  0.85688883],\n",
       "       [ 1.08766823, -0.49721432, -0.64768025],\n",
       "       [-0.26710926, -0.58081462,  2.93931166],\n",
       "       [-1.11645207, -0.56227068, -1.53482016],\n",
       "       [ 1.34725873,  0.8042765 ,  0.65439833],\n",
       "       [ 0.09696422,  0.45687061,  0.03869902],\n",
       "       [ 0.98976388,  0.91928707,  0.55470719],\n",
       "       [ 0.54315826, -0.92891295, -1.40855926]])"
      ]
     },
     "execution_count": 37,
     "metadata": {},
     "output_type": "execute_result"
    }
   ],
   "source": [
    "UQSA(mu, 0.6,0.8,100,K = 100)"
   ]
  },
  {
   "cell_type": "code",
   "execution_count": 118,
   "metadata": {},
   "outputs": [],
   "source": [
    "def result_UQSA(r, mk, K = 100):\n",
    "    u = UQSA(mu, 0.6,0.8,100, mk = mk, K = K)\n",
    "    B = [np.polynomial.legendre.Legendre.basis(deg=i,domain=np.array([0.6, 0.8])) for i in range(mk)]\n",
    "    result = np.zeros(3)\n",
    "    for j in range(mk):\n",
    "        result = result + B[j](r)*u[j]\n",
    "    return result/np.sum(result)\n",
    "        "
   ]
  },
  {
   "cell_type": "code",
   "execution_count": 119,
   "metadata": {},
   "outputs": [
    {
     "name": "stderr",
     "output_type": "stream",
     "text": [
      "  0%|                                                                                          | 0/500 [00:00<?, ?it/s]C:\\Users\\konglulu\\.conda\\envs\\tf_gpu\\lib\\site-packages\\ipykernel_launcher.py:20: RuntimeWarning: covariance is not positive-semidefinite.\n",
      "100%|████████████████████████████████████████████████████████████████████████████████| 500/500 [01:23<00:00,  6.00it/s]\n"
     ]
    },
    {
     "data": {
      "text/plain": [
       "array([0.19088136, 0.22332848, 0.58579016])"
      ]
     },
     "execution_count": 119,
     "metadata": {},
     "output_type": "execute_result"
    }
   ],
   "source": [
    "result_UQSA(0.7, 10,500)"
   ]
  },
  {
   "cell_type": "code",
   "execution_count": 111,
   "metadata": {},
   "outputs": [
    {
     "data": {
      "image/png": "[encoded data removed]",
      "text/plain": [
       "<Figure size 432x288 with 1 Axes>"
      ]
     },
     "metadata": {
      "needs_background": "light"
     },
     "output_type": "display_data"
    },
    {
     "name": "stdout",
     "output_type": "stream",
     "text": [
      "final result is \n",
      " [[ 0.24493223]\n",
      " [-0.0944143 ]\n",
      " [ 0.84948207]]\n",
      "compare with the theory result \n",
      " [[ 0.1941563 ]\n",
      " [-0.19650796]\n",
      " [ 1.00235165]]\n"
     ]
    }
   ],
   "source": [
    "S = S_rho(rho=0.7)\n",
    "_,_,_ = Robbins_Monro_Regression(alpha=0.6)"
   ]
  },
  {
   "cell_type": "code",
   "execution_count": null,
   "metadata": {},
   "outputs": [],
   "source": []
  }
 ],
 "metadata": {
  "kernelspec": {
   "display_name": "Python 3",
   "language": "python",
   "name": "python3"
  },
  "language_info": {
   "codemirror_mode": {
    "name": "ipython",
    "version": 3
   },
   "file_extension": ".py",
   "mimetype": "text/x-python",
   "name": "python",
   "nbconvert_exporter": "python",
   "pygments_lexer": "ipython3",
   "version": "3.7.7"
  }
 },
 "nbformat": 4,
 "nbformat_minor": 4
}
